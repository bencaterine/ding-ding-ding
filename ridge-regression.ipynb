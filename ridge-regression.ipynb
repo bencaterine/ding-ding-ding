{
 "cells": [
  {
   "cell_type": "code",
   "execution_count": 1,
   "id": "e54ec4c1",
   "metadata": {},
   "outputs": [],
   "source": [
    "import pandas as pd\n",
    "import numpy as np\n",
    "import seaborn as sns\n",
    "import matplotlib.pyplot as plt\n",
    "from sklearn.linear_model import Ridge, RidgeCV, Lasso, LassoCV\n",
    "from sklearn.preprocessing import StandardScaler \n",
    "from sklearn.metrics import r2_score\n",
    "from sklearn.model_selection import train_test_split\n",
    "import time"
   ]
  },
  {
   "cell_type": "code",
   "execution_count": 2,
   "id": "a4d0af14",
   "metadata": {},
   "outputs": [],
   "source": [
    "tic = time.time()"
   ]
  },
  {
   "cell_type": "code",
   "execution_count": 3,
   "id": "ad3322df",
   "metadata": {},
   "outputs": [
    {
     "data": {
      "text/html": [
       "<div>\n",
       "<style scoped>\n",
       "    .dataframe tbody tr th:only-of-type {\n",
       "        vertical-align: middle;\n",
       "    }\n",
       "\n",
       "    .dataframe tbody tr th {\n",
       "        vertical-align: top;\n",
       "    }\n",
       "\n",
       "    .dataframe thead th {\n",
       "        text-align: right;\n",
       "    }\n",
       "</style>\n",
       "<table border=\"1\" class=\"dataframe\">\n",
       "  <thead>\n",
       "    <tr style=\"text-align: right;\">\n",
       "      <th></th>\n",
       "      <th>airline</th>\n",
       "      <th>day</th>\n",
       "      <th>day_of_week</th>\n",
       "      <th>departure_delay</th>\n",
       "      <th>destination_airport</th>\n",
       "      <th>destination_latitude</th>\n",
       "      <th>destination_longitude</th>\n",
       "      <th>distance</th>\n",
       "      <th>month</th>\n",
       "      <th>origin_airport</th>\n",
       "      <th>...</th>\n",
       "      <th>scheduled_arrival</th>\n",
       "      <th>scheduled_departure</th>\n",
       "      <th>scheduled_time</th>\n",
       "      <th>state_destination</th>\n",
       "      <th>state_origin</th>\n",
       "      <th>taxi_in</th>\n",
       "      <th>taxi_out</th>\n",
       "      <th>day_of_year</th>\n",
       "      <th>origin_temperature</th>\n",
       "      <th>destination_temperature</th>\n",
       "    </tr>\n",
       "  </thead>\n",
       "  <tbody>\n",
       "    <tr>\n",
       "      <th>0</th>\n",
       "      <td>AS</td>\n",
       "      <td>1</td>\n",
       "      <td>4</td>\n",
       "      <td>-11.0</td>\n",
       "      <td>SEA</td>\n",
       "      <td>47.44898</td>\n",
       "      <td>-122.30931</td>\n",
       "      <td>1448</td>\n",
       "      <td>1</td>\n",
       "      <td>ANC</td>\n",
       "      <td>...</td>\n",
       "      <td>270</td>\n",
       "      <td>5</td>\n",
       "      <td>205.0</td>\n",
       "      <td>WA</td>\n",
       "      <td>AK</td>\n",
       "      <td>4.0</td>\n",
       "      <td>21.0</td>\n",
       "      <td>1</td>\n",
       "      <td>35.2</td>\n",
       "      <td>32.9</td>\n",
       "    </tr>\n",
       "    <tr>\n",
       "      <th>1</th>\n",
       "      <td>AS</td>\n",
       "      <td>1</td>\n",
       "      <td>4</td>\n",
       "      <td>-4.0</td>\n",
       "      <td>SEA</td>\n",
       "      <td>47.44898</td>\n",
       "      <td>-122.30931</td>\n",
       "      <td>1448</td>\n",
       "      <td>1</td>\n",
       "      <td>ANC</td>\n",
       "      <td>...</td>\n",
       "      <td>309</td>\n",
       "      <td>45</td>\n",
       "      <td>204.0</td>\n",
       "      <td>WA</td>\n",
       "      <td>AK</td>\n",
       "      <td>4.0</td>\n",
       "      <td>17.0</td>\n",
       "      <td>1</td>\n",
       "      <td>35.2</td>\n",
       "      <td>32.9</td>\n",
       "    </tr>\n",
       "    <tr>\n",
       "      <th>2</th>\n",
       "      <td>DL</td>\n",
       "      <td>1</td>\n",
       "      <td>4</td>\n",
       "      <td>-14.0</td>\n",
       "      <td>SEA</td>\n",
       "      <td>47.44898</td>\n",
       "      <td>-122.30931</td>\n",
       "      <td>1448</td>\n",
       "      <td>1</td>\n",
       "      <td>ANC</td>\n",
       "      <td>...</td>\n",
       "      <td>315</td>\n",
       "      <td>45</td>\n",
       "      <td>210.0</td>\n",
       "      <td>WA</td>\n",
       "      <td>AK</td>\n",
       "      <td>4.0</td>\n",
       "      <td>25.0</td>\n",
       "      <td>1</td>\n",
       "      <td>35.2</td>\n",
       "      <td>32.9</td>\n",
       "    </tr>\n",
       "    <tr>\n",
       "      <th>3</th>\n",
       "      <td>AS</td>\n",
       "      <td>1</td>\n",
       "      <td>4</td>\n",
       "      <td>-15.0</td>\n",
       "      <td>SEA</td>\n",
       "      <td>47.44898</td>\n",
       "      <td>-122.30931</td>\n",
       "      <td>1448</td>\n",
       "      <td>1</td>\n",
       "      <td>ANC</td>\n",
       "      <td>...</td>\n",
       "      <td>393</td>\n",
       "      <td>115</td>\n",
       "      <td>218.0</td>\n",
       "      <td>WA</td>\n",
       "      <td>AK</td>\n",
       "      <td>11.0</td>\n",
       "      <td>17.0</td>\n",
       "      <td>1</td>\n",
       "      <td>35.2</td>\n",
       "      <td>32.9</td>\n",
       "    </tr>\n",
       "    <tr>\n",
       "      <th>4</th>\n",
       "      <td>AS</td>\n",
       "      <td>1</td>\n",
       "      <td>4</td>\n",
       "      <td>-11.0</td>\n",
       "      <td>SEA</td>\n",
       "      <td>47.44898</td>\n",
       "      <td>-122.30931</td>\n",
       "      <td>1448</td>\n",
       "      <td>1</td>\n",
       "      <td>ANC</td>\n",
       "      <td>...</td>\n",
       "      <td>400</td>\n",
       "      <td>140</td>\n",
       "      <td>200.0</td>\n",
       "      <td>WA</td>\n",
       "      <td>AK</td>\n",
       "      <td>8.0</td>\n",
       "      <td>15.0</td>\n",
       "      <td>1</td>\n",
       "      <td>35.2</td>\n",
       "      <td>32.9</td>\n",
       "    </tr>\n",
       "    <tr>\n",
       "      <th>...</th>\n",
       "      <td>...</td>\n",
       "      <td>...</td>\n",
       "      <td>...</td>\n",
       "      <td>...</td>\n",
       "      <td>...</td>\n",
       "      <td>...</td>\n",
       "      <td>...</td>\n",
       "      <td>...</td>\n",
       "      <td>...</td>\n",
       "      <td>...</td>\n",
       "      <td>...</td>\n",
       "      <td>...</td>\n",
       "      <td>...</td>\n",
       "      <td>...</td>\n",
       "      <td>...</td>\n",
       "      <td>...</td>\n",
       "      <td>...</td>\n",
       "      <td>...</td>\n",
       "      <td>...</td>\n",
       "      <td>...</td>\n",
       "      <td>...</td>\n",
       "    </tr>\n",
       "    <tr>\n",
       "      <th>4031914</th>\n",
       "      <td>EV</td>\n",
       "      <td>27</td>\n",
       "      <td>5</td>\n",
       "      <td>77.0</td>\n",
       "      <td>ROA</td>\n",
       "      <td>37.32547</td>\n",
       "      <td>-79.97543</td>\n",
       "      <td>357</td>\n",
       "      <td>11</td>\n",
       "      <td>ATL</td>\n",
       "      <td>...</td>\n",
       "      <td>648</td>\n",
       "      <td>565</td>\n",
       "      <td>83.0</td>\n",
       "      <td>VA</td>\n",
       "      <td>GA</td>\n",
       "      <td>3.0</td>\n",
       "      <td>9.0</td>\n",
       "      <td>331</td>\n",
       "      <td>59.7</td>\n",
       "      <td>49.4</td>\n",
       "    </tr>\n",
       "    <tr>\n",
       "      <th>4031915</th>\n",
       "      <td>EV</td>\n",
       "      <td>27</td>\n",
       "      <td>5</td>\n",
       "      <td>-6.0</td>\n",
       "      <td>ROA</td>\n",
       "      <td>37.32547</td>\n",
       "      <td>-79.97543</td>\n",
       "      <td>357</td>\n",
       "      <td>11</td>\n",
       "      <td>ATL</td>\n",
       "      <td>...</td>\n",
       "      <td>985</td>\n",
       "      <td>902</td>\n",
       "      <td>83.0</td>\n",
       "      <td>VA</td>\n",
       "      <td>GA</td>\n",
       "      <td>5.0</td>\n",
       "      <td>21.0</td>\n",
       "      <td>331</td>\n",
       "      <td>59.7</td>\n",
       "      <td>49.4</td>\n",
       "    </tr>\n",
       "    <tr>\n",
       "      <th>4031916</th>\n",
       "      <td>DL</td>\n",
       "      <td>27</td>\n",
       "      <td>5</td>\n",
       "      <td>-1.0</td>\n",
       "      <td>ROA</td>\n",
       "      <td>37.32547</td>\n",
       "      <td>-79.97543</td>\n",
       "      <td>357</td>\n",
       "      <td>11</td>\n",
       "      <td>ATL</td>\n",
       "      <td>...</td>\n",
       "      <td>1162</td>\n",
       "      <td>1079</td>\n",
       "      <td>83.0</td>\n",
       "      <td>VA</td>\n",
       "      <td>GA</td>\n",
       "      <td>6.0</td>\n",
       "      <td>22.0</td>\n",
       "      <td>331</td>\n",
       "      <td>59.7</td>\n",
       "      <td>49.4</td>\n",
       "    </tr>\n",
       "    <tr>\n",
       "      <th>4031917</th>\n",
       "      <td>EV</td>\n",
       "      <td>19</td>\n",
       "      <td>6</td>\n",
       "      <td>88.0</td>\n",
       "      <td>ABE</td>\n",
       "      <td>40.65236</td>\n",
       "      <td>-75.44040</td>\n",
       "      <td>692</td>\n",
       "      <td>12</td>\n",
       "      <td>ATL</td>\n",
       "      <td>...</td>\n",
       "      <td>934</td>\n",
       "      <td>821</td>\n",
       "      <td>113.0</td>\n",
       "      <td>PA</td>\n",
       "      <td>GA</td>\n",
       "      <td>3.0</td>\n",
       "      <td>22.0</td>\n",
       "      <td>353</td>\n",
       "      <td>37.8</td>\n",
       "      <td>35.6</td>\n",
       "    </tr>\n",
       "    <tr>\n",
       "      <th>4031918</th>\n",
       "      <td>EV</td>\n",
       "      <td>19</td>\n",
       "      <td>6</td>\n",
       "      <td>-2.0</td>\n",
       "      <td>ABE</td>\n",
       "      <td>40.65236</td>\n",
       "      <td>-75.44040</td>\n",
       "      <td>692</td>\n",
       "      <td>12</td>\n",
       "      <td>ATL</td>\n",
       "      <td>...</td>\n",
       "      <td>1378</td>\n",
       "      <td>1260</td>\n",
       "      <td>118.0</td>\n",
       "      <td>PA</td>\n",
       "      <td>GA</td>\n",
       "      <td>3.0</td>\n",
       "      <td>25.0</td>\n",
       "      <td>353</td>\n",
       "      <td>37.8</td>\n",
       "      <td>35.6</td>\n",
       "    </tr>\n",
       "  </tbody>\n",
       "</table>\n",
       "<p>4031919 rows × 22 columns</p>\n",
       "</div>"
      ],
      "text/plain": [
       "        airline  day  day_of_week  departure_delay destination_airport  \\\n",
       "0            AS    1            4            -11.0                 SEA   \n",
       "1            AS    1            4             -4.0                 SEA   \n",
       "2            DL    1            4            -14.0                 SEA   \n",
       "3            AS    1            4            -15.0                 SEA   \n",
       "4            AS    1            4            -11.0                 SEA   \n",
       "...         ...  ...          ...              ...                 ...   \n",
       "4031914      EV   27            5             77.0                 ROA   \n",
       "4031915      EV   27            5             -6.0                 ROA   \n",
       "4031916      DL   27            5             -1.0                 ROA   \n",
       "4031917      EV   19            6             88.0                 ABE   \n",
       "4031918      EV   19            6             -2.0                 ABE   \n",
       "\n",
       "         destination_latitude  destination_longitude  distance  month  \\\n",
       "0                    47.44898             -122.30931      1448      1   \n",
       "1                    47.44898             -122.30931      1448      1   \n",
       "2                    47.44898             -122.30931      1448      1   \n",
       "3                    47.44898             -122.30931      1448      1   \n",
       "4                    47.44898             -122.30931      1448      1   \n",
       "...                       ...                    ...       ...    ...   \n",
       "4031914              37.32547              -79.97543       357     11   \n",
       "4031915              37.32547              -79.97543       357     11   \n",
       "4031916              37.32547              -79.97543       357     11   \n",
       "4031917              40.65236              -75.44040       692     12   \n",
       "4031918              40.65236              -75.44040       692     12   \n",
       "\n",
       "        origin_airport  ...  scheduled_arrival  scheduled_departure  \\\n",
       "0                  ANC  ...                270                    5   \n",
       "1                  ANC  ...                309                   45   \n",
       "2                  ANC  ...                315                   45   \n",
       "3                  ANC  ...                393                  115   \n",
       "4                  ANC  ...                400                  140   \n",
       "...                ...  ...                ...                  ...   \n",
       "4031914            ATL  ...                648                  565   \n",
       "4031915            ATL  ...                985                  902   \n",
       "4031916            ATL  ...               1162                 1079   \n",
       "4031917            ATL  ...                934                  821   \n",
       "4031918            ATL  ...               1378                 1260   \n",
       "\n",
       "         scheduled_time  state_destination  state_origin taxi_in taxi_out  \\\n",
       "0                 205.0                 WA            AK     4.0     21.0   \n",
       "1                 204.0                 WA            AK     4.0     17.0   \n",
       "2                 210.0                 WA            AK     4.0     25.0   \n",
       "3                 218.0                 WA            AK    11.0     17.0   \n",
       "4                 200.0                 WA            AK     8.0     15.0   \n",
       "...                 ...                ...           ...     ...      ...   \n",
       "4031914            83.0                 VA            GA     3.0      9.0   \n",
       "4031915            83.0                 VA            GA     5.0     21.0   \n",
       "4031916            83.0                 VA            GA     6.0     22.0   \n",
       "4031917           113.0                 PA            GA     3.0     22.0   \n",
       "4031918           118.0                 PA            GA     3.0     25.0   \n",
       "\n",
       "         day_of_year  origin_temperature  destination_temperature  \n",
       "0                  1                35.2                     32.9  \n",
       "1                  1                35.2                     32.9  \n",
       "2                  1                35.2                     32.9  \n",
       "3                  1                35.2                     32.9  \n",
       "4                  1                35.2                     32.9  \n",
       "...              ...                 ...                      ...  \n",
       "4031914          331                59.7                     49.4  \n",
       "4031915          331                59.7                     49.4  \n",
       "4031916          331                59.7                     49.4  \n",
       "4031917          353                37.8                     35.6  \n",
       "4031918          353                37.8                     35.6  \n",
       "\n",
       "[4031919 rows x 22 columns]"
      ]
     },
     "execution_count": 3,
     "metadata": {},
     "output_type": "execute_result"
    }
   ],
   "source": [
    "flights = pd.read_csv('data/flights_clean.csv')\n",
    "flights"
   ]
  },
  {
   "cell_type": "code",
   "execution_count": 4,
   "id": "547b01c1",
   "metadata": {
    "scrolled": true
   },
   "outputs": [
    {
     "data": {
      "text/plain": [
       "airline                           AS\n",
       "day                                1\n",
       "day_of_week                        4\n",
       "departure_delay                -11.0\n",
       "destination_airport              SEA\n",
       "destination_latitude        47.44898\n",
       "destination_longitude     -122.30931\n",
       "distance                        1448\n",
       "month                              1\n",
       "origin_airport                   ANC\n",
       "origin_latitude             61.17432\n",
       "origin_longitude          -149.99619\n",
       "scheduled_arrival                270\n",
       "scheduled_departure                5\n",
       "scheduled_time                 205.0\n",
       "state_destination                 WA\n",
       "state_origin                      AK\n",
       "taxi_in                          4.0\n",
       "taxi_out                        21.0\n",
       "day_of_year                        1\n",
       "origin_temperature              35.2\n",
       "destination_temperature         32.9\n",
       "Name: 0, dtype: object"
      ]
     },
     "execution_count": 4,
     "metadata": {},
     "output_type": "execute_result"
    }
   ],
   "source": [
    "flights.iloc[0]"
   ]
  },
  {
   "cell_type": "code",
   "execution_count": 5,
   "id": "27cd7fa8",
   "metadata": {},
   "outputs": [],
   "source": [
    "pre_y = flights.departure_delay"
   ]
  },
  {
   "cell_type": "code",
   "execution_count": 6,
   "id": "c2f82273",
   "metadata": {},
   "outputs": [],
   "source": [
    "pre_X = flights.drop(columns=['departure_delay', 'airline', 'destination_airport',\n",
    "                              'origin_airport', 'state_destination', 'state_origin'])"
   ]
  },
  {
   "cell_type": "code",
   "execution_count": 7,
   "id": "4556867e",
   "metadata": {},
   "outputs": [],
   "source": [
    "X, X_test, y, y_test = train_test_split(pre_X, pre_y)"
   ]
  },
  {
   "cell_type": "code",
   "execution_count": 8,
   "id": "74e9af7f",
   "metadata": {},
   "outputs": [],
   "source": [
    "scaler = StandardScaler()\n",
    "scaler.fit(X)\n",
    "Xstd = scaler.transform(X)"
   ]
  },
  {
   "cell_type": "code",
   "execution_count": 9,
   "id": "62ba88ca",
   "metadata": {},
   "outputs": [],
   "source": [
    "alphas = 10**np.linspace(10,-2,200)*0.5"
   ]
  },
  {
   "cell_type": "code",
   "execution_count": 10,
   "id": "3f4bcd84",
   "metadata": {},
   "outputs": [],
   "source": [
    "# Find ridge coeffs for all lambda values\n",
    "coefs = []\n",
    "for a in alphas:        \n",
    "    ridge = Ridge(alpha = a)\n",
    "    ridge.fit(Xstd, y)\n",
    "    coefs.append(ridge.coef_)"
   ]
  },
  {
   "cell_type": "code",
   "execution_count": 11,
   "id": "58e4a789",
   "metadata": {},
   "outputs": [
    {
     "data": {
      "text/plain": [
       "Text(0, 0.5, 'Standardized coefficient')"
      ]
     },
     "execution_count": 11,
     "metadata": {},
     "output_type": "execute_result"
    },
    {
     "data": {
      "image/png": "[encoded data removed]",
      "text/plain": [
       "<Figure size 432x288 with 1 Axes>"
      ]
     },
     "metadata": {
      "needs_background": "light"
     },
     "output_type": "display_data"
    }
   ],
   "source": [
    "# Visualize shrinking regression coefficients with lambda increase\n",
    "plt.xlabel('xlabel', fontsize=18)\n",
    "plt.ylabel('ylabel', fontsize=18)\n",
    "plt.plot(alphas, coefs)\n",
    "plt.xscale('log')\n",
    "plt.xlabel('$\\lambda$')\n",
    "plt.ylabel('Standardized coefficient')"
   ]
  },
  {
   "cell_type": "code",
   "execution_count": 12,
   "id": "15368dc7",
   "metadata": {},
   "outputs": [
    {
     "data": {
      "text/plain": [
       "0.052978008963880795"
      ]
     },
     "execution_count": 12,
     "metadata": {},
     "output_type": "execute_result"
    }
   ],
   "source": [
    "# Cross validation to find optimal lambda\n",
    "alphas = 10**np.linspace(2,-2,200)*0.5\n",
    "ridgecv = RidgeCV(alphas = alphas,store_cv_values=True)\n",
    "ridgecv.fit(Xstd, y)\n",
    "\n",
    "#Optimal value of the tuning parameter - lambda\n",
    "ridgecv.alpha_"
   ]
  },
  {
   "cell_type": "code",
   "execution_count": 13,
   "id": "233f628a",
   "metadata": {},
   "outputs": [
    {
     "data": {
      "text/plain": [
       "Text(0, 0.5, 'Cross-validation error')"
      ]
     },
     "execution_count": 13,
     "metadata": {},
     "output_type": "execute_result"
    },
    {
     "data": {
      "image/png": "[encoded data removed]",
      "text/plain": [
       "<Figure size 432x288 with 1 Axes>"
      ]
     },
     "metadata": {
      "needs_background": "light"
     },
     "output_type": "display_data"
    }
   ],
   "source": [
    "# Visualizing the LOOCV (leave one out cross validatation error vs lambda)\n",
    "plt.xlabel('xlabel', fontsize=18)\n",
    "plt.ylabel('ylabel', fontsize=18)\n",
    "plt.plot(ridgecv.alphas,ridgecv.cv_values_.sum(axis=0))\n",
    "plt.plot([ridgecv.alpha_,ridgecv.alpha_],[4e9,5e9],':')\n",
    "plt.xlabel('$\\lambda$')\n",
    "plt.ylabel('Cross-validation error')"
   ]
  },
  {
   "cell_type": "code",
   "execution_count": 14,
   "id": "4cd70582",
   "metadata": {},
   "outputs": [
    {
     "data": {
      "text/plain": [
       "Text(0, 0.5, 'Standardized coefficient')"
      ]
     },
     "execution_count": 14,
     "metadata": {},
     "output_type": "execute_result"
    },
    {
     "data": {
      "image/png": "[encoded data removed]",
      "text/plain": [
       "<Figure size 432x288 with 1 Axes>"
      ]
     },
     "metadata": {
      "needs_background": "light"
     },
     "output_type": "display_data"
    }
   ],
   "source": [
    "# Visualize with the optimal lambda\n",
    "alphas = 10**np.linspace(10,-2,200)*0.5\n",
    "plt.xlabel('xlabel', fontsize=18)\n",
    "plt.ylabel('ylabel', fontsize=18)\n",
    "plt.plot(alphas, coefs)\n",
    "plt.plot([ridgecv.alpha_,ridgecv.alpha_],[-130,130],':')\n",
    "plt.xscale('log')\n",
    "plt.xlabel('$\\lambda$')\n",
    "plt.ylabel('Standardized coefficient')"
   ]
  },
  {
   "cell_type": "code",
   "execution_count": 15,
   "id": "8296ba03",
   "metadata": {},
   "outputs": [],
   "source": [
    "Xtest_std = scaler.transform(X_test)"
   ]
  },
  {
   "cell_type": "code",
   "execution_count": 16,
   "id": "c33de096",
   "metadata": {},
   "outputs": [],
   "source": [
    "#Using the developed ridge regression model to predict on test data\n",
    "ridge = Ridge(alpha = ridgecv.alpha_)\n",
    "ridge.fit(Xstd, y)\n",
    "pred=ridge.predict(Xtest_std)"
   ]
  },
  {
   "cell_type": "code",
   "execution_count": 17,
   "id": "f545e16f",
   "metadata": {},
   "outputs": [
    {
     "data": {
      "text/plain": [
       "37.62749644382159"
      ]
     },
     "execution_count": 17,
     "metadata": {},
     "output_type": "execute_result"
    }
   ],
   "source": [
    "#RMSE on test data\n",
    "np.sqrt(((pred-y_test)**2).mean())"
   ]
  },
  {
   "cell_type": "code",
   "execution_count": 18,
   "id": "c9ba9e42",
   "metadata": {},
   "outputs": [
    {
     "data": {
      "text/plain": [
       "37.99792751004556"
      ]
     },
     "execution_count": 18,
     "metadata": {},
     "output_type": "execute_result"
    }
   ],
   "source": [
    "y_test.std()"
   ]
  },
  {
   "cell_type": "code",
   "execution_count": 19,
   "id": "2ace7367",
   "metadata": {},
   "outputs": [
    {
     "data": {
      "text/plain": [
       "array([ 9.67336359e+00, -6.99751053e-01, -2.12907868e-01,  4.60353443e-01,\n",
       "       -1.02435141e+00,  1.13271300e+02, -6.68636377e-01,  1.81000536e-01,\n",
       "        1.37272195e+00,  3.53349356e+00,  1.67925016e+00,  5.09408822e-01,\n",
       "        2.02619540e+00, -1.13910823e+02, -8.23230357e-01, -8.38229735e-02])"
      ]
     },
     "execution_count": 19,
     "metadata": {},
     "output_type": "execute_result"
    }
   ],
   "source": [
    "#Checking the coefficients of the ridge regression model\n",
    "ridge.coef_"
   ]
  },
  {
   "cell_type": "code",
   "execution_count": 20,
   "id": "7c0771f0",
   "metadata": {},
   "outputs": [
    {
     "data": {
      "text/plain": [
       "-48.202306464416814"
      ]
     },
     "execution_count": 20,
     "metadata": {},
     "output_type": "execute_result"
    }
   ],
   "source": [
    "#R-squared on train data for the ridge regression model\n",
    "r2_score(ridge.predict(Xstd),y)"
   ]
  },
  {
   "cell_type": "code",
   "execution_count": 21,
   "id": "59d514fe",
   "metadata": {},
   "outputs": [
    {
     "data": {
      "text/plain": [
       "-48.991206934244516"
      ]
     },
     "execution_count": 21,
     "metadata": {},
     "output_type": "execute_result"
    }
   ],
   "source": [
    "#R-squared on test data for the ridge regression model\n",
    "r2_score(pred,y_test)"
   ]
  },
  {
   "cell_type": "code",
   "execution_count": 22,
   "id": "2febfb50",
   "metadata": {},
   "outputs": [
    {
     "data": {
      "text/plain": [
       "133.0717477798462"
      ]
     },
     "execution_count": 22,
     "metadata": {},
     "output_type": "execute_result"
    }
   ],
   "source": [
    "toc = time.time()\n",
    "toc - tic"
   ]
  },
  {
   "cell_type": "code",
   "execution_count": 23,
   "id": "1d00a7d8",
   "metadata": {},
   "outputs": [],
   "source": [
    "tic_dummy = time.time()"
   ]
  },
  {
   "cell_type": "code",
   "execution_count": 24,
   "id": "025180a1",
   "metadata": {},
   "outputs": [
    {
     "data": {
      "text/html": [
       "<div>\n",
       "<style scoped>\n",
       "    .dataframe tbody tr th:only-of-type {\n",
       "        vertical-align: middle;\n",
       "    }\n",
       "\n",
       "    .dataframe tbody tr th {\n",
       "        vertical-align: top;\n",
       "    }\n",
       "\n",
       "    .dataframe thead th {\n",
       "        text-align: right;\n",
       "    }\n",
       "</style>\n",
       "<table border=\"1\" class=\"dataframe\">\n",
       "  <thead>\n",
       "    <tr style=\"text-align: right;\">\n",
       "      <th></th>\n",
       "      <th>day</th>\n",
       "      <th>day_of_week</th>\n",
       "      <th>departure_delay</th>\n",
       "      <th>destination_latitude</th>\n",
       "      <th>destination_longitude</th>\n",
       "      <th>distance</th>\n",
       "      <th>month</th>\n",
       "      <th>origin_latitude</th>\n",
       "      <th>origin_longitude</th>\n",
       "      <th>scheduled_arrival</th>\n",
       "      <th>...</th>\n",
       "      <th>state_origin_SD</th>\n",
       "      <th>state_origin_TN</th>\n",
       "      <th>state_origin_TX</th>\n",
       "      <th>state_origin_UT</th>\n",
       "      <th>state_origin_VA</th>\n",
       "      <th>state_origin_VT</th>\n",
       "      <th>state_origin_WA</th>\n",
       "      <th>state_origin_WI</th>\n",
       "      <th>state_origin_WV</th>\n",
       "      <th>state_origin_WY</th>\n",
       "    </tr>\n",
       "  </thead>\n",
       "  <tbody>\n",
       "    <tr>\n",
       "      <th>3594584</th>\n",
       "      <td>3</td>\n",
       "      <td>2</td>\n",
       "      <td>-4.0</td>\n",
       "      <td>33.94254</td>\n",
       "      <td>-118.40807</td>\n",
       "      <td>2475</td>\n",
       "      <td>3</td>\n",
       "      <td>40.63975</td>\n",
       "      <td>-73.77893</td>\n",
       "      <td>587</td>\n",
       "      <td>...</td>\n",
       "      <td>0</td>\n",
       "      <td>0</td>\n",
       "      <td>0</td>\n",
       "      <td>0</td>\n",
       "      <td>0</td>\n",
       "      <td>0</td>\n",
       "      <td>0</td>\n",
       "      <td>0</td>\n",
       "      <td>0</td>\n",
       "      <td>0</td>\n",
       "    </tr>\n",
       "    <tr>\n",
       "      <th>1729549</th>\n",
       "      <td>24</td>\n",
       "      <td>2</td>\n",
       "      <td>57.0</td>\n",
       "      <td>29.98047</td>\n",
       "      <td>-95.33972</td>\n",
       "      <td>517</td>\n",
       "      <td>2</td>\n",
       "      <td>35.21937</td>\n",
       "      <td>-101.70593</td>\n",
       "      <td>497</td>\n",
       "      <td>...</td>\n",
       "      <td>0</td>\n",
       "      <td>0</td>\n",
       "      <td>1</td>\n",
       "      <td>0</td>\n",
       "      <td>0</td>\n",
       "      <td>0</td>\n",
       "      <td>0</td>\n",
       "      <td>0</td>\n",
       "      <td>0</td>\n",
       "      <td>0</td>\n",
       "    </tr>\n",
       "    <tr>\n",
       "      <th>2078475</th>\n",
       "      <td>10</td>\n",
       "      <td>5</td>\n",
       "      <td>-1.0</td>\n",
       "      <td>40.49147</td>\n",
       "      <td>-80.23287</td>\n",
       "      <td>366</td>\n",
       "      <td>4</td>\n",
       "      <td>35.21401</td>\n",
       "      <td>-80.94313</td>\n",
       "      <td>976</td>\n",
       "      <td>...</td>\n",
       "      <td>0</td>\n",
       "      <td>0</td>\n",
       "      <td>0</td>\n",
       "      <td>0</td>\n",
       "      <td>0</td>\n",
       "      <td>0</td>\n",
       "      <td>0</td>\n",
       "      <td>0</td>\n",
       "      <td>0</td>\n",
       "      <td>0</td>\n",
       "    </tr>\n",
       "    <tr>\n",
       "      <th>1537479</th>\n",
       "      <td>29</td>\n",
       "      <td>4</td>\n",
       "      <td>2.0</td>\n",
       "      <td>39.49858</td>\n",
       "      <td>-119.76806</td>\n",
       "      <td>391</td>\n",
       "      <td>1</td>\n",
       "      <td>33.94254</td>\n",
       "      <td>-118.40807</td>\n",
       "      <td>780</td>\n",
       "      <td>...</td>\n",
       "      <td>0</td>\n",
       "      <td>0</td>\n",
       "      <td>0</td>\n",
       "      <td>0</td>\n",
       "      <td>0</td>\n",
       "      <td>0</td>\n",
       "      <td>0</td>\n",
       "      <td>0</td>\n",
       "      <td>0</td>\n",
       "      <td>0</td>\n",
       "    </tr>\n",
       "    <tr>\n",
       "      <th>2456570</th>\n",
       "      <td>3</td>\n",
       "      <td>3</td>\n",
       "      <td>2.0</td>\n",
       "      <td>40.77724</td>\n",
       "      <td>-73.87261</td>\n",
       "      <td>725</td>\n",
       "      <td>6</td>\n",
       "      <td>41.78598</td>\n",
       "      <td>-87.75242</td>\n",
       "      <td>855</td>\n",
       "      <td>...</td>\n",
       "      <td>0</td>\n",
       "      <td>0</td>\n",
       "      <td>0</td>\n",
       "      <td>0</td>\n",
       "      <td>0</td>\n",
       "      <td>0</td>\n",
       "      <td>0</td>\n",
       "      <td>0</td>\n",
       "      <td>0</td>\n",
       "      <td>0</td>\n",
       "    </tr>\n",
       "    <tr>\n",
       "      <th>...</th>\n",
       "      <td>...</td>\n",
       "      <td>...</td>\n",
       "      <td>...</td>\n",
       "      <td>...</td>\n",
       "      <td>...</td>\n",
       "      <td>...</td>\n",
       "      <td>...</td>\n",
       "      <td>...</td>\n",
       "      <td>...</td>\n",
       "      <td>...</td>\n",
       "      <td>...</td>\n",
       "      <td>...</td>\n",
       "      <td>...</td>\n",
       "      <td>...</td>\n",
       "      <td>...</td>\n",
       "      <td>...</td>\n",
       "      <td>...</td>\n",
       "      <td>...</td>\n",
       "      <td>...</td>\n",
       "      <td>...</td>\n",
       "      <td>...</td>\n",
       "    </tr>\n",
       "    <tr>\n",
       "      <th>3981270</th>\n",
       "      <td>26</td>\n",
       "      <td>6</td>\n",
       "      <td>20.0</td>\n",
       "      <td>41.72400</td>\n",
       "      <td>-71.42822</td>\n",
       "      <td>842</td>\n",
       "      <td>9</td>\n",
       "      <td>41.78598</td>\n",
       "      <td>-87.75242</td>\n",
       "      <td>1435</td>\n",
       "      <td>...</td>\n",
       "      <td>0</td>\n",
       "      <td>0</td>\n",
       "      <td>0</td>\n",
       "      <td>0</td>\n",
       "      <td>0</td>\n",
       "      <td>0</td>\n",
       "      <td>0</td>\n",
       "      <td>0</td>\n",
       "      <td>0</td>\n",
       "      <td>0</td>\n",
       "    </tr>\n",
       "    <tr>\n",
       "      <th>2016028</th>\n",
       "      <td>2</td>\n",
       "      <td>4</td>\n",
       "      <td>-2.0</td>\n",
       "      <td>28.42889</td>\n",
       "      <td>-81.31603</td>\n",
       "      <td>957</td>\n",
       "      <td>4</td>\n",
       "      <td>42.21206</td>\n",
       "      <td>-83.34884</td>\n",
       "      <td>787</td>\n",
       "      <td>...</td>\n",
       "      <td>0</td>\n",
       "      <td>0</td>\n",
       "      <td>0</td>\n",
       "      <td>0</td>\n",
       "      <td>0</td>\n",
       "      <td>0</td>\n",
       "      <td>0</td>\n",
       "      <td>0</td>\n",
       "      <td>0</td>\n",
       "      <td>0</td>\n",
       "    </tr>\n",
       "    <tr>\n",
       "      <th>1262801</th>\n",
       "      <td>16</td>\n",
       "      <td>3</td>\n",
       "      <td>14.0</td>\n",
       "      <td>39.85841</td>\n",
       "      <td>-104.66700</td>\n",
       "      <td>602</td>\n",
       "      <td>12</td>\n",
       "      <td>33.43417</td>\n",
       "      <td>-112.00806</td>\n",
       "      <td>859</td>\n",
       "      <td>...</td>\n",
       "      <td>0</td>\n",
       "      <td>0</td>\n",
       "      <td>0</td>\n",
       "      <td>0</td>\n",
       "      <td>0</td>\n",
       "      <td>0</td>\n",
       "      <td>0</td>\n",
       "      <td>0</td>\n",
       "      <td>0</td>\n",
       "      <td>0</td>\n",
       "    </tr>\n",
       "    <tr>\n",
       "      <th>3725037</th>\n",
       "      <td>22</td>\n",
       "      <td>2</td>\n",
       "      <td>32.0</td>\n",
       "      <td>41.30252</td>\n",
       "      <td>-95.89417</td>\n",
       "      <td>821</td>\n",
       "      <td>12</td>\n",
       "      <td>33.64044</td>\n",
       "      <td>-84.42694</td>\n",
       "      <td>575</td>\n",
       "      <td>...</td>\n",
       "      <td>0</td>\n",
       "      <td>0</td>\n",
       "      <td>0</td>\n",
       "      <td>0</td>\n",
       "      <td>0</td>\n",
       "      <td>0</td>\n",
       "      <td>0</td>\n",
       "      <td>0</td>\n",
       "      <td>0</td>\n",
       "      <td>0</td>\n",
       "    </tr>\n",
       "    <tr>\n",
       "      <th>3450337</th>\n",
       "      <td>12</td>\n",
       "      <td>6</td>\n",
       "      <td>24.0</td>\n",
       "      <td>42.36435</td>\n",
       "      <td>-71.00518</td>\n",
       "      <td>867</td>\n",
       "      <td>12</td>\n",
       "      <td>41.97960</td>\n",
       "      <td>-87.90446</td>\n",
       "      <td>906</td>\n",
       "      <td>...</td>\n",
       "      <td>0</td>\n",
       "      <td>0</td>\n",
       "      <td>0</td>\n",
       "      <td>0</td>\n",
       "      <td>0</td>\n",
       "      <td>0</td>\n",
       "      <td>0</td>\n",
       "      <td>0</td>\n",
       "      <td>0</td>\n",
       "      <td>0</td>\n",
       "    </tr>\n",
       "  </tbody>\n",
       "</table>\n",
       "<p>10000 rows × 407 columns</p>\n",
       "</div>"
      ],
      "text/plain": [
       "         day  day_of_week  departure_delay  destination_latitude  \\\n",
       "3594584    3            2             -4.0              33.94254   \n",
       "1729549   24            2             57.0              29.98047   \n",
       "2078475   10            5             -1.0              40.49147   \n",
       "1537479   29            4              2.0              39.49858   \n",
       "2456570    3            3              2.0              40.77724   \n",
       "...      ...          ...              ...                   ...   \n",
       "3981270   26            6             20.0              41.72400   \n",
       "2016028    2            4             -2.0              28.42889   \n",
       "1262801   16            3             14.0              39.85841   \n",
       "3725037   22            2             32.0              41.30252   \n",
       "3450337   12            6             24.0              42.36435   \n",
       "\n",
       "         destination_longitude  distance  month  origin_latitude  \\\n",
       "3594584             -118.40807      2475      3         40.63975   \n",
       "1729549              -95.33972       517      2         35.21937   \n",
       "2078475              -80.23287       366      4         35.21401   \n",
       "1537479             -119.76806       391      1         33.94254   \n",
       "2456570              -73.87261       725      6         41.78598   \n",
       "...                        ...       ...    ...              ...   \n",
       "3981270              -71.42822       842      9         41.78598   \n",
       "2016028              -81.31603       957      4         42.21206   \n",
       "1262801             -104.66700       602     12         33.43417   \n",
       "3725037              -95.89417       821     12         33.64044   \n",
       "3450337              -71.00518       867     12         41.97960   \n",
       "\n",
       "         origin_longitude  scheduled_arrival  ...  state_origin_SD  \\\n",
       "3594584         -73.77893                587  ...                0   \n",
       "1729549        -101.70593                497  ...                0   \n",
       "2078475         -80.94313                976  ...                0   \n",
       "1537479        -118.40807                780  ...                0   \n",
       "2456570         -87.75242                855  ...                0   \n",
       "...                   ...                ...  ...              ...   \n",
       "3981270         -87.75242               1435  ...                0   \n",
       "2016028         -83.34884                787  ...                0   \n",
       "1262801        -112.00806                859  ...                0   \n",
       "3725037         -84.42694                575  ...                0   \n",
       "3450337         -87.90446                906  ...                0   \n",
       "\n",
       "         state_origin_TN  state_origin_TX  state_origin_UT  state_origin_VA  \\\n",
       "3594584                0                0                0                0   \n",
       "1729549                0                1                0                0   \n",
       "2078475                0                0                0                0   \n",
       "1537479                0                0                0                0   \n",
       "2456570                0                0                0                0   \n",
       "...                  ...              ...              ...              ...   \n",
       "3981270                0                0                0                0   \n",
       "2016028                0                0                0                0   \n",
       "1262801                0                0                0                0   \n",
       "3725037                0                0                0                0   \n",
       "3450337                0                0                0                0   \n",
       "\n",
       "         state_origin_VT  state_origin_WA  state_origin_WI  state_origin_WV  \\\n",
       "3594584                0                0                0                0   \n",
       "1729549                0                0                0                0   \n",
       "2078475                0                0                0                0   \n",
       "1537479                0                0                0                0   \n",
       "2456570                0                0                0                0   \n",
       "...                  ...              ...              ...              ...   \n",
       "3981270                0                0                0                0   \n",
       "2016028                0                0                0                0   \n",
       "1262801                0                0                0                0   \n",
       "3725037                0                0                0                0   \n",
       "3450337                0                0                0                0   \n",
       "\n",
       "         state_origin_WY  \n",
       "3594584                0  \n",
       "1729549                0  \n",
       "2078475                0  \n",
       "1537479                0  \n",
       "2456570                0  \n",
       "...                  ...  \n",
       "3981270                0  \n",
       "2016028                0  \n",
       "1262801                0  \n",
       "3725037                0  \n",
       "3450337                0  \n",
       "\n",
       "[10000 rows x 407 columns]"
      ]
     },
     "execution_count": 24,
     "metadata": {},
     "output_type": "execute_result"
    }
   ],
   "source": [
    "flights = pd.read_csv('data/flights_clean_numerical.csv').sample(10000)\n",
    "flights"
   ]
  },
  {
   "cell_type": "code",
   "execution_count": 25,
   "id": "d93b33f5",
   "metadata": {
    "scrolled": true
   },
   "outputs": [
    {
     "data": {
      "text/plain": [
       "day                        3.00000\n",
       "day_of_week                2.00000\n",
       "departure_delay           -4.00000\n",
       "destination_latitude      33.94254\n",
       "destination_longitude   -118.40807\n",
       "                           ...    \n",
       "state_origin_VT            0.00000\n",
       "state_origin_WA            0.00000\n",
       "state_origin_WI            0.00000\n",
       "state_origin_WV            0.00000\n",
       "state_origin_WY            0.00000\n",
       "Name: 3594584, Length: 407, dtype: float64"
      ]
     },
     "execution_count": 25,
     "metadata": {},
     "output_type": "execute_result"
    }
   ],
   "source": [
    "flights.iloc[0]"
   ]
  },
  {
   "cell_type": "code",
   "execution_count": 26,
   "id": "1ee316eb",
   "metadata": {},
   "outputs": [],
   "source": [
    "pre_y = flights.departure_delay"
   ]
  },
  {
   "cell_type": "code",
   "execution_count": 27,
   "id": "70afa932",
   "metadata": {},
   "outputs": [],
   "source": [
    "pre_X = flights.drop(columns=['departure_delay'])"
   ]
  },
  {
   "cell_type": "code",
   "execution_count": 28,
   "id": "8c97b34a",
   "metadata": {},
   "outputs": [],
   "source": [
    "X, X_test, y, y_test = train_test_split(pre_X, pre_y)"
   ]
  },
  {
   "cell_type": "code",
   "execution_count": 29,
   "id": "ddedb85d",
   "metadata": {},
   "outputs": [],
   "source": [
    "scaler = StandardScaler()\n",
    "scaler.fit(X)\n",
    "Xstd = scaler.transform(X)"
   ]
  },
  {
   "cell_type": "code",
   "execution_count": 30,
   "id": "47287924",
   "metadata": {},
   "outputs": [],
   "source": [
    "alphas = 10**np.linspace(10,-2,200)*0.5"
   ]
  },
  {
   "cell_type": "code",
   "execution_count": 31,
   "id": "51cdeec6",
   "metadata": {},
   "outputs": [],
   "source": [
    "# Find ridge coeffs for all lambda values\n",
    "coefs = []\n",
    "for a in alphas:        \n",
    "    ridge = Ridge(alpha = a)\n",
    "    ridge.fit(Xstd, y)\n",
    "    coefs.append(ridge.coef_)"
   ]
  },
  {
   "cell_type": "code",
   "execution_count": 32,
   "id": "87e0f284",
   "metadata": {},
   "outputs": [
    {
     "data": {
      "text/plain": [
       "Text(0, 0.5, 'Standardized coefficient')"
      ]
     },
     "execution_count": 32,
     "metadata": {},
     "output_type": "execute_result"
    },
    {
     "data": {
      "image/png": "[encoded data removed]",
      "text/plain": [
       "<Figure size 432x288 with 1 Axes>"
      ]
     },
     "metadata": {
      "needs_background": "light"
     },
     "output_type": "display_data"
    }
   ],
   "source": [
    "# Visualize shrinking regression coefficients with lambda increase\n",
    "plt.xlabel('xlabel', fontsize=18)\n",
    "plt.ylabel('ylabel', fontsize=18)\n",
    "plt.plot(alphas, coefs)\n",
    "plt.xscale('log')\n",
    "plt.xlabel('$\\lambda$')\n",
    "plt.ylabel('Standardized coefficient')"
   ]
  },
  {
   "cell_type": "code",
   "execution_count": 33,
   "id": "0bd60e9b",
   "metadata": {},
   "outputs": [
    {
     "data": {
      "text/plain": [
       "12617.695852173829"
      ]
     },
     "execution_count": 33,
     "metadata": {},
     "output_type": "execute_result"
    }
   ],
   "source": [
    "# Cross validation to find optimal lambda\n",
    "alphas = 10**np.linspace(5,-2,200)*0.5\n",
    "ridgecv = RidgeCV(alphas = alphas,store_cv_values=True)\n",
    "ridgecv.fit(Xstd, y)\n",
    "\n",
    "#Optimal value of the tuning parameter - lambda\n",
    "ridgecv.alpha_"
   ]
  },
  {
   "cell_type": "code",
   "execution_count": 34,
   "id": "6f45c0f7",
   "metadata": {},
   "outputs": [
    {
     "data": {
      "text/plain": [
       "Text(0, 0.5, 'Cross-validation error')"
      ]
     },
     "execution_count": 34,
     "metadata": {},
     "output_type": "execute_result"
    },
    {
     "data": {
      "image/png": "[encoded data removed]",
      "text/plain": [
       "<Figure size 432x288 with 1 Axes>"
      ]
     },
     "metadata": {
      "needs_background": "light"
     },
     "output_type": "display_data"
    }
   ],
   "source": [
    "#Visualizing the LOOCV (leave one out cross validatation error vs lambda)\n",
    "plt.xlabel('xlabel', fontsize=18)\n",
    "plt.ylabel('ylabel', fontsize=18)\n",
    "plt.plot(ridgecv.alphas,ridgecv.cv_values_.sum(axis=0))\n",
    "plt.plot([ridgecv.alpha_,ridgecv.alpha_],[1e6,1e7],':')\n",
    "plt.xlabel('$\\lambda$')\n",
    "plt.ylabel('Cross-validation error')"
   ]
  },
  {
   "cell_type": "code",
   "execution_count": 35,
   "id": "930ec288",
   "metadata": {},
   "outputs": [
    {
     "data": {
      "text/plain": [
       "Text(0, 0.5, 'Standardized coefficient')"
      ]
     },
     "execution_count": 35,
     "metadata": {},
     "output_type": "execute_result"
    },
    {
     "data": {
      "image/png": "[encoded data removed]",
      "text/plain": [
       "<Figure size 432x288 with 1 Axes>"
      ]
     },
     "metadata": {
      "needs_background": "light"
     },
     "output_type": "display_data"
    }
   ],
   "source": [
    "# Visualize with the optimal lambda\n",
    "alphas = 10**np.linspace(10,-2,200)*0.5\n",
    "plt.xlabel('xlabel', fontsize=18)\n",
    "plt.ylabel('ylabel', fontsize=18)\n",
    "plt.plot(alphas, coefs)\n",
    "plt.plot([ridgecv.alpha_,ridgecv.alpha_],[-70,70],':')\n",
    "plt.xscale('log')\n",
    "plt.xlabel('$\\lambda$')\n",
    "plt.ylabel('Standardized coefficient')"
   ]
  },
  {
   "cell_type": "code",
   "execution_count": 36,
   "id": "d7d60ee0",
   "metadata": {},
   "outputs": [],
   "source": [
    "Xtest_std = scaler.transform(X_test)"
   ]
  },
  {
   "cell_type": "code",
   "execution_count": 37,
   "id": "11a77b43",
   "metadata": {},
   "outputs": [],
   "source": [
    "#Using the developed ridge regression model to predict on test data\n",
    "ridge = Ridge(alpha = ridgecv.alpha_)\n",
    "ridge.fit(Xstd, y)\n",
    "pred=ridge.predict(Xtest_std)"
   ]
  },
  {
   "cell_type": "code",
   "execution_count": 38,
   "id": "828c355a",
   "metadata": {},
   "outputs": [
    {
     "data": {
      "text/plain": [
       "42.077936562641334"
      ]
     },
     "execution_count": 38,
     "metadata": {},
     "output_type": "execute_result"
    }
   ],
   "source": [
    "#RMSE on test data\n",
    "np.sqrt(((pred-y_test)**2).mean())"
   ]
  },
  {
   "cell_type": "code",
   "execution_count": 39,
   "id": "fb4d1427",
   "metadata": {},
   "outputs": [
    {
     "data": {
      "text/plain": [
       "42.1853562264441"
      ]
     },
     "execution_count": 39,
     "metadata": {},
     "output_type": "execute_result"
    }
   ],
   "source": [
    "y_test.std()"
   ]
  },
  {
   "cell_type": "code",
   "execution_count": 40,
   "id": "0fe474b3",
   "metadata": {},
   "outputs": [],
   "source": [
    "#Checking the coefficients of the ridge regression model\n",
    "#ridge.coef_"
   ]
  },
  {
   "cell_type": "code",
   "execution_count": 41,
   "id": "dab90cbf",
   "metadata": {},
   "outputs": [
    {
     "data": {
      "text/plain": [
       "-64.37867395536149"
      ]
     },
     "execution_count": 41,
     "metadata": {},
     "output_type": "execute_result"
    }
   ],
   "source": [
    "#R-squared on train data for the ridge regression model\n",
    "r2_score(ridge.predict(Xstd),y)"
   ]
  },
  {
   "cell_type": "code",
   "execution_count": 42,
   "id": "781ccbc5",
   "metadata": {},
   "outputs": [
    {
     "data": {
      "text/plain": [
       "-106.09287633596676"
      ]
     },
     "execution_count": 42,
     "metadata": {},
     "output_type": "execute_result"
    }
   ],
   "source": [
    "#R-squared on test data for the ridge regression model\n",
    "r2_score(pred,y_test)"
   ]
  },
  {
   "cell_type": "code",
   "execution_count": 43,
   "id": "d8f84be1",
   "metadata": {},
   "outputs": [
    {
     "data": {
      "text/plain": [
       "92.81470108032227"
      ]
     },
     "execution_count": 43,
     "metadata": {},
     "output_type": "execute_result"
    }
   ],
   "source": [
    "toc_dummy = time.time()\n",
    "toc_dummy - tic_dummy"
   ]
  },
  {
   "cell_type": "code",
   "execution_count": null,
   "id": "5b704928",
   "metadata": {},
   "outputs": [],
   "source": []
  }
 ],
 "metadata": {
  "kernelspec": {
   "display_name": "Python 3",
   "language": "python",
   "name": "python3"
  },
  "language_info": {
   "codemirror_mode": {
    "name": "ipython",
    "version": 3
   },
   "file_extension": ".py",
   "mimetype": "text/x-python",
   "name": "python",
   "nbconvert_exporter": "python",
   "pygments_lexer": "ipython3",
   "version": "3.8.8"
  }
 },
 "nbformat": 4,
 "nbformat_minor": 5
}
