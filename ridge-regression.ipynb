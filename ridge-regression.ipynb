{
 "cells": [
  {
   "cell_type": "markdown",
   "id": "8d669b7e",
   "metadata": {},
   "source": [
    "## Ridge Regression"
   ]
  },
  {
   "cell_type": "code",
   "execution_count": 44,
   "id": "e54ec4c1",
   "metadata": {},
   "outputs": [],
   "source": [
    "import pandas as pd\n",
    "import numpy as np\n",
    "import seaborn as sns\n",
    "import matplotlib.pyplot as plt\n",
    "from sklearn.linear_model import Ridge, RidgeCV, Lasso, LassoCV\n",
    "from sklearn.preprocessing import StandardScaler \n",
    "from sklearn.metrics import r2_score\n",
    "from sklearn.model_selection import train_test_split\n",
    "import time"
   ]
  },
  {
   "cell_type": "markdown",
   "id": "bdfe182b",
   "metadata": {},
   "source": [
    "### Numerical Data"
   ]
  },
  {
   "cell_type": "code",
   "execution_count": 45,
   "id": "a4d0af14",
   "metadata": {},
   "outputs": [],
   "source": [
    "tic = time.time()"
   ]
  },
  {
   "cell_type": "code",
   "execution_count": 138,
   "id": "ad3322df",
   "metadata": {},
   "outputs": [
    {
     "data": {
      "text/html": [
       "<div>\n",
       "<style scoped>\n",
       "    .dataframe tbody tr th:only-of-type {\n",
       "        vertical-align: middle;\n",
       "    }\n",
       "\n",
       "    .dataframe tbody tr th {\n",
       "        vertical-align: top;\n",
       "    }\n",
       "\n",
       "    .dataframe thead th {\n",
       "        text-align: right;\n",
       "    }\n",
       "</style>\n",
       "<table border=\"1\" class=\"dataframe\">\n",
       "  <thead>\n",
       "    <tr style=\"text-align: right;\">\n",
       "      <th></th>\n",
       "      <th>airline</th>\n",
       "      <th>day</th>\n",
       "      <th>day_of_week</th>\n",
       "      <th>departure_delay</th>\n",
       "      <th>destination_airport</th>\n",
       "      <th>destination_latitude</th>\n",
       "      <th>destination_longitude</th>\n",
       "      <th>distance</th>\n",
       "      <th>month</th>\n",
       "      <th>origin_airport</th>\n",
       "      <th>...</th>\n",
       "      <th>scheduled_arrival</th>\n",
       "      <th>scheduled_departure</th>\n",
       "      <th>scheduled_time</th>\n",
       "      <th>state_destination</th>\n",
       "      <th>state_origin</th>\n",
       "      <th>taxi_in</th>\n",
       "      <th>taxi_out</th>\n",
       "      <th>day_of_year</th>\n",
       "      <th>origin_temperature</th>\n",
       "      <th>destination_temperature</th>\n",
       "    </tr>\n",
       "  </thead>\n",
       "  <tbody>\n",
       "    <tr>\n",
       "      <th>0</th>\n",
       "      <td>AS</td>\n",
       "      <td>1</td>\n",
       "      <td>4</td>\n",
       "      <td>-11.0</td>\n",
       "      <td>SEA</td>\n",
       "      <td>47.44898</td>\n",
       "      <td>-122.30931</td>\n",
       "      <td>1448</td>\n",
       "      <td>1</td>\n",
       "      <td>ANC</td>\n",
       "      <td>...</td>\n",
       "      <td>270</td>\n",
       "      <td>5</td>\n",
       "      <td>205.0</td>\n",
       "      <td>WA</td>\n",
       "      <td>AK</td>\n",
       "      <td>4.0</td>\n",
       "      <td>21.0</td>\n",
       "      <td>1</td>\n",
       "      <td>35.2</td>\n",
       "      <td>32.9</td>\n",
       "    </tr>\n",
       "    <tr>\n",
       "      <th>1</th>\n",
       "      <td>AS</td>\n",
       "      <td>1</td>\n",
       "      <td>4</td>\n",
       "      <td>-4.0</td>\n",
       "      <td>SEA</td>\n",
       "      <td>47.44898</td>\n",
       "      <td>-122.30931</td>\n",
       "      <td>1448</td>\n",
       "      <td>1</td>\n",
       "      <td>ANC</td>\n",
       "      <td>...</td>\n",
       "      <td>309</td>\n",
       "      <td>45</td>\n",
       "      <td>204.0</td>\n",
       "      <td>WA</td>\n",
       "      <td>AK</td>\n",
       "      <td>4.0</td>\n",
       "      <td>17.0</td>\n",
       "      <td>1</td>\n",
       "      <td>35.2</td>\n",
       "      <td>32.9</td>\n",
       "    </tr>\n",
       "    <tr>\n",
       "      <th>2</th>\n",
       "      <td>DL</td>\n",
       "      <td>1</td>\n",
       "      <td>4</td>\n",
       "      <td>-14.0</td>\n",
       "      <td>SEA</td>\n",
       "      <td>47.44898</td>\n",
       "      <td>-122.30931</td>\n",
       "      <td>1448</td>\n",
       "      <td>1</td>\n",
       "      <td>ANC</td>\n",
       "      <td>...</td>\n",
       "      <td>315</td>\n",
       "      <td>45</td>\n",
       "      <td>210.0</td>\n",
       "      <td>WA</td>\n",
       "      <td>AK</td>\n",
       "      <td>4.0</td>\n",
       "      <td>25.0</td>\n",
       "      <td>1</td>\n",
       "      <td>35.2</td>\n",
       "      <td>32.9</td>\n",
       "    </tr>\n",
       "    <tr>\n",
       "      <th>3</th>\n",
       "      <td>AS</td>\n",
       "      <td>1</td>\n",
       "      <td>4</td>\n",
       "      <td>-15.0</td>\n",
       "      <td>SEA</td>\n",
       "      <td>47.44898</td>\n",
       "      <td>-122.30931</td>\n",
       "      <td>1448</td>\n",
       "      <td>1</td>\n",
       "      <td>ANC</td>\n",
       "      <td>...</td>\n",
       "      <td>393</td>\n",
       "      <td>115</td>\n",
       "      <td>218.0</td>\n",
       "      <td>WA</td>\n",
       "      <td>AK</td>\n",
       "      <td>11.0</td>\n",
       "      <td>17.0</td>\n",
       "      <td>1</td>\n",
       "      <td>35.2</td>\n",
       "      <td>32.9</td>\n",
       "    </tr>\n",
       "    <tr>\n",
       "      <th>4</th>\n",
       "      <td>AS</td>\n",
       "      <td>1</td>\n",
       "      <td>4</td>\n",
       "      <td>-11.0</td>\n",
       "      <td>SEA</td>\n",
       "      <td>47.44898</td>\n",
       "      <td>-122.30931</td>\n",
       "      <td>1448</td>\n",
       "      <td>1</td>\n",
       "      <td>ANC</td>\n",
       "      <td>...</td>\n",
       "      <td>400</td>\n",
       "      <td>140</td>\n",
       "      <td>200.0</td>\n",
       "      <td>WA</td>\n",
       "      <td>AK</td>\n",
       "      <td>8.0</td>\n",
       "      <td>15.0</td>\n",
       "      <td>1</td>\n",
       "      <td>35.2</td>\n",
       "      <td>32.9</td>\n",
       "    </tr>\n",
       "    <tr>\n",
       "      <th>...</th>\n",
       "      <td>...</td>\n",
       "      <td>...</td>\n",
       "      <td>...</td>\n",
       "      <td>...</td>\n",
       "      <td>...</td>\n",
       "      <td>...</td>\n",
       "      <td>...</td>\n",
       "      <td>...</td>\n",
       "      <td>...</td>\n",
       "      <td>...</td>\n",
       "      <td>...</td>\n",
       "      <td>...</td>\n",
       "      <td>...</td>\n",
       "      <td>...</td>\n",
       "      <td>...</td>\n",
       "      <td>...</td>\n",
       "      <td>...</td>\n",
       "      <td>...</td>\n",
       "      <td>...</td>\n",
       "      <td>...</td>\n",
       "      <td>...</td>\n",
       "    </tr>\n",
       "    <tr>\n",
       "      <th>4031914</th>\n",
       "      <td>EV</td>\n",
       "      <td>27</td>\n",
       "      <td>5</td>\n",
       "      <td>77.0</td>\n",
       "      <td>ROA</td>\n",
       "      <td>37.32547</td>\n",
       "      <td>-79.97543</td>\n",
       "      <td>357</td>\n",
       "      <td>11</td>\n",
       "      <td>ATL</td>\n",
       "      <td>...</td>\n",
       "      <td>648</td>\n",
       "      <td>565</td>\n",
       "      <td>83.0</td>\n",
       "      <td>VA</td>\n",
       "      <td>GA</td>\n",
       "      <td>3.0</td>\n",
       "      <td>9.0</td>\n",
       "      <td>331</td>\n",
       "      <td>59.7</td>\n",
       "      <td>49.4</td>\n",
       "    </tr>\n",
       "    <tr>\n",
       "      <th>4031915</th>\n",
       "      <td>EV</td>\n",
       "      <td>27</td>\n",
       "      <td>5</td>\n",
       "      <td>-6.0</td>\n",
       "      <td>ROA</td>\n",
       "      <td>37.32547</td>\n",
       "      <td>-79.97543</td>\n",
       "      <td>357</td>\n",
       "      <td>11</td>\n",
       "      <td>ATL</td>\n",
       "      <td>...</td>\n",
       "      <td>985</td>\n",
       "      <td>902</td>\n",
       "      <td>83.0</td>\n",
       "      <td>VA</td>\n",
       "      <td>GA</td>\n",
       "      <td>5.0</td>\n",
       "      <td>21.0</td>\n",
       "      <td>331</td>\n",
       "      <td>59.7</td>\n",
       "      <td>49.4</td>\n",
       "    </tr>\n",
       "    <tr>\n",
       "      <th>4031916</th>\n",
       "      <td>DL</td>\n",
       "      <td>27</td>\n",
       "      <td>5</td>\n",
       "      <td>-1.0</td>\n",
       "      <td>ROA</td>\n",
       "      <td>37.32547</td>\n",
       "      <td>-79.97543</td>\n",
       "      <td>357</td>\n",
       "      <td>11</td>\n",
       "      <td>ATL</td>\n",
       "      <td>...</td>\n",
       "      <td>1162</td>\n",
       "      <td>1079</td>\n",
       "      <td>83.0</td>\n",
       "      <td>VA</td>\n",
       "      <td>GA</td>\n",
       "      <td>6.0</td>\n",
       "      <td>22.0</td>\n",
       "      <td>331</td>\n",
       "      <td>59.7</td>\n",
       "      <td>49.4</td>\n",
       "    </tr>\n",
       "    <tr>\n",
       "      <th>4031917</th>\n",
       "      <td>EV</td>\n",
       "      <td>19</td>\n",
       "      <td>6</td>\n",
       "      <td>88.0</td>\n",
       "      <td>ABE</td>\n",
       "      <td>40.65236</td>\n",
       "      <td>-75.44040</td>\n",
       "      <td>692</td>\n",
       "      <td>12</td>\n",
       "      <td>ATL</td>\n",
       "      <td>...</td>\n",
       "      <td>934</td>\n",
       "      <td>821</td>\n",
       "      <td>113.0</td>\n",
       "      <td>PA</td>\n",
       "      <td>GA</td>\n",
       "      <td>3.0</td>\n",
       "      <td>22.0</td>\n",
       "      <td>353</td>\n",
       "      <td>37.8</td>\n",
       "      <td>35.6</td>\n",
       "    </tr>\n",
       "    <tr>\n",
       "      <th>4031918</th>\n",
       "      <td>EV</td>\n",
       "      <td>19</td>\n",
       "      <td>6</td>\n",
       "      <td>-2.0</td>\n",
       "      <td>ABE</td>\n",
       "      <td>40.65236</td>\n",
       "      <td>-75.44040</td>\n",
       "      <td>692</td>\n",
       "      <td>12</td>\n",
       "      <td>ATL</td>\n",
       "      <td>...</td>\n",
       "      <td>1378</td>\n",
       "      <td>1260</td>\n",
       "      <td>118.0</td>\n",
       "      <td>PA</td>\n",
       "      <td>GA</td>\n",
       "      <td>3.0</td>\n",
       "      <td>25.0</td>\n",
       "      <td>353</td>\n",
       "      <td>37.8</td>\n",
       "      <td>35.6</td>\n",
       "    </tr>\n",
       "  </tbody>\n",
       "</table>\n",
       "<p>4031919 rows × 22 columns</p>\n",
       "</div>"
      ],
      "text/plain": [
       "        airline  day  day_of_week  departure_delay destination_airport  \\\n",
       "0            AS    1            4            -11.0                 SEA   \n",
       "1            AS    1            4             -4.0                 SEA   \n",
       "2            DL    1            4            -14.0                 SEA   \n",
       "3            AS    1            4            -15.0                 SEA   \n",
       "4            AS    1            4            -11.0                 SEA   \n",
       "...         ...  ...          ...              ...                 ...   \n",
       "4031914      EV   27            5             77.0                 ROA   \n",
       "4031915      EV   27            5             -6.0                 ROA   \n",
       "4031916      DL   27            5             -1.0                 ROA   \n",
       "4031917      EV   19            6             88.0                 ABE   \n",
       "4031918      EV   19            6             -2.0                 ABE   \n",
       "\n",
       "         destination_latitude  destination_longitude  distance  month  \\\n",
       "0                    47.44898             -122.30931      1448      1   \n",
       "1                    47.44898             -122.30931      1448      1   \n",
       "2                    47.44898             -122.30931      1448      1   \n",
       "3                    47.44898             -122.30931      1448      1   \n",
       "4                    47.44898             -122.30931      1448      1   \n",
       "...                       ...                    ...       ...    ...   \n",
       "4031914              37.32547              -79.97543       357     11   \n",
       "4031915              37.32547              -79.97543       357     11   \n",
       "4031916              37.32547              -79.97543       357     11   \n",
       "4031917              40.65236              -75.44040       692     12   \n",
       "4031918              40.65236              -75.44040       692     12   \n",
       "\n",
       "        origin_airport  ...  scheduled_arrival  scheduled_departure  \\\n",
       "0                  ANC  ...                270                    5   \n",
       "1                  ANC  ...                309                   45   \n",
       "2                  ANC  ...                315                   45   \n",
       "3                  ANC  ...                393                  115   \n",
       "4                  ANC  ...                400                  140   \n",
       "...                ...  ...                ...                  ...   \n",
       "4031914            ATL  ...                648                  565   \n",
       "4031915            ATL  ...                985                  902   \n",
       "4031916            ATL  ...               1162                 1079   \n",
       "4031917            ATL  ...                934                  821   \n",
       "4031918            ATL  ...               1378                 1260   \n",
       "\n",
       "         scheduled_time  state_destination  state_origin taxi_in taxi_out  \\\n",
       "0                 205.0                 WA            AK     4.0     21.0   \n",
       "1                 204.0                 WA            AK     4.0     17.0   \n",
       "2                 210.0                 WA            AK     4.0     25.0   \n",
       "3                 218.0                 WA            AK    11.0     17.0   \n",
       "4                 200.0                 WA            AK     8.0     15.0   \n",
       "...                 ...                ...           ...     ...      ...   \n",
       "4031914            83.0                 VA            GA     3.0      9.0   \n",
       "4031915            83.0                 VA            GA     5.0     21.0   \n",
       "4031916            83.0                 VA            GA     6.0     22.0   \n",
       "4031917           113.0                 PA            GA     3.0     22.0   \n",
       "4031918           118.0                 PA            GA     3.0     25.0   \n",
       "\n",
       "         day_of_year  origin_temperature  destination_temperature  \n",
       "0                  1                35.2                     32.9  \n",
       "1                  1                35.2                     32.9  \n",
       "2                  1                35.2                     32.9  \n",
       "3                  1                35.2                     32.9  \n",
       "4                  1                35.2                     32.9  \n",
       "...              ...                 ...                      ...  \n",
       "4031914          331                59.7                     49.4  \n",
       "4031915          331                59.7                     49.4  \n",
       "4031916          331                59.7                     49.4  \n",
       "4031917          353                37.8                     35.6  \n",
       "4031918          353                37.8                     35.6  \n",
       "\n",
       "[4031919 rows x 22 columns]"
      ]
     },
     "execution_count": 138,
     "metadata": {},
     "output_type": "execute_result"
    }
   ],
   "source": [
    "flights = pd.read_csv('data/flights_clean.csv')\n",
    "flights"
   ]
  },
  {
   "cell_type": "code",
   "execution_count": 47,
   "id": "547b01c1",
   "metadata": {
    "scrolled": true
   },
   "outputs": [
    {
     "data": {
      "text/plain": [
       "airline                           AS\n",
       "day                                1\n",
       "day_of_week                        4\n",
       "departure_delay                -11.0\n",
       "destination_airport              SEA\n",
       "destination_latitude        47.44898\n",
       "destination_longitude     -122.30931\n",
       "distance                        1448\n",
       "month                              1\n",
       "origin_airport                   ANC\n",
       "origin_latitude             61.17432\n",
       "origin_longitude          -149.99619\n",
       "scheduled_arrival                270\n",
       "scheduled_departure                5\n",
       "scheduled_time                 205.0\n",
       "state_destination                 WA\n",
       "state_origin                      AK\n",
       "taxi_in                          4.0\n",
       "taxi_out                        21.0\n",
       "day_of_year                        1\n",
       "origin_temperature              35.2\n",
       "destination_temperature         32.9\n",
       "Name: 0, dtype: object"
      ]
     },
     "execution_count": 47,
     "metadata": {},
     "output_type": "execute_result"
    }
   ],
   "source": [
    "flights.iloc[0]"
   ]
  },
  {
   "cell_type": "code",
   "execution_count": 48,
   "id": "27cd7fa8",
   "metadata": {},
   "outputs": [],
   "source": [
    "pre_y = flights.departure_delay"
   ]
  },
  {
   "cell_type": "code",
   "execution_count": 49,
   "id": "c2f82273",
   "metadata": {},
   "outputs": [],
   "source": [
    "pre_X = flights.drop(columns=['departure_delay', 'airline', 'destination_airport',\n",
    "                              'origin_airport', 'state_destination', 'state_origin'])"
   ]
  },
  {
   "cell_type": "code",
   "execution_count": 50,
   "id": "4556867e",
   "metadata": {},
   "outputs": [],
   "source": [
    "X, X_test, y, y_test = train_test_split(pre_X, pre_y)"
   ]
  },
  {
   "cell_type": "code",
   "execution_count": 51,
   "id": "74e9af7f",
   "metadata": {},
   "outputs": [],
   "source": [
    "scaler = StandardScaler()\n",
    "scaler.fit(X)\n",
    "Xstd = scaler.transform(X)"
   ]
  },
  {
   "cell_type": "code",
   "execution_count": 52,
   "id": "62ba88ca",
   "metadata": {},
   "outputs": [],
   "source": [
    "alphas = 10**np.linspace(10,-2,200)*0.5"
   ]
  },
  {
   "cell_type": "code",
   "execution_count": 53,
   "id": "3f4bcd84",
   "metadata": {},
   "outputs": [],
   "source": [
    "# Find ridge coeffs for all lambda values\n",
    "coefs = []\n",
    "for a in alphas:        \n",
    "    ridge = Ridge(alpha = a)\n",
    "    ridge.fit(Xstd, y)\n",
    "    coefs.append(ridge.coef_)"
   ]
  },
  {
   "cell_type": "code",
   "execution_count": 54,
   "id": "58e4a789",
   "metadata": {},
   "outputs": [
    {
     "data": {
      "text/plain": [
       "Text(0, 0.5, 'Standardized coefficient')"
      ]
     },
     "execution_count": 54,
     "metadata": {},
     "output_type": "execute_result"
    },
    {
     "data": {
      "image/png": "[encoded data removed]",
      "text/plain": [
       "<Figure size 432x288 with 1 Axes>"
      ]
     },
     "metadata": {
      "needs_background": "light"
     },
     "output_type": "display_data"
    }
   ],
   "source": [
    "# Visualize shrinking regression coefficients with lambda increase\n",
    "plt.xlabel('xlabel', fontsize=18)\n",
    "plt.ylabel('ylabel', fontsize=18)\n",
    "plt.plot(alphas, coefs)\n",
    "plt.xscale('log')\n",
    "plt.xlabel('$\\lambda$')\n",
    "plt.ylabel('Standardized coefficient')"
   ]
  },
  {
   "cell_type": "code",
   "execution_count": 55,
   "id": "15368dc7",
   "metadata": {},
   "outputs": [
    {
     "data": {
      "text/plain": [
       "0.05058189898831035"
      ]
     },
     "execution_count": 55,
     "metadata": {},
     "output_type": "execute_result"
    }
   ],
   "source": [
    "# Cross validation to find optimal lambda\n",
    "alphas = 10**np.linspace(2,-2,200)*0.5\n",
    "ridgecv = RidgeCV(alphas = alphas,store_cv_values=True)\n",
    "ridgecv.fit(Xstd, y)\n",
    "\n",
    "#Optimal value of the tuning parameter - lambda\n",
    "ridgecv.alpha_"
   ]
  },
  {
   "cell_type": "code",
   "execution_count": 81,
   "id": "233f628a",
   "metadata": {},
   "outputs": [
    {
     "data": {
      "text/plain": [
       "Text(0, 0.5, 'Cross-validation error')"
      ]
     },
     "execution_count": 81,
     "metadata": {},
     "output_type": "execute_result"
    },
    {
     "data": {
      "image/png": "[encoded data removed]",
      "text/plain": [
       "<Figure size 432x288 with 1 Axes>"
      ]
     },
     "metadata": {
      "needs_background": "light"
     },
     "output_type": "display_data"
    }
   ],
   "source": [
    "# Visualizing the LOOCV (leave one out cross validatation error vs lambda)\n",
    "plt.xlabel('xlabel', fontsize=18)\n",
    "plt.ylabel('ylabel', fontsize=18)\n",
    "plt.plot(ridgecv.alphas,ridgecv.cv_values_.sum(axis=0))\n",
    "plt.plot([ridgecv.alpha_,ridgecv.alpha_],[4e9+2e8+3e7+5e5,4e9+2e8+3e7+9e5],':')\n",
    "plt.xlabel('$\\lambda$')\n",
    "plt.ylabel('Cross-validation error')"
   ]
  },
  {
   "cell_type": "code",
   "execution_count": 57,
   "id": "4cd70582",
   "metadata": {},
   "outputs": [
    {
     "data": {
      "text/plain": [
       "Text(0, 0.5, 'Standardized coefficient')"
      ]
     },
     "execution_count": 57,
     "metadata": {},
     "output_type": "execute_result"
    },
    {
     "data": {
      "image/png": "[encoded data removed]",
      "text/plain": [
       "<Figure size 432x288 with 1 Axes>"
      ]
     },
     "metadata": {
      "needs_background": "light"
     },
     "output_type": "display_data"
    }
   ],
   "source": [
    "# Visualize with the optimal lambda\n",
    "alphas = 10**np.linspace(10,-2,200)*0.5\n",
    "plt.xlabel('xlabel', fontsize=18)\n",
    "plt.ylabel('ylabel', fontsize=18)\n",
    "plt.plot(alphas, coefs)\n",
    "plt.plot([ridgecv.alpha_,ridgecv.alpha_],[-130,130],':')\n",
    "plt.xscale('log')\n",
    "plt.xlabel('$\\lambda$')\n",
    "plt.ylabel('Standardized coefficient')"
   ]
  },
  {
   "cell_type": "code",
   "execution_count": 58,
   "id": "8296ba03",
   "metadata": {},
   "outputs": [],
   "source": [
    "Xtest_std = scaler.transform(X_test)"
   ]
  },
  {
   "cell_type": "code",
   "execution_count": 59,
   "id": "c33de096",
   "metadata": {},
   "outputs": [],
   "source": [
    "#Using the developed ridge regression model to predict on test data\n",
    "ridge = Ridge(alpha = ridgecv.alpha_)\n",
    "ridge.fit(Xstd, y)\n",
    "pred=ridge.predict(Xtest_std)"
   ]
  },
  {
   "cell_type": "code",
   "execution_count": 60,
   "id": "f545e16f",
   "metadata": {},
   "outputs": [
    {
     "data": {
      "text/plain": [
       "37.421598050228624"
      ]
     },
     "execution_count": 60,
     "metadata": {},
     "output_type": "execute_result"
    }
   ],
   "source": [
    "#RMSE on test data\n",
    "np.sqrt(((pred-y_test)**2).mean())"
   ]
  },
  {
   "cell_type": "markdown",
   "id": "2eb11e03",
   "metadata": {},
   "source": [
    "Numerical Ridge RMSE = 37.422"
   ]
  },
  {
   "cell_type": "code",
   "execution_count": 61,
   "id": "c9ba9e42",
   "metadata": {},
   "outputs": [
    {
     "data": {
      "text/plain": [
       "37.786564055795324"
      ]
     },
     "execution_count": 61,
     "metadata": {},
     "output_type": "execute_result"
    }
   ],
   "source": [
    "y_test.std()"
   ]
  },
  {
   "cell_type": "code",
   "execution_count": 62,
   "id": "2ace7367",
   "metadata": {},
   "outputs": [
    {
     "data": {
      "text/plain": [
       "array([ 9.87724077e+00, -6.94792171e-01, -2.16567809e-01,  4.56502684e-01,\n",
       "       -9.51693615e-01,  1.15586349e+02, -6.82920264e-01,  1.61928135e-01,\n",
       "        1.38702225e+00,  3.52926874e+00,  1.61430974e+00,  5.42189648e-01,\n",
       "        2.03906877e+00, -1.16264269e+02, -8.47861384e-01, -9.08208039e-02])"
      ]
     },
     "execution_count": 62,
     "metadata": {},
     "output_type": "execute_result"
    }
   ],
   "source": [
    "#Checking the coefficients of the ridge regression model\n",
    "ridge.coef_"
   ]
  },
  {
   "cell_type": "code",
   "execution_count": 63,
   "id": "7c0771f0",
   "metadata": {},
   "outputs": [
    {
     "data": {
      "text/plain": [
       "-48.05758260608127"
      ]
     },
     "execution_count": 63,
     "metadata": {},
     "output_type": "execute_result"
    }
   ],
   "source": [
    "#R-squared on train data for the ridge regression model\n",
    "r2_score(ridge.predict(Xstd),y)"
   ]
  },
  {
   "cell_type": "code",
   "execution_count": 64,
   "id": "59d514fe",
   "metadata": {},
   "outputs": [
    {
     "data": {
      "text/plain": [
       "-48.121547722188076"
      ]
     },
     "execution_count": 64,
     "metadata": {},
     "output_type": "execute_result"
    }
   ],
   "source": [
    "#R-squared on test data for the ridge regression model\n",
    "r2_score(pred,y_test)"
   ]
  },
  {
   "cell_type": "code",
   "execution_count": 65,
   "id": "2febfb50",
   "metadata": {},
   "outputs": [
    {
     "data": {
      "text/plain": [
       "163.185124874115"
      ]
     },
     "execution_count": 65,
     "metadata": {},
     "output_type": "execute_result"
    }
   ],
   "source": [
    "toc = time.time()\n",
    "toc - tic"
   ]
  },
  {
   "cell_type": "markdown",
   "id": "b1d53cb5",
   "metadata": {},
   "source": [
    "### Numerical + Categorical Data"
   ]
  },
  {
   "cell_type": "markdown",
   "id": "58fc4c32",
   "metadata": {},
   "source": [
    "Using select categorical columns"
   ]
  },
  {
   "cell_type": "code",
   "execution_count": 82,
   "id": "1d00a7d8",
   "metadata": {},
   "outputs": [],
   "source": [
    "tic_dummy = time.time()"
   ]
  },
  {
   "cell_type": "code",
   "execution_count": 139,
   "id": "025180a1",
   "metadata": {},
   "outputs": [
    {
     "data": {
      "text/html": [
       "<div>\n",
       "<style scoped>\n",
       "    .dataframe tbody tr th:only-of-type {\n",
       "        vertical-align: middle;\n",
       "    }\n",
       "\n",
       "    .dataframe tbody tr th {\n",
       "        vertical-align: top;\n",
       "    }\n",
       "\n",
       "    .dataframe thead th {\n",
       "        text-align: right;\n",
       "    }\n",
       "</style>\n",
       "<table border=\"1\" class=\"dataframe\">\n",
       "  <thead>\n",
       "    <tr style=\"text-align: right;\">\n",
       "      <th></th>\n",
       "      <th>day</th>\n",
       "      <th>day_of_week</th>\n",
       "      <th>departure_delay</th>\n",
       "      <th>destination_latitude</th>\n",
       "      <th>destination_longitude</th>\n",
       "      <th>distance</th>\n",
       "      <th>month</th>\n",
       "      <th>origin_latitude</th>\n",
       "      <th>origin_longitude</th>\n",
       "      <th>scheduled_arrival</th>\n",
       "      <th>...</th>\n",
       "      <th>state_origin_SD</th>\n",
       "      <th>state_origin_TN</th>\n",
       "      <th>state_origin_TX</th>\n",
       "      <th>state_origin_UT</th>\n",
       "      <th>state_origin_VA</th>\n",
       "      <th>state_origin_VT</th>\n",
       "      <th>state_origin_WA</th>\n",
       "      <th>state_origin_WI</th>\n",
       "      <th>state_origin_WV</th>\n",
       "      <th>state_origin_WY</th>\n",
       "    </tr>\n",
       "  </thead>\n",
       "  <tbody>\n",
       "    <tr>\n",
       "      <th>0</th>\n",
       "      <td>1</td>\n",
       "      <td>4</td>\n",
       "      <td>-11.0</td>\n",
       "      <td>47.44898</td>\n",
       "      <td>-122.30931</td>\n",
       "      <td>1448</td>\n",
       "      <td>1</td>\n",
       "      <td>61.17432</td>\n",
       "      <td>-149.99619</td>\n",
       "      <td>270</td>\n",
       "      <td>...</td>\n",
       "      <td>0</td>\n",
       "      <td>0</td>\n",
       "      <td>0</td>\n",
       "      <td>0</td>\n",
       "      <td>0</td>\n",
       "      <td>0</td>\n",
       "      <td>0</td>\n",
       "      <td>0</td>\n",
       "      <td>0</td>\n",
       "      <td>0</td>\n",
       "    </tr>\n",
       "    <tr>\n",
       "      <th>1</th>\n",
       "      <td>1</td>\n",
       "      <td>4</td>\n",
       "      <td>-4.0</td>\n",
       "      <td>47.44898</td>\n",
       "      <td>-122.30931</td>\n",
       "      <td>1448</td>\n",
       "      <td>1</td>\n",
       "      <td>61.17432</td>\n",
       "      <td>-149.99619</td>\n",
       "      <td>309</td>\n",
       "      <td>...</td>\n",
       "      <td>0</td>\n",
       "      <td>0</td>\n",
       "      <td>0</td>\n",
       "      <td>0</td>\n",
       "      <td>0</td>\n",
       "      <td>0</td>\n",
       "      <td>0</td>\n",
       "      <td>0</td>\n",
       "      <td>0</td>\n",
       "      <td>0</td>\n",
       "    </tr>\n",
       "    <tr>\n",
       "      <th>2</th>\n",
       "      <td>1</td>\n",
       "      <td>4</td>\n",
       "      <td>-14.0</td>\n",
       "      <td>47.44898</td>\n",
       "      <td>-122.30931</td>\n",
       "      <td>1448</td>\n",
       "      <td>1</td>\n",
       "      <td>61.17432</td>\n",
       "      <td>-149.99619</td>\n",
       "      <td>315</td>\n",
       "      <td>...</td>\n",
       "      <td>0</td>\n",
       "      <td>0</td>\n",
       "      <td>0</td>\n",
       "      <td>0</td>\n",
       "      <td>0</td>\n",
       "      <td>0</td>\n",
       "      <td>0</td>\n",
       "      <td>0</td>\n",
       "      <td>0</td>\n",
       "      <td>0</td>\n",
       "    </tr>\n",
       "    <tr>\n",
       "      <th>3</th>\n",
       "      <td>1</td>\n",
       "      <td>4</td>\n",
       "      <td>-15.0</td>\n",
       "      <td>47.44898</td>\n",
       "      <td>-122.30931</td>\n",
       "      <td>1448</td>\n",
       "      <td>1</td>\n",
       "      <td>61.17432</td>\n",
       "      <td>-149.99619</td>\n",
       "      <td>393</td>\n",
       "      <td>...</td>\n",
       "      <td>0</td>\n",
       "      <td>0</td>\n",
       "      <td>0</td>\n",
       "      <td>0</td>\n",
       "      <td>0</td>\n",
       "      <td>0</td>\n",
       "      <td>0</td>\n",
       "      <td>0</td>\n",
       "      <td>0</td>\n",
       "      <td>0</td>\n",
       "    </tr>\n",
       "    <tr>\n",
       "      <th>4</th>\n",
       "      <td>1</td>\n",
       "      <td>4</td>\n",
       "      <td>-11.0</td>\n",
       "      <td>47.44898</td>\n",
       "      <td>-122.30931</td>\n",
       "      <td>1448</td>\n",
       "      <td>1</td>\n",
       "      <td>61.17432</td>\n",
       "      <td>-149.99619</td>\n",
       "      <td>400</td>\n",
       "      <td>...</td>\n",
       "      <td>0</td>\n",
       "      <td>0</td>\n",
       "      <td>0</td>\n",
       "      <td>0</td>\n",
       "      <td>0</td>\n",
       "      <td>0</td>\n",
       "      <td>0</td>\n",
       "      <td>0</td>\n",
       "      <td>0</td>\n",
       "      <td>0</td>\n",
       "    </tr>\n",
       "    <tr>\n",
       "      <th>...</th>\n",
       "      <td>...</td>\n",
       "      <td>...</td>\n",
       "      <td>...</td>\n",
       "      <td>...</td>\n",
       "      <td>...</td>\n",
       "      <td>...</td>\n",
       "      <td>...</td>\n",
       "      <td>...</td>\n",
       "      <td>...</td>\n",
       "      <td>...</td>\n",
       "      <td>...</td>\n",
       "      <td>...</td>\n",
       "      <td>...</td>\n",
       "      <td>...</td>\n",
       "      <td>...</td>\n",
       "      <td>...</td>\n",
       "      <td>...</td>\n",
       "      <td>...</td>\n",
       "      <td>...</td>\n",
       "      <td>...</td>\n",
       "      <td>...</td>\n",
       "    </tr>\n",
       "    <tr>\n",
       "      <th>4031914</th>\n",
       "      <td>27</td>\n",
       "      <td>5</td>\n",
       "      <td>77.0</td>\n",
       "      <td>37.32547</td>\n",
       "      <td>-79.97543</td>\n",
       "      <td>357</td>\n",
       "      <td>11</td>\n",
       "      <td>33.64044</td>\n",
       "      <td>-84.42694</td>\n",
       "      <td>648</td>\n",
       "      <td>...</td>\n",
       "      <td>0</td>\n",
       "      <td>0</td>\n",
       "      <td>0</td>\n",
       "      <td>0</td>\n",
       "      <td>0</td>\n",
       "      <td>0</td>\n",
       "      <td>0</td>\n",
       "      <td>0</td>\n",
       "      <td>0</td>\n",
       "      <td>0</td>\n",
       "    </tr>\n",
       "    <tr>\n",
       "      <th>4031915</th>\n",
       "      <td>27</td>\n",
       "      <td>5</td>\n",
       "      <td>-6.0</td>\n",
       "      <td>37.32547</td>\n",
       "      <td>-79.97543</td>\n",
       "      <td>357</td>\n",
       "      <td>11</td>\n",
       "      <td>33.64044</td>\n",
       "      <td>-84.42694</td>\n",
       "      <td>985</td>\n",
       "      <td>...</td>\n",
       "      <td>0</td>\n",
       "      <td>0</td>\n",
       "      <td>0</td>\n",
       "      <td>0</td>\n",
       "      <td>0</td>\n",
       "      <td>0</td>\n",
       "      <td>0</td>\n",
       "      <td>0</td>\n",
       "      <td>0</td>\n",
       "      <td>0</td>\n",
       "    </tr>\n",
       "    <tr>\n",
       "      <th>4031916</th>\n",
       "      <td>27</td>\n",
       "      <td>5</td>\n",
       "      <td>-1.0</td>\n",
       "      <td>37.32547</td>\n",
       "      <td>-79.97543</td>\n",
       "      <td>357</td>\n",
       "      <td>11</td>\n",
       "      <td>33.64044</td>\n",
       "      <td>-84.42694</td>\n",
       "      <td>1162</td>\n",
       "      <td>...</td>\n",
       "      <td>0</td>\n",
       "      <td>0</td>\n",
       "      <td>0</td>\n",
       "      <td>0</td>\n",
       "      <td>0</td>\n",
       "      <td>0</td>\n",
       "      <td>0</td>\n",
       "      <td>0</td>\n",
       "      <td>0</td>\n",
       "      <td>0</td>\n",
       "    </tr>\n",
       "    <tr>\n",
       "      <th>4031917</th>\n",
       "      <td>19</td>\n",
       "      <td>6</td>\n",
       "      <td>88.0</td>\n",
       "      <td>40.65236</td>\n",
       "      <td>-75.44040</td>\n",
       "      <td>692</td>\n",
       "      <td>12</td>\n",
       "      <td>33.64044</td>\n",
       "      <td>-84.42694</td>\n",
       "      <td>934</td>\n",
       "      <td>...</td>\n",
       "      <td>0</td>\n",
       "      <td>0</td>\n",
       "      <td>0</td>\n",
       "      <td>0</td>\n",
       "      <td>0</td>\n",
       "      <td>0</td>\n",
       "      <td>0</td>\n",
       "      <td>0</td>\n",
       "      <td>0</td>\n",
       "      <td>0</td>\n",
       "    </tr>\n",
       "    <tr>\n",
       "      <th>4031918</th>\n",
       "      <td>19</td>\n",
       "      <td>6</td>\n",
       "      <td>-2.0</td>\n",
       "      <td>40.65236</td>\n",
       "      <td>-75.44040</td>\n",
       "      <td>692</td>\n",
       "      <td>12</td>\n",
       "      <td>33.64044</td>\n",
       "      <td>-84.42694</td>\n",
       "      <td>1378</td>\n",
       "      <td>...</td>\n",
       "      <td>0</td>\n",
       "      <td>0</td>\n",
       "      <td>0</td>\n",
       "      <td>0</td>\n",
       "      <td>0</td>\n",
       "      <td>0</td>\n",
       "      <td>0</td>\n",
       "      <td>0</td>\n",
       "      <td>0</td>\n",
       "      <td>0</td>\n",
       "    </tr>\n",
       "  </tbody>\n",
       "</table>\n",
       "<p>4031919 rows × 407 columns</p>\n",
       "</div>"
      ],
      "text/plain": [
       "         day  day_of_week  departure_delay  destination_latitude  \\\n",
       "0          1            4            -11.0              47.44898   \n",
       "1          1            4             -4.0              47.44898   \n",
       "2          1            4            -14.0              47.44898   \n",
       "3          1            4            -15.0              47.44898   \n",
       "4          1            4            -11.0              47.44898   \n",
       "...      ...          ...              ...                   ...   \n",
       "4031914   27            5             77.0              37.32547   \n",
       "4031915   27            5             -6.0              37.32547   \n",
       "4031916   27            5             -1.0              37.32547   \n",
       "4031917   19            6             88.0              40.65236   \n",
       "4031918   19            6             -2.0              40.65236   \n",
       "\n",
       "         destination_longitude  distance  month  origin_latitude  \\\n",
       "0                   -122.30931      1448      1         61.17432   \n",
       "1                   -122.30931      1448      1         61.17432   \n",
       "2                   -122.30931      1448      1         61.17432   \n",
       "3                   -122.30931      1448      1         61.17432   \n",
       "4                   -122.30931      1448      1         61.17432   \n",
       "...                        ...       ...    ...              ...   \n",
       "4031914              -79.97543       357     11         33.64044   \n",
       "4031915              -79.97543       357     11         33.64044   \n",
       "4031916              -79.97543       357     11         33.64044   \n",
       "4031917              -75.44040       692     12         33.64044   \n",
       "4031918              -75.44040       692     12         33.64044   \n",
       "\n",
       "         origin_longitude  scheduled_arrival  ...  state_origin_SD  \\\n",
       "0              -149.99619                270  ...                0   \n",
       "1              -149.99619                309  ...                0   \n",
       "2              -149.99619                315  ...                0   \n",
       "3              -149.99619                393  ...                0   \n",
       "4              -149.99619                400  ...                0   \n",
       "...                   ...                ...  ...              ...   \n",
       "4031914         -84.42694                648  ...                0   \n",
       "4031915         -84.42694                985  ...                0   \n",
       "4031916         -84.42694               1162  ...                0   \n",
       "4031917         -84.42694                934  ...                0   \n",
       "4031918         -84.42694               1378  ...                0   \n",
       "\n",
       "         state_origin_TN  state_origin_TX  state_origin_UT  state_origin_VA  \\\n",
       "0                      0                0                0                0   \n",
       "1                      0                0                0                0   \n",
       "2                      0                0                0                0   \n",
       "3                      0                0                0                0   \n",
       "4                      0                0                0                0   \n",
       "...                  ...              ...              ...              ...   \n",
       "4031914                0                0                0                0   \n",
       "4031915                0                0                0                0   \n",
       "4031916                0                0                0                0   \n",
       "4031917                0                0                0                0   \n",
       "4031918                0                0                0                0   \n",
       "\n",
       "         state_origin_VT  state_origin_WA  state_origin_WI  state_origin_WV  \\\n",
       "0                      0                0                0                0   \n",
       "1                      0                0                0                0   \n",
       "2                      0                0                0                0   \n",
       "3                      0                0                0                0   \n",
       "4                      0                0                0                0   \n",
       "...                  ...              ...              ...              ...   \n",
       "4031914                0                0                0                0   \n",
       "4031915                0                0                0                0   \n",
       "4031916                0                0                0                0   \n",
       "4031917                0                0                0                0   \n",
       "4031918                0                0                0                0   \n",
       "\n",
       "         state_origin_WY  \n",
       "0                      0  \n",
       "1                      0  \n",
       "2                      0  \n",
       "3                      0  \n",
       "4                      0  \n",
       "...                  ...  \n",
       "4031914                0  \n",
       "4031915                0  \n",
       "4031916                0  \n",
       "4031917                0  \n",
       "4031918                0  \n",
       "\n",
       "[4031919 rows x 407 columns]"
      ]
     },
     "execution_count": 139,
     "metadata": {},
     "output_type": "execute_result"
    }
   ],
   "source": [
    "flights_numerical = pd.read_csv('data/flights_clean_numerical.csv')\n",
    "flights_numerical"
   ]
  },
  {
   "cell_type": "code",
   "execution_count": 140,
   "id": "c4297a1e",
   "metadata": {},
   "outputs": [],
   "source": [
    "columns_subset = \\\n",
    "    list(flights.columns.difference(['airline', 'destination_airport',\n",
    "                                     'origin_airport', 'state_destination', 'state_origin']))\n",
    "columns_subset += [\n",
    "    'airline_AS', 'airline_NK', 'airline_UA',\n",
    "    'destination_airport_BTV', 'destination_airport_DTW', 'destination_airport_FNT', \n",
    "    'origin_airport_CMH', 'origin_airport_IAD', 'origin_airport_LNK', 'origin_airport_RIC',\n",
    "    'state_destination_MI', 'state_destination_VT', 'state_origin_NE'\n",
    "]\n",
    "flights = flights_numerical[columns_subset]"
   ]
  },
  {
   "cell_type": "code",
   "execution_count": 141,
   "id": "d93b33f5",
   "metadata": {
    "scrolled": true
   },
   "outputs": [
    {
     "data": {
      "text/plain": [
       "day                           1.00000\n",
       "day_of_week                   4.00000\n",
       "day_of_year                   1.00000\n",
       "departure_delay             -11.00000\n",
       "destination_latitude         47.44898\n",
       "destination_longitude      -122.30931\n",
       "destination_temperature      32.90000\n",
       "distance                   1448.00000\n",
       "month                         1.00000\n",
       "origin_latitude              61.17432\n",
       "origin_longitude           -149.99619\n",
       "origin_temperature           35.20000\n",
       "scheduled_arrival           270.00000\n",
       "scheduled_departure           5.00000\n",
       "scheduled_time              205.00000\n",
       "taxi_in                       4.00000\n",
       "taxi_out                     21.00000\n",
       "airline_AS                    1.00000\n",
       "airline_NK                    0.00000\n",
       "airline_UA                    0.00000\n",
       "destination_airport_BTV       0.00000\n",
       "destination_airport_DTW       0.00000\n",
       "destination_airport_FNT       0.00000\n",
       "origin_airport_CMH            0.00000\n",
       "origin_airport_IAD            0.00000\n",
       "origin_airport_LNK            0.00000\n",
       "origin_airport_RIC            0.00000\n",
       "state_destination_MI          0.00000\n",
       "state_destination_VT          0.00000\n",
       "state_origin_NE               0.00000\n",
       "Name: 0, dtype: float64"
      ]
     },
     "execution_count": 141,
     "metadata": {},
     "output_type": "execute_result"
    }
   ],
   "source": [
    "flights.iloc[0]"
   ]
  },
  {
   "cell_type": "code",
   "execution_count": 142,
   "id": "1ee316eb",
   "metadata": {},
   "outputs": [],
   "source": [
    "pre_y = flights.departure_delay"
   ]
  },
  {
   "cell_type": "code",
   "execution_count": 143,
   "id": "70afa932",
   "metadata": {},
   "outputs": [],
   "source": [
    "pre_X = flights.drop(columns=['departure_delay'])"
   ]
  },
  {
   "cell_type": "code",
   "execution_count": 144,
   "id": "8c97b34a",
   "metadata": {},
   "outputs": [],
   "source": [
    "X, X_test, y, y_test = train_test_split(pre_X, pre_y)"
   ]
  },
  {
   "cell_type": "code",
   "execution_count": 145,
   "id": "ddedb85d",
   "metadata": {},
   "outputs": [],
   "source": [
    "scaler = StandardScaler()\n",
    "scaler.fit(X)\n",
    "Xstd = scaler.transform(X)"
   ]
  },
  {
   "cell_type": "code",
   "execution_count": 146,
   "id": "47287924",
   "metadata": {},
   "outputs": [],
   "source": [
    "alphas = 10**np.linspace(10,-2,200)*0.5"
   ]
  },
  {
   "cell_type": "code",
   "execution_count": 147,
   "id": "51cdeec6",
   "metadata": {},
   "outputs": [],
   "source": [
    "# Find ridge coeffs for all lambda values\n",
    "coefs = []\n",
    "for a in alphas:        \n",
    "    ridge = Ridge(alpha = a)\n",
    "    ridge.fit(Xstd, y)\n",
    "    coefs.append(ridge.coef_)"
   ]
  },
  {
   "cell_type": "code",
   "execution_count": 148,
   "id": "87e0f284",
   "metadata": {},
   "outputs": [
    {
     "data": {
      "text/plain": [
       "Text(0, 0.5, 'Standardized coefficient')"
      ]
     },
     "execution_count": 148,
     "metadata": {},
     "output_type": "execute_result"
    },
    {
     "data": {
      "image/png": "[encoded data removed]",
      "text/plain": [
       "<Figure size 432x288 with 1 Axes>"
      ]
     },
     "metadata": {
      "needs_background": "light"
     },
     "output_type": "display_data"
    }
   ],
   "source": [
    "# Visualize shrinking regression coefficients with lambda increase\n",
    "plt.xlabel('xlabel', fontsize=18)\n",
    "plt.ylabel('ylabel', fontsize=18)\n",
    "plt.plot(alphas, coefs)\n",
    "plt.xscale('log')\n",
    "plt.xlabel('$\\lambda$')\n",
    "plt.ylabel('Standardized coefficient')"
   ]
  },
  {
   "cell_type": "code",
   "execution_count": 149,
   "id": "0bd60e9b",
   "metadata": {},
   "outputs": [
    {
     "data": {
      "text/plain": [
       "0.05678666791715526"
      ]
     },
     "execution_count": 149,
     "metadata": {},
     "output_type": "execute_result"
    }
   ],
   "source": [
    "# Cross validation to find optimal lambda\n",
    "alphas = 10**np.linspace(5,-2,200)*0.5\n",
    "ridgecv = RidgeCV(alphas = alphas,store_cv_values=True)\n",
    "ridgecv.fit(Xstd, y)\n",
    "\n",
    "#Optimal value of the tuning parameter - lambda\n",
    "ridgecv.alpha_"
   ]
  },
  {
   "cell_type": "code",
   "execution_count": 167,
   "id": "6f45c0f7",
   "metadata": {},
   "outputs": [
    {
     "data": {
      "text/plain": [
       "Text(0, 0.5, 'Cross-validation error')"
      ]
     },
     "execution_count": 167,
     "metadata": {},
     "output_type": "execute_result"
    },
    {
     "data": {
      "image/png": "[encoded data removed]",
      "text/plain": [
       "<Figure size 432x288 with 1 Axes>"
      ]
     },
     "metadata": {
      "needs_background": "light"
     },
     "output_type": "display_data"
    }
   ],
   "source": [
    "#Visualizing the LOOCV (leave one out cross validatation error vs lambda)\n",
    "plt.xlabel('xlabel', fontsize=18)\n",
    "plt.ylabel('ylabel', fontsize=18)\n",
    "plt.plot(ridgecv.alphas,ridgecv.cv_values_.sum(axis=0))\n",
    "plt.plot([ridgecv.alpha_,ridgecv.alpha_],[4e9+2e8+3e7+4e6,4e9+2e8+3e7+7e6],':')\n",
    "plt.xlabel('$\\lambda$')\n",
    "plt.ylabel('Cross-validation error')"
   ]
  },
  {
   "cell_type": "code",
   "execution_count": 151,
   "id": "930ec288",
   "metadata": {},
   "outputs": [
    {
     "data": {
      "text/plain": [
       "Text(0, 0.5, 'Standardized coefficient')"
      ]
     },
     "execution_count": 151,
     "metadata": {},
     "output_type": "execute_result"
    },
    {
     "data": {
      "image/png": "[encoded data removed]",
      "text/plain": [
       "<Figure size 432x288 with 1 Axes>"
      ]
     },
     "metadata": {
      "needs_background": "light"
     },
     "output_type": "display_data"
    }
   ],
   "source": [
    "# Visualize with the optimal lambda\n",
    "alphas = 10**np.linspace(10,-2,200)*0.5\n",
    "plt.xlabel('xlabel', fontsize=18)\n",
    "plt.ylabel('ylabel', fontsize=18)\n",
    "plt.plot(alphas, coefs)\n",
    "plt.plot([ridgecv.alpha_,ridgecv.alpha_],[-150,150],':')\n",
    "plt.xscale('log')\n",
    "plt.xlabel('$\\lambda$')\n",
    "plt.ylabel('Standardized coefficient')"
   ]
  },
  {
   "cell_type": "code",
   "execution_count": 152,
   "id": "d7d60ee0",
   "metadata": {},
   "outputs": [],
   "source": [
    "Xtest_std = scaler.transform(X_test)"
   ]
  },
  {
   "cell_type": "code",
   "execution_count": 153,
   "id": "11a77b43",
   "metadata": {},
   "outputs": [],
   "source": [
    "#Using the developed ridge regression model to predict on test data\n",
    "ridge = Ridge(alpha = ridgecv.alpha_)\n",
    "ridge.fit(Xstd, y)\n",
    "pred=ridge.predict(Xtest_std)"
   ]
  },
  {
   "cell_type": "code",
   "execution_count": 154,
   "id": "828c355a",
   "metadata": {},
   "outputs": [
    {
     "data": {
      "text/plain": [
       "37.11052273216127"
      ]
     },
     "execution_count": 154,
     "metadata": {},
     "output_type": "execute_result"
    }
   ],
   "source": [
    "#RMSE on test data\n",
    "np.sqrt(((pred-y_test)**2).mean())"
   ]
  },
  {
   "cell_type": "markdown",
   "id": "d5a8ea69",
   "metadata": {},
   "source": [
    "Numerical + Categorical Ridge RMSE = 37.111"
   ]
  },
  {
   "cell_type": "code",
   "execution_count": 155,
   "id": "fb4d1427",
   "metadata": {},
   "outputs": [
    {
     "data": {
      "text/plain": [
       "37.54673725524366"
      ]
     },
     "execution_count": 155,
     "metadata": {},
     "output_type": "execute_result"
    }
   ],
   "source": [
    "y_test.std()"
   ]
  },
  {
   "cell_type": "code",
   "execution_count": 156,
   "id": "0fe474b3",
   "metadata": {},
   "outputs": [],
   "source": [
    "#Checking the coefficients of the ridge regression model\n",
    "#ridge.coef_"
   ]
  },
  {
   "cell_type": "code",
   "execution_count": 157,
   "id": "dab90cbf",
   "metadata": {},
   "outputs": [
    {
     "data": {
      "text/plain": [
       "-41.22659747836519"
      ]
     },
     "execution_count": 157,
     "metadata": {},
     "output_type": "execute_result"
    }
   ],
   "source": [
    "#R-squared on train data for the ridge regression model\n",
    "r2_score(ridge.predict(Xstd),y)"
   ]
  },
  {
   "cell_type": "code",
   "execution_count": 158,
   "id": "781ccbc5",
   "metadata": {},
   "outputs": [
    {
     "data": {
      "text/plain": [
       "-40.56369481199305"
      ]
     },
     "execution_count": 158,
     "metadata": {},
     "output_type": "execute_result"
    }
   ],
   "source": [
    "#R-squared on test data for the ridge regression model\n",
    "r2_score(pred,y_test)"
   ]
  },
  {
   "cell_type": "code",
   "execution_count": 159,
   "id": "d8f84be1",
   "metadata": {},
   "outputs": [
    {
     "data": {
      "text/plain": [
       "12143.176284074783"
      ]
     },
     "execution_count": 159,
     "metadata": {},
     "output_type": "execute_result"
    }
   ],
   "source": [
    "toc_dummy = time.time()\n",
    "toc_dummy - tic_dummy"
   ]
  }
 ],
 "metadata": {
  "kernelspec": {
   "display_name": "Python 3",
   "language": "python",
   "name": "python3"
  },
  "language_info": {
   "codemirror_mode": {
    "name": "ipython",
    "version": 3
   },
   "file_extension": ".py",
   "mimetype": "text/x-python",
   "name": "python",
   "nbconvert_exporter": "python",
   "pygments_lexer": "ipython3",
   "version": "3.8.8"
  }
 },
 "nbformat": 4,
 "nbformat_minor": 5
}
