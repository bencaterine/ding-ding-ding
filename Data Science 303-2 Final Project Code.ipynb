{
 "cells": [
  {
   "cell_type": "raw",
   "id": "bd85b6d5",
   "metadata": {},
   "source": [
    "---\n",
    "title: \"Project Code\"\n",
    "subtitle: Team name\n",
    "author: Author 1, Author 2, Author 3, and Author 4 \n",
    "date: 02/27/2023\n",
    "number-sections: true\n",
    "abstract: _This file contains the code for the project on <>, as part of the STAT303-2 course in Winter 2023_.\n",
    "format: \n",
    "  html:\n",
    "    toc: true\n",
    "    toc-title: Contents\n",
    "    self-contained: true\n",
    "    font-size: 100%\n",
    "    toc-depth: 4\n",
    "    mainfont: serif\n",
    "jupyter: python3\n",
    "---"
   ]
  },
  {
   "cell_type": "markdown",
   "id": "eb4231a1",
   "metadata": {},
   "source": [
    "# Importation of Libraries"
   ]
  },
  {
   "cell_type": "code",
   "execution_count": 3,
   "id": "4d8acff1",
   "metadata": {},
   "outputs": [],
   "source": [
    "import pandas as pd\n",
    "import numpy as np\n",
    "from datetime import datetime\n",
    "import statsmodels.formula.api as smf\n",
    "import seaborn as sns\n",
    "import matplotlib.pyplot as plt\n",
    "from collections import Counter\n",
    "from imblearn.under_sampling import RandomUnderSampler\n",
    "from sklearn.model_selection import train_test_split\n",
    "import pandas as pd\n",
    "import numpy as np\n",
    "import warnings\n",
    "warnings.simplefilter(action='ignore', category=FutureWarning)"
   ]
  },
  {
   "cell_type": "markdown",
   "id": "aa10cd37",
   "metadata": {},
   "source": [
    "# Data Quality Check/Cleaning/Preparation"
   ]
  },
  {
   "cell_type": "markdown",
   "id": "dea57081",
   "metadata": {},
   "source": [
    "## Data Quality Check"
   ]
  },
  {
   "cell_type": "code",
   "execution_count": null,
   "id": "b547d15e",
   "metadata": {},
   "outputs": [],
   "source": []
  },
  {
   "cell_type": "markdown",
   "id": "71fa9dd6",
   "metadata": {},
   "source": [
    "## Data Cleaning "
   ]
  },
  {
   "cell_type": "code",
   "execution_count": null,
   "id": "969162d3",
   "metadata": {},
   "outputs": [],
   "source": []
  },
  {
   "cell_type": "markdown",
   "id": "8fce887a",
   "metadata": {},
   "source": [
    "## Data Preparation\n",
    "##### by Benjamin Catherine and Aymen Lamsahel"
   ]
  },
  {
   "cell_type": "code",
   "execution_count": null,
   "id": "e4ade10e",
   "metadata": {},
   "outputs": [],
   "source": []
  },
  {
   "cell_type": "code",
   "execution_count": null,
   "id": "a12a105f",
   "metadata": {},
   "outputs": [],
   "source": []
  },
  {
   "cell_type": "code",
   "execution_count": null,
   "id": "7a573634",
   "metadata": {},
   "outputs": [],
   "source": []
  },
  {
   "cell_type": "markdown",
   "id": "52cffba4",
   "metadata": {},
   "source": [
    "### Determination of Optimal Sample Extraction Method"
   ]
  },
  {
   "cell_type": "markdown",
   "id": "0545bfa8",
   "metadata": {},
   "source": [
    "####  General Sample Extraction Method"
   ]
  },
  {
   "cell_type": "code",
   "execution_count": null,
   "id": "355733cf",
   "metadata": {},
   "outputs": [],
   "source": [
    "# A random sample of flight data contained therein is extracted without considering any potential covariate shifts \n",
    "# of any flight characterics.\n",
    "\n",
    "flights_sample1 = flights_clean.sample(n=10000)\n",
    "flights_sample1.origin_airport.value_counts()\n",
    "\n",
    "# One way of assessing the distribution of our data is by finding the ratio of the frequency of the most recurrent \n",
    "# value to the frequency of the least recurrent value in an essential column, such as origin_airport and \n",
    "# destination_airport, which already implicitly takes into account city and state. \n",
    "\n",
    "origin_freq = max(flights_sample1.origin_airport.value_counts())/min(flights_sample1.origin_airport.value_counts())\n",
    "print('The frequency ratio of the most and least recurrenct value for origin_airport is: ',origin_freq )\n",
    "destination_freq = max(flights_sample1.destination_airport.value_counts())/min(flights_sample1.destination_airport.value_counts())\n",
    "print('The frequency ratio of the most and least recurrenct value for destination_airport is: ',destination_freq )\n",
    "\n",
    "#\n",
    "plt.figure(figsize=(18,6), layout = 'constrained')\n",
    "flights_sample1.destination_airport.value_counts().plot(kind='bar')\n",
    "\n",
    "#\n",
    "plt.figure(figsize=(18,6), layout = 'constrained')\n",
    "flights_sample1.origin_airport.value_counts().plot(kind='bar')"
   ]
  },
  {
   "cell_type": "markdown",
   "id": "b73135ff",
   "metadata": {},
   "source": [
    "#### Unidimensional Data-Balancing Sample Extraction Method"
   ]
  },
  {
   "cell_type": "code",
   "execution_count": null,
   "id": "0f573e9d",
   "metadata": {},
   "outputs": [],
   "source": [
    "flights_sample21 = flights_clean.groupby(['origin_airport']).apply(lambda x:x.sample(100))\n",
    "\n",
    "origin_freq = max(flights_sample21.origin_airport.value_counts())/min(flights_sample21.origin_airport.value_counts())\n",
    "print('The frequency ratio of the most and least recurrenct value for origin_airport is: ',origin_freq )\n",
    "destination_freq = max(flights_sample21.destination_airport.value_counts())/min(flights_sample21.destination_airport.value_counts())\n",
    "print('The frequency ratio of the most and least recurrenct value for destination_airport is: ',destination_freq )\n",
    "\n",
    "#\n",
    "plt.figure(figsize=(18,6), layout = 'constrained')\n",
    "flights_sample21.destination_airport.value_counts().plot(kind='bar')\n",
    "\n",
    "###\n",
    "\n",
    "flights_sample22 = flights_clean.groupby(['destination_airport']).apply(lambda x:x.sample(100))\n",
    "\n",
    "origin_freq = max(flights_sample22.origin_airport.value_counts())/min(flights_sample22.origin_airport.value_counts())\n",
    "print('The frequency ratio of the most and least recurrenct value for origin_airport is: ',origin_freq )\n",
    "destination_freq = max(flights_sample22.destination_airport.value_counts())/min(flights_sample22.destination_airport.value_counts())\n",
    "print('The frequency ratio of the most and least recurrenct value for destination_airport is: ',destination_freq )\n",
    "\n",
    "#\n",
    "plt.figure(figsize=(18,6), layout = 'constrained')\n",
    "flights_sample22.origin_airport.value_counts().plot(kind='bar')"
   ]
  },
  {
   "cell_type": "markdown",
   "id": "5d5966d8",
   "metadata": {},
   "source": [
    "#### Multidimensional Data-Balancing Sample Extraction Method"
   ]
  },
  {
   "cell_type": "code",
   "execution_count": null,
   "id": "2c223ae8",
   "metadata": {},
   "outputs": [],
   "source": [
    "# Create two dataframes that are each derived using the previous method and then concatenate them.\n",
    "\n",
    "flights_samplen1 = flights_clean.groupby(['origin_airport'], as_index = False).apply(lambda x:x.sample(200))\n",
    "flights_samplen2 = flights_clean.groupby(['destination_airport'], as_index = False).apply(lambda x:x.sample(200))\n",
    "\n",
    "flights_samplen1 = flights_samplen1.reset_index().drop(columns = ['level_1','level_0'])\n",
    "flights_samplen2 = flights_samplen2.reset_index().drop(columns = ['level_1','level_0'])\n",
    "\n",
    "# Concatenation of Both DataFrames flights_sample1 and flights_sample2\n",
    "flights_sample3 = pd.concat([flights_samplen1,flights_samplen2], axis=0).drop_duplicates()\n",
    "\n",
    "origin_freq = max(flights_sample3.origin_airport.value_counts())/min(flights_sample3.origin_airport.value_counts())\n",
    "print('The frequency ratio of the most and least recurrenct value for origin_airport is: ',origin_freq )\n",
    "destination_freq = max(flights_sample3.destination_airport.value_counts())/min(flights_sample3.destination_airport.value_counts())\n",
    "print('The frequency ratio of the most and least recurrenct value for destination_airport is: ',destination_freq )\n",
    "\n",
    "#\n",
    "plt.figure(figsize=(18,6), layout = 'constrained')\n",
    "flights_sample3.origin_airport.value_counts().plot(kind='bar')\n",
    "\n",
    "#\n",
    "plt.figure(figsize=(18,6), layout = 'constrained')\n",
    "flights_sample3.destination_airport.value_counts().plot(kind='bar')"
   ]
  },
  {
   "cell_type": "markdown",
   "id": "4bd5bb9d",
   "metadata": {},
   "source": [
    "#### Potential Covariate Shift Analysis between Train and Test Data"
   ]
  },
  {
   "cell_type": "code",
   "execution_count": null,
   "id": "6646fc23",
   "metadata": {},
   "outputs": [],
   "source": [
    "max(flights_clean.origin_airport.value_counts())/min(flights_clean.origin_airport.value_counts())\n",
    "max(flights_clean.destination_airport.value_counts())/min(flights_clean.destination_airport.value_counts())\n",
    "\n",
    "origin_freq = max(flights_clean.origin_airport.value_counts())/min(flights_clean.origin_airport.value_counts())\n",
    "print('The frequency ratio of the most and least recurrenct value for origin_airport is: ',origin_freq )\n",
    "destination_freq = max(flights_clean.destination_airport.value_counts())/min(flights_clean.destination_airport.value_counts())\n",
    "print('The frequency ratio of the most and least recurrenct value for destination_airport is: ',destination_freq )\n",
    "\n",
    "#\n",
    "plt.figure(figsize=(18,6), layout = 'constrained')\n",
    "flights_clean.origin_airport.value_counts().plot(kind='bar')\n",
    "\n",
    "#\n",
    "plt.figure(figsize=(18,6), layout = 'constrained')\n",
    "flights_clean.destination_airport.value_counts().plot(kind='bar')\n"
   ]
  },
  {
   "cell_type": "code",
   "execution_count": null,
   "id": "b76cc129",
   "metadata": {},
   "outputs": [],
   "source": [
    "from scipy.stats import ttest_ind\n",
    "\n",
    "stat, p_value = ttest_ind(flights_sample1.destination_airport.value_counts(), flights_clean.destination_airport.value_counts())\n",
    "print(f\"t-test: statistic={stat:.4f}, p-value={p_value:.4f}\")"
   ]
  },
  {
   "cell_type": "code",
   "execution_count": null,
   "id": "096d89dc",
   "metadata": {},
   "outputs": [],
   "source": [
    "from scipy.stats import mannwhitneyu\n",
    "\n",
    "stat, p_value = mannwhitneyu(flights_sample1.destination_airport.value_counts(), flights_clean.destination_airport.value_counts())\n",
    "print(f\" Mann–Whitney U Test: statistic={stat:.4f}, p-value={p_value:.4f}\")"
   ]
  },
  {
   "cell_type": "markdown",
   "id": "caff47d1",
   "metadata": {},
   "source": [
    "**EDA:** It seems that given the statistic values and p-values derived from both the t-tests and Mann-Whitney U Tests and given our observation of the frequency distribution of the airports in all the samples and the overall dataset, the first sample, flights_sample1, may be the safest and most representative training set of all."
   ]
  },
  {
   "cell_type": "markdown",
   "id": "a6c77bf8",
   "metadata": {},
   "source": [
    "## Exploratory Data Analysis (EDA)"
   ]
  },
  {
   "cell_type": "code",
   "execution_count": null,
   "id": "af975fd9",
   "metadata": {},
   "outputs": [],
   "source": []
  },
  {
   "cell_type": "code",
   "execution_count": null,
   "id": "871c1048",
   "metadata": {},
   "outputs": [],
   "source": []
  },
  {
   "cell_type": "code",
   "execution_count": null,
   "id": "802630a7",
   "metadata": {},
   "outputs": [],
   "source": []
  },
  {
   "cell_type": "code",
   "execution_count": null,
   "id": "1a675955",
   "metadata": {},
   "outputs": [],
   "source": []
  },
  {
   "cell_type": "markdown",
   "id": "e48006eb",
   "metadata": {},
   "source": [
    "## Machine Learning Model Development"
   ]
  },
  {
   "cell_type": "code",
   "execution_count": null,
   "id": "25c8825b",
   "metadata": {},
   "outputs": [],
   "source": []
  },
  {
   "cell_type": "markdown",
   "id": "9f1d2a7f",
   "metadata": {},
   "source": [
    "## Conclusions and Recommendations to Stakeholder(s)"
   ]
  },
  {
   "cell_type": "code",
   "execution_count": null,
   "id": "424cfd87",
   "metadata": {},
   "outputs": [],
   "source": []
  }
 ],
 "metadata": {
  "kernelspec": {
   "display_name": "Python 3 (ipykernel)",
   "language": "python",
   "name": "python3"
  },
  "language_info": {
   "codemirror_mode": {
    "name": "ipython",
    "version": 3
   },
   "file_extension": ".py",
   "mimetype": "text/x-python",
   "name": "python",
   "nbconvert_exporter": "python",
   "pygments_lexer": "ipython3",
   "version": "3.9.12"
  }
 },
 "nbformat": 4,
 "nbformat_minor": 5
}
