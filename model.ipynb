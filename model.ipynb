{
 "cells": [
  {
   "cell_type": "markdown",
   "id": "39600f3d",
   "metadata": {},
   "source": [
    "### Importation of Libraries "
   ]
  },
  {
   "cell_type": "code",
   "execution_count": 1,
   "id": "7580b3e7",
   "metadata": {},
   "outputs": [],
   "source": [
    "import pandas as pd\n",
    "import numpy as np\n",
    "import statsmodels.formula.api as smf\n",
    "import seaborn as sns\n",
    "import matplotlib.pyplot as plt"
   ]
  },
  {
   "cell_type": "markdown",
   "id": "3c3dfe64",
   "metadata": {},
   "source": [
    "### Data Reading and Wrangling"
   ]
  },
  {
   "cell_type": "markdown",
   "id": "05ffa615",
   "metadata": {},
   "source": [
    "##### Airlines and Airport Datasets"
   ]
  },
  {
   "cell_type": "code",
   "execution_count": 2,
   "id": "17b17417",
   "metadata": {},
   "outputs": [
    {
     "data": {
      "text/html": [
       "<div>\n",
       "<style scoped>\n",
       "    .dataframe tbody tr th:only-of-type {\n",
       "        vertical-align: middle;\n",
       "    }\n",
       "\n",
       "    .dataframe tbody tr th {\n",
       "        vertical-align: top;\n",
       "    }\n",
       "\n",
       "    .dataframe thead th {\n",
       "        text-align: right;\n",
       "    }\n",
       "</style>\n",
       "<table border=\"1\" class=\"dataframe\">\n",
       "  <thead>\n",
       "    <tr style=\"text-align: right;\">\n",
       "      <th></th>\n",
       "      <th>IATA_CODE</th>\n",
       "      <th>AIRLINE</th>\n",
       "    </tr>\n",
       "  </thead>\n",
       "  <tbody>\n",
       "    <tr>\n",
       "      <th>0</th>\n",
       "      <td>UA</td>\n",
       "      <td>United Air Lines Inc.</td>\n",
       "    </tr>\n",
       "    <tr>\n",
       "      <th>1</th>\n",
       "      <td>AA</td>\n",
       "      <td>American Airlines Inc.</td>\n",
       "    </tr>\n",
       "    <tr>\n",
       "      <th>2</th>\n",
       "      <td>US</td>\n",
       "      <td>US Airways Inc.</td>\n",
       "    </tr>\n",
       "    <tr>\n",
       "      <th>3</th>\n",
       "      <td>F9</td>\n",
       "      <td>Frontier Airlines Inc.</td>\n",
       "    </tr>\n",
       "    <tr>\n",
       "      <th>4</th>\n",
       "      <td>B6</td>\n",
       "      <td>JetBlue Airways</td>\n",
       "    </tr>\n",
       "    <tr>\n",
       "      <th>5</th>\n",
       "      <td>OO</td>\n",
       "      <td>Skywest Airlines Inc.</td>\n",
       "    </tr>\n",
       "    <tr>\n",
       "      <th>6</th>\n",
       "      <td>AS</td>\n",
       "      <td>Alaska Airlines Inc.</td>\n",
       "    </tr>\n",
       "    <tr>\n",
       "      <th>7</th>\n",
       "      <td>NK</td>\n",
       "      <td>Spirit Air Lines</td>\n",
       "    </tr>\n",
       "    <tr>\n",
       "      <th>8</th>\n",
       "      <td>WN</td>\n",
       "      <td>Southwest Airlines Co.</td>\n",
       "    </tr>\n",
       "    <tr>\n",
       "      <th>9</th>\n",
       "      <td>DL</td>\n",
       "      <td>Delta Air Lines Inc.</td>\n",
       "    </tr>\n",
       "    <tr>\n",
       "      <th>10</th>\n",
       "      <td>EV</td>\n",
       "      <td>Atlantic Southeast Airlines</td>\n",
       "    </tr>\n",
       "    <tr>\n",
       "      <th>11</th>\n",
       "      <td>HA</td>\n",
       "      <td>Hawaiian Airlines Inc.</td>\n",
       "    </tr>\n",
       "    <tr>\n",
       "      <th>12</th>\n",
       "      <td>MQ</td>\n",
       "      <td>American Eagle Airlines Inc.</td>\n",
       "    </tr>\n",
       "    <tr>\n",
       "      <th>13</th>\n",
       "      <td>VX</td>\n",
       "      <td>Virgin America</td>\n",
       "    </tr>\n",
       "  </tbody>\n",
       "</table>\n",
       "</div>"
      ],
      "text/plain": [
       "   IATA_CODE                       AIRLINE\n",
       "0         UA         United Air Lines Inc.\n",
       "1         AA        American Airlines Inc.\n",
       "2         US               US Airways Inc.\n",
       "3         F9        Frontier Airlines Inc.\n",
       "4         B6               JetBlue Airways\n",
       "5         OO         Skywest Airlines Inc.\n",
       "6         AS          Alaska Airlines Inc.\n",
       "7         NK              Spirit Air Lines\n",
       "8         WN        Southwest Airlines Co.\n",
       "9         DL          Delta Air Lines Inc.\n",
       "10        EV   Atlantic Southeast Airlines\n",
       "11        HA        Hawaiian Airlines Inc.\n",
       "12        MQ  American Eagle Airlines Inc.\n",
       "13        VX                Virgin America"
      ]
     },
     "execution_count": 2,
     "metadata": {},
     "output_type": "execute_result"
    }
   ],
   "source": [
    "airlines = pd.read_csv('data/airlines.csv')\n",
    "airlines"
   ]
  },
  {
   "cell_type": "code",
   "execution_count": 3,
   "id": "1605f4ca",
   "metadata": {},
   "outputs": [
    {
     "data": {
      "text/html": [
       "<div>\n",
       "<style scoped>\n",
       "    .dataframe tbody tr th:only-of-type {\n",
       "        vertical-align: middle;\n",
       "    }\n",
       "\n",
       "    .dataframe tbody tr th {\n",
       "        vertical-align: top;\n",
       "    }\n",
       "\n",
       "    .dataframe thead th {\n",
       "        text-align: right;\n",
       "    }\n",
       "</style>\n",
       "<table border=\"1\" class=\"dataframe\">\n",
       "  <thead>\n",
       "    <tr style=\"text-align: right;\">\n",
       "      <th></th>\n",
       "      <th>iata_code</th>\n",
       "      <th>airport</th>\n",
       "      <th>city</th>\n",
       "      <th>state</th>\n",
       "      <th>country</th>\n",
       "      <th>latitude</th>\n",
       "      <th>longitude</th>\n",
       "    </tr>\n",
       "  </thead>\n",
       "  <tbody>\n",
       "    <tr>\n",
       "      <th>0</th>\n",
       "      <td>ABE</td>\n",
       "      <td>Lehigh Valley International Airport</td>\n",
       "      <td>Allentown</td>\n",
       "      <td>PA</td>\n",
       "      <td>USA</td>\n",
       "      <td>40.65236</td>\n",
       "      <td>-75.44040</td>\n",
       "    </tr>\n",
       "    <tr>\n",
       "      <th>1</th>\n",
       "      <td>ABI</td>\n",
       "      <td>Abilene Regional Airport</td>\n",
       "      <td>Abilene</td>\n",
       "      <td>TX</td>\n",
       "      <td>USA</td>\n",
       "      <td>32.41132</td>\n",
       "      <td>-99.68190</td>\n",
       "    </tr>\n",
       "    <tr>\n",
       "      <th>2</th>\n",
       "      <td>ABQ</td>\n",
       "      <td>Albuquerque International Sunport</td>\n",
       "      <td>Albuquerque</td>\n",
       "      <td>NM</td>\n",
       "      <td>USA</td>\n",
       "      <td>35.04022</td>\n",
       "      <td>-106.60919</td>\n",
       "    </tr>\n",
       "    <tr>\n",
       "      <th>3</th>\n",
       "      <td>ABR</td>\n",
       "      <td>Aberdeen Regional Airport</td>\n",
       "      <td>Aberdeen</td>\n",
       "      <td>SD</td>\n",
       "      <td>USA</td>\n",
       "      <td>45.44906</td>\n",
       "      <td>-98.42183</td>\n",
       "    </tr>\n",
       "    <tr>\n",
       "      <th>4</th>\n",
       "      <td>ABY</td>\n",
       "      <td>Southwest Georgia Regional Airport</td>\n",
       "      <td>Albany</td>\n",
       "      <td>GA</td>\n",
       "      <td>USA</td>\n",
       "      <td>31.53552</td>\n",
       "      <td>-84.19447</td>\n",
       "    </tr>\n",
       "    <tr>\n",
       "      <th>...</th>\n",
       "      <td>...</td>\n",
       "      <td>...</td>\n",
       "      <td>...</td>\n",
       "      <td>...</td>\n",
       "      <td>...</td>\n",
       "      <td>...</td>\n",
       "      <td>...</td>\n",
       "    </tr>\n",
       "    <tr>\n",
       "      <th>317</th>\n",
       "      <td>WRG</td>\n",
       "      <td>Wrangell Airport</td>\n",
       "      <td>Wrangell</td>\n",
       "      <td>AK</td>\n",
       "      <td>USA</td>\n",
       "      <td>56.48433</td>\n",
       "      <td>-132.36982</td>\n",
       "    </tr>\n",
       "    <tr>\n",
       "      <th>318</th>\n",
       "      <td>WYS</td>\n",
       "      <td>Westerly State Airport</td>\n",
       "      <td>West Yellowstone</td>\n",
       "      <td>MT</td>\n",
       "      <td>USA</td>\n",
       "      <td>44.68840</td>\n",
       "      <td>-111.11764</td>\n",
       "    </tr>\n",
       "    <tr>\n",
       "      <th>319</th>\n",
       "      <td>XNA</td>\n",
       "      <td>Northwest Arkansas Regional Airport</td>\n",
       "      <td>Fayetteville/Springdale/Rogers</td>\n",
       "      <td>AR</td>\n",
       "      <td>USA</td>\n",
       "      <td>36.28187</td>\n",
       "      <td>-94.30681</td>\n",
       "    </tr>\n",
       "    <tr>\n",
       "      <th>320</th>\n",
       "      <td>YAK</td>\n",
       "      <td>Yakutat Airport</td>\n",
       "      <td>Yakutat</td>\n",
       "      <td>AK</td>\n",
       "      <td>USA</td>\n",
       "      <td>59.50336</td>\n",
       "      <td>-139.66023</td>\n",
       "    </tr>\n",
       "    <tr>\n",
       "      <th>321</th>\n",
       "      <td>YUM</td>\n",
       "      <td>Yuma International Airport</td>\n",
       "      <td>Yuma</td>\n",
       "      <td>AZ</td>\n",
       "      <td>USA</td>\n",
       "      <td>32.65658</td>\n",
       "      <td>-114.60597</td>\n",
       "    </tr>\n",
       "  </tbody>\n",
       "</table>\n",
       "<p>322 rows × 7 columns</p>\n",
       "</div>"
      ],
      "text/plain": [
       "    iata_code                              airport  \\\n",
       "0         ABE  Lehigh Valley International Airport   \n",
       "1         ABI             Abilene Regional Airport   \n",
       "2         ABQ    Albuquerque International Sunport   \n",
       "3         ABR            Aberdeen Regional Airport   \n",
       "4         ABY   Southwest Georgia Regional Airport   \n",
       "..        ...                                  ...   \n",
       "317       WRG                     Wrangell Airport   \n",
       "318       WYS               Westerly State Airport   \n",
       "319       XNA  Northwest Arkansas Regional Airport   \n",
       "320       YAK                      Yakutat Airport   \n",
       "321       YUM           Yuma International Airport   \n",
       "\n",
       "                               city state country  latitude  longitude  \n",
       "0                         Allentown    PA     USA  40.65236  -75.44040  \n",
       "1                           Abilene    TX     USA  32.41132  -99.68190  \n",
       "2                       Albuquerque    NM     USA  35.04022 -106.60919  \n",
       "3                          Aberdeen    SD     USA  45.44906  -98.42183  \n",
       "4                            Albany    GA     USA  31.53552  -84.19447  \n",
       "..                              ...   ...     ...       ...        ...  \n",
       "317                        Wrangell    AK     USA  56.48433 -132.36982  \n",
       "318                West Yellowstone    MT     USA  44.68840 -111.11764  \n",
       "319  Fayetteville/Springdale/Rogers    AR     USA  36.28187  -94.30681  \n",
       "320                         Yakutat    AK     USA  59.50336 -139.66023  \n",
       "321                            Yuma    AZ     USA  32.65658 -114.60597  \n",
       "\n",
       "[322 rows x 7 columns]"
      ]
     },
     "execution_count": 3,
     "metadata": {},
     "output_type": "execute_result"
    }
   ],
   "source": [
    "airports = pd.read_csv('data/airports.csv')\n",
    "airports.columns = airports.columns.str.lower()\n",
    "airports # This dataset will be merged with the flights dataset since it contains information \n",
    "         # that is of importance to our analysis and ultimate regression model that will be based \n",
    "         # off of the flights dataset. "
   ]
  },
  {
   "cell_type": "markdown",
   "id": "d8a4a703",
   "metadata": {},
   "source": [
    "##### Flights Dataset (and Merging of aforementioned dataset with Airports dataset)"
   ]
  },
  {
   "cell_type": "code",
   "execution_count": null,
   "id": "f94c3279",
   "metadata": {},
   "outputs": [
    {
     "name": "stderr",
     "output_type": "stream",
     "text": [
      "/var/folders/0r/5f62klsd5972dd_55bcz2qq80000gn/T/ipykernel_20348/3697502590.py:1: DtypeWarning: Columns (7,8) have mixed types. Specify dtype option on import or set low_memory=False.\n",
      "  flights = pd.read_csv('data/flights.csv')\n"
     ]
    }
   ],
   "source": [
    "flights = pd.read_csv('data/flights.csv')\n",
    "flights.columns = flights.columns.str.lower()\n",
    "flights = flights.merge(right=airports, how='left', left_on='origin_airport', right_on='iata_code')"
   ]
  },
  {
   "cell_type": "code",
   "execution_count": null,
   "id": "c1edfae8",
   "metadata": {},
   "outputs": [],
   "source": [
    "X = flights[flights.columns.difference([\n",
    "    'year', # all are 2015\n",
    "    'flight_number', # irrelevant\n",
    "    'tail_number', # irrelevant\n",
    "    'departure_time', # collinearity: scheduled_departure + departure_delay\n",
    "    'wheels_off', # co: departure_time + taxi_out\n",
    "    'elapsed_time', # co: scheduled_time + departure_delay\n",
    "    'air_time', # co: elapsed_time - taxi_out - taxi_in\n",
    "    'wheels_on', # co: arrival_time - taxi_in\n",
    "    # leave in arrival_time because of time changes\n",
    "    'arrival_delay', # co: departure_delay\n",
    "    'diverted', # occurs after delay, can't be used to predict delay time\n",
    "    'cancelled', # occurs after delay,\n",
    "    'cancellation_reason',\n",
    "    'air_system_delay',\n",
    "    'security_delay',\n",
    "    'airline_delay',\n",
    "    'late_aircraft_delay',\n",
    "    'weather_delay',\n",
    "    'iata_code', # same as origin_airport\n",
    "    'airport', # airport already described in origin_airport\n",
    "    'country' # all are USA\n",
    "])]"
   ]
  },
  {
   "cell_type": "markdown",
   "id": "7f61124c",
   "metadata": {},
   "source": [
    "### Data Cleaning and Preparation"
   ]
  },
  {
   "cell_type": "code",
   "execution_count": null,
   "id": "2e3acbc9",
   "metadata": {},
   "outputs": [],
   "source": [
    "X.iloc[:,7:9].astype('category')\n",
    "flights_sample = X.sample(n=10000)\n",
    "flights_sample.dtypes"
   ]
  },
  {
   "cell_type": "code",
   "execution_count": null,
   "id": "a089ea8e",
   "metadata": {},
   "outputs": [],
   "source": [
    "flights_sample.columns"
   ]
  },
  {
   "cell_type": "markdown",
   "id": "98a6085d",
   "metadata": {},
   "source": [
    "### Statistical Analysis "
   ]
  },
  {
   "cell_type": "markdown",
   "id": "16bc5b08",
   "metadata": {},
   "source": [
    "#### Correleation Analysis"
   ]
  },
  {
   "cell_type": "code",
   "execution_count": null,
   "id": "b9fe3395",
   "metadata": {},
   "outputs": [],
   "source": [
    "# Create correlation matrix\n",
    "corr_matrix = flights_sample.corr().abs()\n",
    "\n",
    "# Select upper triangle of correlation matrix\n",
    "upper = corr_matrix.where(np.triu(np.ones(corr_matrix.shape), k=1).astype(bool))\n",
    "\n",
    "# Find features with correlation greater than 0.30\n",
    "highcorr_matrix = upper[(upper > 0.45)]\n",
    "\n",
    "highcorr_mat = highcorr_matrix.dropna(how='all')\n",
    "highcorr_mat"
   ]
  },
  {
   "cell_type": "markdown",
   "id": "92147097",
   "metadata": {},
   "source": [
    "#### Analysis of Potential Variable Interactions and Transformations "
   ]
  },
  {
   "cell_type": "code",
   "execution_count": null,
   "id": "6c7f0071",
   "metadata": {},
   "outputs": [],
   "source": [
    "flights_sample.columns"
   ]
  },
  {
   "cell_type": "markdown",
   "id": "38b57c66",
   "metadata": {},
   "source": [
    "##### Plots of Predictors Against Response Variable"
   ]
  },
  {
   "cell_type": "code",
   "execution_count": null,
   "id": "b87d7160",
   "metadata": {},
   "outputs": [],
   "source": [
    "#Jittering points to better see the density of points in any given region of the plot\n",
    "def jitter(values,j):\n",
    "    return values + np.random.normal(j,0.02,values.shape)\n",
    "\n",
    "for i in flights_sample.columns:\n",
    "    if (flights_sample[str(i)].dtype == 'int64' or flights_sample[str(i)].dtype == 'float64') and (str(i) != 'departure_delay') :\n",
    "        plt.figure(figsize=(12,9), layout = 'constrained')\n",
    "        plt.scatter(jitter(flights_sample[i],0),jitter(flights_sample['departure_delay'],0))\n",
    "        plt.title(str(i) + ' vs. Departure Delay')\n",
    "        plt.xlabel(str(i))\n",
    "        plt.ylabel('Departure Delay')\n",
    "        # Show/save figure as desired.\n",
    "        plt.show()"
   ]
  },
  {
   "cell_type": "markdown",
   "id": "5f06632a",
   "metadata": {},
   "source": [
    "##### Residual Plots of Predictors Against Response Variable"
   ]
  },
  {
   "cell_type": "code",
   "execution_count": null,
   "id": "b93ed60f",
   "metadata": {},
   "outputs": [],
   "source": []
  },
  {
   "cell_type": "code",
   "execution_count": null,
   "id": "03be0f12",
   "metadata": {},
   "outputs": [],
   "source": []
  },
  {
   "cell_type": "code",
   "execution_count": null,
   "id": "d358cd1b",
   "metadata": {},
   "outputs": [],
   "source": []
  },
  {
   "cell_type": "markdown",
   "id": "132351d6",
   "metadata": {},
   "source": [
    "##### Distribution of Predictors"
   ]
  },
  {
   "cell_type": "code",
   "execution_count": null,
   "id": "9ec9cb23",
   "metadata": {},
   "outputs": [],
   "source": [
    "#Jittering points to better see the density of points in any given region of the plot\n",
    "def jitter(values,j):\n",
    "    return values + np.random.normal(j,0.02,values.shape)\n",
    "\n",
    "for i in flights_sample.columns:\n",
    "    if (flights_sample[str(i)].dtype == 'int64' or flights_sample[str(i)].dtype == 'float64'):\n",
    "        sns.set(rc = {'figure.figsize':(20,12)})\n",
    "        sns.set(font_scale = 2)\n",
    "        sns.histplot(flights_sample[str(i)],kde=True)\n",
    "        plt.show()\n"
   ]
  },
  {
   "cell_type": "code",
   "execution_count": null,
   "id": "0c45c03c",
   "metadata": {},
   "outputs": [],
   "source": []
  },
  {
   "cell_type": "markdown",
   "id": "f40b4ab3",
   "metadata": {},
   "source": [
    "##### 2D Histogram Binning "
   ]
  },
  {
   "cell_type": "code",
   "execution_count": null,
   "id": "f95013d2",
   "metadata": {},
   "outputs": [],
   "source": [
    "import plotly.graph_objects as go\n",
    "\n",
    "import numpy as np\n",
    "\n",
    "x = np.random.randn(10)\n",
    "y = np.random.randn(10)+1\n",
    "\n",
    "fig = go.Figure(go.Histogram2d(x=x, y=y, histnorm='probability',\n",
    "        autobinx=False,\n",
    "        xbins=dict(start=-3, end=3, size=0.1),\n",
    "        autobiny=False,\n",
    "        ybins=dict(start=-2.5, end=4, size=0.1),\n",
    "        colorscale=[[0, 'rgb(12,51,131)'], [0.25, 'rgb(10,136,186)'], [0.5, 'rgb(242,211,56)'], [0.75, 'rgb(242,143,56)'], [1, 'rgb(217,30,30)']]\n",
    "    ))\n",
    "fig.show()"
   ]
  },
  {
   "cell_type": "markdown",
   "id": "ca77c118",
   "metadata": {},
   "source": [
    "### Linear Regression Model Generation"
   ]
  },
  {
   "cell_type": "code",
   "execution_count": null,
   "id": "0612ce3a",
   "metadata": {},
   "outputs": [],
   "source": [
    "model = smf.ols(formula='departure_delay ~  taxi_out + longitude + scheduled_time + month + day', data=flights).fit()\n",
    "model.summary()"
   ]
  },
  {
   "cell_type": "code",
   "execution_count": null,
   "id": "b6a42465",
   "metadata": {},
   "outputs": [],
   "source": [
    "flights_sample.columns"
   ]
  },
  {
   "cell_type": "code",
   "execution_count": null,
   "id": "bdd6e2ce",
   "metadata": {},
   "outputs": [],
   "source": [
    "model = smf.ols(formula= 'departure_delay ~  month*day + I(taxi_out**2) + I(taxi_in**2) + distance + I(distance**2) + scheduled_departure + longitude + origin_airport', data=flights_sample).fit()\n",
    "model.summary()"
   ]
  },
  {
   "cell_type": "code",
   "execution_count": null,
   "id": "fa50f8e8",
   "metadata": {},
   "outputs": [],
   "source": [
    "flights_sample.origin_airport.astype('category')"
   ]
  },
  {
   "cell_type": "code",
   "execution_count": null,
   "id": "5a84d15a",
   "metadata": {},
   "outputs": [],
   "source": [
    "flights_sample"
   ]
  },
  {
   "cell_type": "code",
   "execution_count": null,
   "id": "c0d4b8f1",
   "metadata": {},
   "outputs": [],
   "source": [
    "flights_sample.dtypes"
   ]
  },
  {
   "cell_type": "code",
   "execution_count": null,
   "id": "228c1d4b",
   "metadata": {},
   "outputs": [],
   "source": []
  }
 ],
 "metadata": {
  "kernelspec": {
   "display_name": "Python 3 (ipykernel)",
   "language": "python",
   "name": "python3"
  },
  "language_info": {
   "codemirror_mode": {
    "name": "ipython",
    "version": 3
   },
   "file_extension": ".py",
   "mimetype": "text/x-python",
   "name": "python",
   "nbconvert_exporter": "python",
   "pygments_lexer": "ipython3",
   "version": "3.9.12"
  }
 },
 "nbformat": 4,
 "nbformat_minor": 5
}
