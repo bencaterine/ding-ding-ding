{
 "cells": [
  {
   "cell_type": "raw",
   "id": "33dd6c4c",
   "metadata": {},
   "source": [
    "---\n",
    "title: \"Project proposal\"\n",
    "format: \n",
    "  html:\n",
    "    toc: true\n",
    "    toc-title: Contents\n",
    "    code-fold: show\n",
    "    self-contained: true\n",
    "jupyter: python3\n",
    "---"
   ]
  },
  {
   "cell_type": "markdown",
   "id": "0116f49b",
   "metadata": {},
   "source": [
    "## Instructions {-}\n",
    "\n",
    "1. Please answer the following questions as part of your project proposal.\n",
    "\n",
    "2. Write your answers in the *Markdown* cells of the Jupyter notebook. You don't need to write any code, but if you want to, you may use the *Code* cells.\n",
    "\n",
    "3. Use [Quarto](https://quarto.org/docs/output-formats/html-basics.html) to print the *.ipynb* file as HTML. You will need to open the command prompt, navigate to the directory containing the file, and use the command: `quarto render filename.ipynb --to html`. Submit the HTML file.\n",
    "\n",
    "4. The project proposal is worth 8 points, and is due on **27th January 2023 at 11:59 pm**. \n",
    "\n",
    "5. You must make one submission as a group, and not individually.\n",
    "\n",
    "6. Each team member must have at least **one commit** on the team's github repository. No points will be awarded to the team member(s) with no commits.\n",
    "\n",
    "7. Share the link of your project's GitHub repository [here](https://docs.google.com/spreadsheets/d/1khao3unpj_vsx4kOSg_Zzo77YK1UWL2w73Oa0aAirOo/edit#gid=0)."
   ]
  },
  {
   "cell_type": "markdown",
   "id": "fe7ea9bb",
   "metadata": {},
   "source": [
    "# 1) Team name\n",
    "Ding Ding Ding\n",
    "\n",
    "*(0 points)*"
   ]
  },
  {
   "cell_type": "markdown",
   "id": "16fccc9b",
   "metadata": {},
   "source": [
    "# 2) Member names\n",
    "Amira Mohamed, Aymen Lamsahel, Ben Caterine, Haneef Usmani\n",
    "\n",
    "*(0 points)*"
   ]
  },
  {
   "cell_type": "markdown",
   "id": "220a6528",
   "metadata": {},
   "source": [
    "# 3) Link to the GitHub repository\n",
    "Share the link of the team's project repository on GitHub.\n",
    "\n",
    "https://github.com/bencaterine/ding-ding-ding\n",
    "\n",
    "Also, put the link of your project's GitHub repository [here](https://docs.google.com/spreadsheets/d/1khao3unpj_vsx4kOSg_Zzo77YK1UWL2w73Oa0aAirOo/edit#gid=0).\n",
    "\n",
    "*(0 points)*"
   ]
  },
  {
   "cell_type": "markdown",
   "id": "16c1a490",
   "metadata": {},
   "source": [
    "# 4) Topic\n",
    "Investigating Factors Associated with Flight Delays through a Predictive Model\n",
    "\n",
    "*(0.25 points)*"
   ]
  },
  {
   "cell_type": "markdown",
   "id": "9403cdfb",
   "metadata": {},
   "source": [
    "# 5) Problem statement\n",
    "Explain the problem statement. The problem statement must include:\n",
    "\n",
    "1. The problem\n",
    "\n",
    "- Flight delays constitute a consistent phenomena by which many entities have been affected. Financial losses against the airlines and/or airports, individuals’ and families’ late arrival to their destinations and resultant waste of time, prevention of other flights being carried out, and congestion of airplanes in the airport are some of the potential ramifications that are induced by flight delays.\n",
    "\n",
    "2. Is it a regression or classification problem or a combination of both?\n",
    "\n",
    "- This is a regression problem because we are observing a continuous response variable (flight delay time).\n",
    "\n",
    "3. Is it an inference or prediction problem or a combination of both?\n",
    "\n",
    "- This is an inference problem since we are interested in identifying the relationship between the various predictors associated with flight delays, and which of these predictors has the largest impact on flight delays or cancellations. We will also look at how the predictors interact with each other and by how much each predictor increases or decreases flight delay time.\n",
    "\n",
    "4. How will you assess model accuracy?\n",
    "\n",
    "  - If it is a classification problem, then which measure(s) will you optimize for your model – precision, recall, false negative rate (FNR), accuracy, ROC-AUC etc., and why?\n",
    "  - If it is a regression problem, then which measure(s) will you optimize for your model – RMSE (Root mean squared error), MAE (mean absolute error), maximum absolute error etc., and why?\n",
    "  \n",
    "- We plan to optimize our model based on RMSE because with this measure of error, large outliers are punished more heavily which is important for our model, as a small difference in predicted delay time (a few minutes) doesn’t matter very much, but a large difference (a few hours) matters a lot.\n",
    "\n",
    "5. What techniques do you think you may need to use to improve your model? If you have too many variables, some of which are  correlated or collinear, you may need to do variable selection *(techniques for variable selection that you will learn later in the course - stepwise regression, lasso, ridge regression)*. If the variables do not have a linear relationship with the response, or if some of the modeling assumptions are not satisfied, you may need to transform the predictors and/or the response (variable transformation) to obtain a better fit.\n",
    "\n",
    "- Some of the fundamental techniques that will most-likely be carried out to remove the data from certain variables from being recognized as essential and processed will involve material that will be learned in the near future, such as stepwise regression and the lasso. The specific method that will be used to execute the aforementioned task is dependent on the complexity, magnitude, and possibly other metrics (of which we will become aware of as the course progresses).\n",
    "\n",
    "- If the variables do not have a linear relationship with the response variable(s) or if some of the modeling assumptions are conspicuously contradicted, then either variable transformations (which could either maintain the linearity of the model or introduce a non-linear behavior to the model, i.e. exponential decay variable with a specified damping factor) or our assumptions would need to change, and consequently, different tests and methods would need to be executed.\n",
    "\n",
    "\n",
    "*(5 points)*"
   ]
  },
  {
   "cell_type": "markdown",
   "id": "3eb2d4f2",
   "metadata": {},
   "source": [
    "# 6) Data sources\n",
    "\n",
    "What data sources will you use, and how will the data help answer the questions? Explain.\n",
    "\n",
    "We will use this 2015 Flight Delays and Cancellations dataset from Kaggle. This dataset comes from the US Department of Transportation’s (DOT) Bureau of Transportation Statistics, which tracks domestic commercial flights.\n",
    "\n",
    "The dataset contains the delay length for all flights and their cancellation status, which can be used as response variables. It contains columns for flight date, airline, weather, origin and destination airports, stated cancellation causes, and many other variables, which can be used to create our model.\n",
    "\n",
    "If the data is open source, share the link of the data.\n",
    "\n",
    "https://www.kaggle.com/datasets/usdot/flight-delays?select=airports.csv\n",
    "\n",
    "*(1 point)*"
   ]
  },
  {
   "cell_type": "markdown",
   "id": "cb8a845f",
   "metadata": {},
   "source": [
    "# 7) Stakeholders"
   ]
  },
  {
   "cell_type": "markdown",
   "id": "d39c782c",
   "metadata": {},
   "source": [
    "Who are the stakeholders, and how will your project benefit them? Explain.\n",
    "\n",
    "- Passengers: US airline passengers are the primary stakeholders because they are the ones most impacted by flight delays and cancellations. Late arrivals and missed connections disrupt passengers’ lives, and our model will help passengers avoid booking flights that are likely to be majorly delayed.\n",
    "- Airlines: The airlines also have interest in our project because they schedule flights and stand to lose money if they are delayed/canceled. By using our model, they can identify certain flight dates/times/locations/types to avoid scheduling in order to keep their flights on time. They can also potentially use our model to evaluate their performance relative to other airlines.\n",
    "- Government agencies (DOT, FAA): Government agencies like the FAA would be stakeholders because they monitor all US flights and can play a role in helping to mitigate delays. They can regulate certain flight attributes that tend to lead to delays, such as plane type or departure time, and they can reprimand airlines or airports whose flights are most frequently late.\n",
    "\n",
    "*(1 point)*"
   ]
  },
  {
   "cell_type": "markdown",
   "id": "57e41b2a",
   "metadata": {},
   "source": [
    "# 8) Results\n",
    "What kind of results do you expect? \n",
    "\n",
    "How much accuracy is required / desired in your model (based on the metric(s) chosen in question 5), such that it is useful to the stakeholders and why?\n",
    "\n",
    "**Hint:** If it is a classification model, then your model must be at least better than random classification. If it is a regression model, then your model must be at least better than trivial models, such as the one with only the intercept term.\n",
    "\n",
    "We expect to see that commonly associated factors with flight delays such as weather or air system delays will have the biggest impact on overall flight delays. Since our problem is a regression model and we have decided to use RMSE as the measure to assess model accuracy, we want to minimize the RMSE as much as possible. Although we do not have an exact number now, we want our R-squared value to at least be 80% so that it can actually be useful or at least of strong interest to the relevant stakeholders.\n",
    "\n",
    "*(0.5 point)*"
   ]
  },
  {
   "cell_type": "markdown",
   "id": "0c874b4f",
   "metadata": {},
   "source": [
    "# 9) Work-split\n",
    "How do you plan to split the project work amongst individual team members?\n",
    "\n",
    "Amira will work on data preprocessing and feature selection (cleaning, transforming, and preparing the dataset for analysis).\n",
    "\n",
    "Haneef will work on model building.\n",
    "\n",
    "Aymen will work on model evaluation.\n",
    "\n",
    "Ben will work on model interpretation and validation.\n",
    "\n",
    "*(0.25 point)*"
   ]
  }
 ],
 "metadata": {
  "kernelspec": {
   "display_name": "Python 3",
   "language": "python",
   "name": "python3"
  },
  "language_info": {
   "codemirror_mode": {
    "name": "ipython",
    "version": 3
   },
   "file_extension": ".py",
   "mimetype": "text/x-python",
   "name": "python",
   "nbconvert_exporter": "python",
   "pygments_lexer": "ipython3",
   "version": "3.8.8"
  }
 },
 "nbformat": 4,
 "nbformat_minor": 5
}
