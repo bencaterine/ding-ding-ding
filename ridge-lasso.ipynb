{
 "cells": [
  {
   "cell_type": "code",
   "execution_count": 1,
   "id": "bd0f3063",
   "metadata": {},
   "outputs": [],
   "source": [
    "import pandas as pd\n",
    "import numpy as np\n",
    "import seaborn as sns\n",
    "import matplotlib.pyplot as plt\n",
    "from sklearn.linear_model import Ridge, RidgeCV, Lasso, LassoCV\n",
    "from sklearn.preprocessing import StandardScaler \n",
    "from sklearn.metrics import r2_score\n",
    "from sklearn.model_selection import train_test_split"
   ]
  },
  {
   "cell_type": "code",
   "execution_count": 2,
   "id": "8f2848b5",
   "metadata": {},
   "outputs": [
    {
     "data": {
      "text/html": [
       "<div>\n",
       "<style scoped>\n",
       "    .dataframe tbody tr th:only-of-type {\n",
       "        vertical-align: middle;\n",
       "    }\n",
       "\n",
       "    .dataframe tbody tr th {\n",
       "        vertical-align: top;\n",
       "    }\n",
       "\n",
       "    .dataframe thead th {\n",
       "        text-align: right;\n",
       "    }\n",
       "</style>\n",
       "<table border=\"1\" class=\"dataframe\">\n",
       "  <thead>\n",
       "    <tr style=\"text-align: right;\">\n",
       "      <th></th>\n",
       "      <th>airline</th>\n",
       "      <th>day</th>\n",
       "      <th>day_of_week</th>\n",
       "      <th>departure_delay</th>\n",
       "      <th>destination_airport</th>\n",
       "      <th>destination_latitude</th>\n",
       "      <th>destination_longitude</th>\n",
       "      <th>distance</th>\n",
       "      <th>month</th>\n",
       "      <th>origin_airport</th>\n",
       "      <th>...</th>\n",
       "      <th>scheduled_arrival</th>\n",
       "      <th>scheduled_departure</th>\n",
       "      <th>scheduled_time</th>\n",
       "      <th>state_destination</th>\n",
       "      <th>state_origin</th>\n",
       "      <th>taxi_in</th>\n",
       "      <th>taxi_out</th>\n",
       "      <th>day_of_year</th>\n",
       "      <th>origin_temperature</th>\n",
       "      <th>destination_temperature</th>\n",
       "    </tr>\n",
       "  </thead>\n",
       "  <tbody>\n",
       "    <tr>\n",
       "      <th>0</th>\n",
       "      <td>AS</td>\n",
       "      <td>1</td>\n",
       "      <td>4</td>\n",
       "      <td>-11.0</td>\n",
       "      <td>SEA</td>\n",
       "      <td>47.44898</td>\n",
       "      <td>-122.30931</td>\n",
       "      <td>1448</td>\n",
       "      <td>1</td>\n",
       "      <td>ANC</td>\n",
       "      <td>...</td>\n",
       "      <td>270</td>\n",
       "      <td>5</td>\n",
       "      <td>205.0</td>\n",
       "      <td>WA</td>\n",
       "      <td>AK</td>\n",
       "      <td>4.0</td>\n",
       "      <td>21.0</td>\n",
       "      <td>1</td>\n",
       "      <td>35.2</td>\n",
       "      <td>32.9</td>\n",
       "    </tr>\n",
       "    <tr>\n",
       "      <th>1</th>\n",
       "      <td>AS</td>\n",
       "      <td>1</td>\n",
       "      <td>4</td>\n",
       "      <td>-4.0</td>\n",
       "      <td>SEA</td>\n",
       "      <td>47.44898</td>\n",
       "      <td>-122.30931</td>\n",
       "      <td>1448</td>\n",
       "      <td>1</td>\n",
       "      <td>ANC</td>\n",
       "      <td>...</td>\n",
       "      <td>309</td>\n",
       "      <td>45</td>\n",
       "      <td>204.0</td>\n",
       "      <td>WA</td>\n",
       "      <td>AK</td>\n",
       "      <td>4.0</td>\n",
       "      <td>17.0</td>\n",
       "      <td>1</td>\n",
       "      <td>35.2</td>\n",
       "      <td>32.9</td>\n",
       "    </tr>\n",
       "    <tr>\n",
       "      <th>2</th>\n",
       "      <td>DL</td>\n",
       "      <td>1</td>\n",
       "      <td>4</td>\n",
       "      <td>-14.0</td>\n",
       "      <td>SEA</td>\n",
       "      <td>47.44898</td>\n",
       "      <td>-122.30931</td>\n",
       "      <td>1448</td>\n",
       "      <td>1</td>\n",
       "      <td>ANC</td>\n",
       "      <td>...</td>\n",
       "      <td>315</td>\n",
       "      <td>45</td>\n",
       "      <td>210.0</td>\n",
       "      <td>WA</td>\n",
       "      <td>AK</td>\n",
       "      <td>4.0</td>\n",
       "      <td>25.0</td>\n",
       "      <td>1</td>\n",
       "      <td>35.2</td>\n",
       "      <td>32.9</td>\n",
       "    </tr>\n",
       "    <tr>\n",
       "      <th>3</th>\n",
       "      <td>AS</td>\n",
       "      <td>1</td>\n",
       "      <td>4</td>\n",
       "      <td>-15.0</td>\n",
       "      <td>SEA</td>\n",
       "      <td>47.44898</td>\n",
       "      <td>-122.30931</td>\n",
       "      <td>1448</td>\n",
       "      <td>1</td>\n",
       "      <td>ANC</td>\n",
       "      <td>...</td>\n",
       "      <td>393</td>\n",
       "      <td>115</td>\n",
       "      <td>218.0</td>\n",
       "      <td>WA</td>\n",
       "      <td>AK</td>\n",
       "      <td>11.0</td>\n",
       "      <td>17.0</td>\n",
       "      <td>1</td>\n",
       "      <td>35.2</td>\n",
       "      <td>32.9</td>\n",
       "    </tr>\n",
       "    <tr>\n",
       "      <th>4</th>\n",
       "      <td>AS</td>\n",
       "      <td>1</td>\n",
       "      <td>4</td>\n",
       "      <td>-11.0</td>\n",
       "      <td>SEA</td>\n",
       "      <td>47.44898</td>\n",
       "      <td>-122.30931</td>\n",
       "      <td>1448</td>\n",
       "      <td>1</td>\n",
       "      <td>ANC</td>\n",
       "      <td>...</td>\n",
       "      <td>400</td>\n",
       "      <td>140</td>\n",
       "      <td>200.0</td>\n",
       "      <td>WA</td>\n",
       "      <td>AK</td>\n",
       "      <td>8.0</td>\n",
       "      <td>15.0</td>\n",
       "      <td>1</td>\n",
       "      <td>35.2</td>\n",
       "      <td>32.9</td>\n",
       "    </tr>\n",
       "    <tr>\n",
       "      <th>...</th>\n",
       "      <td>...</td>\n",
       "      <td>...</td>\n",
       "      <td>...</td>\n",
       "      <td>...</td>\n",
       "      <td>...</td>\n",
       "      <td>...</td>\n",
       "      <td>...</td>\n",
       "      <td>...</td>\n",
       "      <td>...</td>\n",
       "      <td>...</td>\n",
       "      <td>...</td>\n",
       "      <td>...</td>\n",
       "      <td>...</td>\n",
       "      <td>...</td>\n",
       "      <td>...</td>\n",
       "      <td>...</td>\n",
       "      <td>...</td>\n",
       "      <td>...</td>\n",
       "      <td>...</td>\n",
       "      <td>...</td>\n",
       "      <td>...</td>\n",
       "    </tr>\n",
       "    <tr>\n",
       "      <th>4031914</th>\n",
       "      <td>EV</td>\n",
       "      <td>27</td>\n",
       "      <td>5</td>\n",
       "      <td>77.0</td>\n",
       "      <td>ROA</td>\n",
       "      <td>37.32547</td>\n",
       "      <td>-79.97543</td>\n",
       "      <td>357</td>\n",
       "      <td>11</td>\n",
       "      <td>ATL</td>\n",
       "      <td>...</td>\n",
       "      <td>648</td>\n",
       "      <td>565</td>\n",
       "      <td>83.0</td>\n",
       "      <td>VA</td>\n",
       "      <td>GA</td>\n",
       "      <td>3.0</td>\n",
       "      <td>9.0</td>\n",
       "      <td>331</td>\n",
       "      <td>59.7</td>\n",
       "      <td>49.4</td>\n",
       "    </tr>\n",
       "    <tr>\n",
       "      <th>4031915</th>\n",
       "      <td>EV</td>\n",
       "      <td>27</td>\n",
       "      <td>5</td>\n",
       "      <td>-6.0</td>\n",
       "      <td>ROA</td>\n",
       "      <td>37.32547</td>\n",
       "      <td>-79.97543</td>\n",
       "      <td>357</td>\n",
       "      <td>11</td>\n",
       "      <td>ATL</td>\n",
       "      <td>...</td>\n",
       "      <td>985</td>\n",
       "      <td>902</td>\n",
       "      <td>83.0</td>\n",
       "      <td>VA</td>\n",
       "      <td>GA</td>\n",
       "      <td>5.0</td>\n",
       "      <td>21.0</td>\n",
       "      <td>331</td>\n",
       "      <td>59.7</td>\n",
       "      <td>49.4</td>\n",
       "    </tr>\n",
       "    <tr>\n",
       "      <th>4031916</th>\n",
       "      <td>DL</td>\n",
       "      <td>27</td>\n",
       "      <td>5</td>\n",
       "      <td>-1.0</td>\n",
       "      <td>ROA</td>\n",
       "      <td>37.32547</td>\n",
       "      <td>-79.97543</td>\n",
       "      <td>357</td>\n",
       "      <td>11</td>\n",
       "      <td>ATL</td>\n",
       "      <td>...</td>\n",
       "      <td>1162</td>\n",
       "      <td>1079</td>\n",
       "      <td>83.0</td>\n",
       "      <td>VA</td>\n",
       "      <td>GA</td>\n",
       "      <td>6.0</td>\n",
       "      <td>22.0</td>\n",
       "      <td>331</td>\n",
       "      <td>59.7</td>\n",
       "      <td>49.4</td>\n",
       "    </tr>\n",
       "    <tr>\n",
       "      <th>4031917</th>\n",
       "      <td>EV</td>\n",
       "      <td>19</td>\n",
       "      <td>6</td>\n",
       "      <td>88.0</td>\n",
       "      <td>ABE</td>\n",
       "      <td>40.65236</td>\n",
       "      <td>-75.44040</td>\n",
       "      <td>692</td>\n",
       "      <td>12</td>\n",
       "      <td>ATL</td>\n",
       "      <td>...</td>\n",
       "      <td>934</td>\n",
       "      <td>821</td>\n",
       "      <td>113.0</td>\n",
       "      <td>PA</td>\n",
       "      <td>GA</td>\n",
       "      <td>3.0</td>\n",
       "      <td>22.0</td>\n",
       "      <td>353</td>\n",
       "      <td>37.8</td>\n",
       "      <td>35.6</td>\n",
       "    </tr>\n",
       "    <tr>\n",
       "      <th>4031918</th>\n",
       "      <td>EV</td>\n",
       "      <td>19</td>\n",
       "      <td>6</td>\n",
       "      <td>-2.0</td>\n",
       "      <td>ABE</td>\n",
       "      <td>40.65236</td>\n",
       "      <td>-75.44040</td>\n",
       "      <td>692</td>\n",
       "      <td>12</td>\n",
       "      <td>ATL</td>\n",
       "      <td>...</td>\n",
       "      <td>1378</td>\n",
       "      <td>1260</td>\n",
       "      <td>118.0</td>\n",
       "      <td>PA</td>\n",
       "      <td>GA</td>\n",
       "      <td>3.0</td>\n",
       "      <td>25.0</td>\n",
       "      <td>353</td>\n",
       "      <td>37.8</td>\n",
       "      <td>35.6</td>\n",
       "    </tr>\n",
       "  </tbody>\n",
       "</table>\n",
       "<p>4031919 rows × 22 columns</p>\n",
       "</div>"
      ],
      "text/plain": [
       "        airline  day  day_of_week  departure_delay destination_airport  \\\n",
       "0            AS    1            4            -11.0                 SEA   \n",
       "1            AS    1            4             -4.0                 SEA   \n",
       "2            DL    1            4            -14.0                 SEA   \n",
       "3            AS    1            4            -15.0                 SEA   \n",
       "4            AS    1            4            -11.0                 SEA   \n",
       "...         ...  ...          ...              ...                 ...   \n",
       "4031914      EV   27            5             77.0                 ROA   \n",
       "4031915      EV   27            5             -6.0                 ROA   \n",
       "4031916      DL   27            5             -1.0                 ROA   \n",
       "4031917      EV   19            6             88.0                 ABE   \n",
       "4031918      EV   19            6             -2.0                 ABE   \n",
       "\n",
       "         destination_latitude  destination_longitude  distance  month  \\\n",
       "0                    47.44898             -122.30931      1448      1   \n",
       "1                    47.44898             -122.30931      1448      1   \n",
       "2                    47.44898             -122.30931      1448      1   \n",
       "3                    47.44898             -122.30931      1448      1   \n",
       "4                    47.44898             -122.30931      1448      1   \n",
       "...                       ...                    ...       ...    ...   \n",
       "4031914              37.32547              -79.97543       357     11   \n",
       "4031915              37.32547              -79.97543       357     11   \n",
       "4031916              37.32547              -79.97543       357     11   \n",
       "4031917              40.65236              -75.44040       692     12   \n",
       "4031918              40.65236              -75.44040       692     12   \n",
       "\n",
       "        origin_airport  ...  scheduled_arrival  scheduled_departure  \\\n",
       "0                  ANC  ...                270                    5   \n",
       "1                  ANC  ...                309                   45   \n",
       "2                  ANC  ...                315                   45   \n",
       "3                  ANC  ...                393                  115   \n",
       "4                  ANC  ...                400                  140   \n",
       "...                ...  ...                ...                  ...   \n",
       "4031914            ATL  ...                648                  565   \n",
       "4031915            ATL  ...                985                  902   \n",
       "4031916            ATL  ...               1162                 1079   \n",
       "4031917            ATL  ...                934                  821   \n",
       "4031918            ATL  ...               1378                 1260   \n",
       "\n",
       "         scheduled_time  state_destination  state_origin taxi_in taxi_out  \\\n",
       "0                 205.0                 WA            AK     4.0     21.0   \n",
       "1                 204.0                 WA            AK     4.0     17.0   \n",
       "2                 210.0                 WA            AK     4.0     25.0   \n",
       "3                 218.0                 WA            AK    11.0     17.0   \n",
       "4                 200.0                 WA            AK     8.0     15.0   \n",
       "...                 ...                ...           ...     ...      ...   \n",
       "4031914            83.0                 VA            GA     3.0      9.0   \n",
       "4031915            83.0                 VA            GA     5.0     21.0   \n",
       "4031916            83.0                 VA            GA     6.0     22.0   \n",
       "4031917           113.0                 PA            GA     3.0     22.0   \n",
       "4031918           118.0                 PA            GA     3.0     25.0   \n",
       "\n",
       "         day_of_year  origin_temperature  destination_temperature  \n",
       "0                  1                35.2                     32.9  \n",
       "1                  1                35.2                     32.9  \n",
       "2                  1                35.2                     32.9  \n",
       "3                  1                35.2                     32.9  \n",
       "4                  1                35.2                     32.9  \n",
       "...              ...                 ...                      ...  \n",
       "4031914          331                59.7                     49.4  \n",
       "4031915          331                59.7                     49.4  \n",
       "4031916          331                59.7                     49.4  \n",
       "4031917          353                37.8                     35.6  \n",
       "4031918          353                37.8                     35.6  \n",
       "\n",
       "[4031919 rows x 22 columns]"
      ]
     },
     "execution_count": 2,
     "metadata": {},
     "output_type": "execute_result"
    }
   ],
   "source": [
    "flights = pd.read_csv('data/flights_clean.csv')\n",
    "flights"
   ]
  },
  {
   "cell_type": "code",
   "execution_count": 3,
   "id": "a9c597c8",
   "metadata": {},
   "outputs": [
    {
     "data": {
      "text/plain": [
       "airline                           AS\n",
       "day                                1\n",
       "day_of_week                        4\n",
       "departure_delay                -11.0\n",
       "destination_airport              SEA\n",
       "destination_latitude        47.44898\n",
       "destination_longitude     -122.30931\n",
       "distance                        1448\n",
       "month                              1\n",
       "origin_airport                   ANC\n",
       "origin_latitude             61.17432\n",
       "origin_longitude          -149.99619\n",
       "scheduled_arrival                270\n",
       "scheduled_departure                5\n",
       "scheduled_time                 205.0\n",
       "state_destination                 WA\n",
       "state_origin                      AK\n",
       "taxi_in                          4.0\n",
       "taxi_out                        21.0\n",
       "day_of_year                        1\n",
       "origin_temperature              35.2\n",
       "destination_temperature         32.9\n",
       "Name: 0, dtype: object"
      ]
     },
     "execution_count": 3,
     "metadata": {},
     "output_type": "execute_result"
    }
   ],
   "source": [
    "flights.iloc[0]"
   ]
  },
  {
   "cell_type": "code",
   "execution_count": 4,
   "id": "04ac49b9",
   "metadata": {},
   "outputs": [],
   "source": [
    "pre_y = flights.departure_delay"
   ]
  },
  {
   "cell_type": "code",
   "execution_count": 5,
   "id": "21a2a02f",
   "metadata": {},
   "outputs": [],
   "source": [
    "pre_X = flights.drop(columns=['departure_delay', 'airline', 'destination_airport',\n",
    "                              'origin_airport', 'state_destination', 'state_origin'])"
   ]
  },
  {
   "cell_type": "code",
   "execution_count": 6,
   "id": "6a5b09ad",
   "metadata": {},
   "outputs": [],
   "source": [
    "X, X_test, y, y_test = train_test_split(pre_X, pre_y)"
   ]
  },
  {
   "cell_type": "code",
   "execution_count": 7,
   "id": "d3bfd2bd",
   "metadata": {},
   "outputs": [],
   "source": [
    "scaler = StandardScaler()\n",
    "scaler.fit(X)\n",
    "Xstd = scaler.transform(X)"
   ]
  },
  {
   "cell_type": "code",
   "execution_count": 8,
   "id": "11e5c47b",
   "metadata": {},
   "outputs": [],
   "source": [
    "alphas = 10**np.linspace(10,-2,200)*0.5"
   ]
  },
  {
   "cell_type": "code",
   "execution_count": 9,
   "id": "a9aa5adc",
   "metadata": {},
   "outputs": [],
   "source": [
    "# Find ridge coeffs for all lambda values\n",
    "coefs = []\n",
    "for a in alphas:        \n",
    "    ridge = Ridge(alpha = a)\n",
    "    ridge.fit(Xstd, y)\n",
    "    coefs.append(ridge.coef_)"
   ]
  },
  {
   "cell_type": "code",
   "execution_count": 10,
   "id": "6dc4a5de",
   "metadata": {},
   "outputs": [
    {
     "data": {
      "text/plain": [
       "Text(0, 0.5, 'Standardized coefficient')"
      ]
     },
     "execution_count": 10,
     "metadata": {},
     "output_type": "execute_result"
    },
    {
     "data": {
      "image/png": "[encoded data removed]",
      "text/plain": [
       "<Figure size 432x288 with 1 Axes>"
      ]
     },
     "metadata": {
      "needs_background": "light"
     },
     "output_type": "display_data"
    }
   ],
   "source": [
    "# Visualize shrinking regression coefficients with lambda increase\n",
    "plt.xlabel('xlabel', fontsize=18)\n",
    "plt.ylabel('ylabel', fontsize=18)\n",
    "plt.plot(alphas, coefs)\n",
    "plt.xscale('log')\n",
    "plt.xlabel('$\\lambda$')\n",
    "plt.ylabel('Standardized coefficient')"
   ]
  },
  {
   "cell_type": "code",
   "execution_count": 11,
   "id": "7f1f9b1d",
   "metadata": {},
   "outputs": [
    {
     "data": {
      "text/plain": [
       "0.049424795233127934"
      ]
     },
     "execution_count": 11,
     "metadata": {},
     "output_type": "execute_result"
    }
   ],
   "source": [
    "# Cross validation to find optimal lambda\n",
    "alphas = 10**np.linspace(4,-2,200)*0.5\n",
    "ridgecv = RidgeCV(alphas = alphas,store_cv_values=True)\n",
    "ridgecv.fit(Xstd, y)\n",
    "\n",
    "#Optimal value of the tuning parameter - lambda\n",
    "ridgecv.alpha_"
   ]
  },
  {
   "cell_type": "code",
   "execution_count": 48,
   "id": "6bef6582",
   "metadata": {},
   "outputs": [
    {
     "data": {
      "text/plain": [
       "Text(0, 0.5, 'Cross-validation error')"
      ]
     },
     "execution_count": 48,
     "metadata": {},
     "output_type": "execute_result"
    },
    {
     "data": {
      "image/png": "[encoded data removed]",
      "text/plain": [
       "<Figure size 432x288 with 1 Axes>"
      ]
     },
     "metadata": {
      "needs_background": "light"
     },
     "output_type": "display_data"
    }
   ],
   "source": [
    "#Visualizing the LOOCV (leave one out cross validatation error vs lambda)\n",
    "plt.xlabel('xlabel', fontsize=18)\n",
    "plt.ylabel('ylabel', fontsize=18)\n",
    "plt.plot(ridgecv.alphas,ridgecv.cv_values_.sum(axis=0))\n",
    "plt.plot([ridgecv.alpha_,ridgecv.alpha_],[4e9+2e8+5e7+8e6,4e9+2e8+6e7],':')\n",
    "plt.xlabel('$\\lambda$')\n",
    "plt.ylabel('Cross-validation error')"
   ]
  },
  {
   "cell_type": "code",
   "execution_count": 22,
   "id": "9ba7fc32",
   "metadata": {},
   "outputs": [
    {
     "data": {
      "text/plain": [
       "Text(0, 0.5, 'Standardized coefficient')"
      ]
     },
     "execution_count": 22,
     "metadata": {},
     "output_type": "execute_result"
    },
    {
     "data": {
      "image/png": "[encoded data removed]",
      "text/plain": [
       "<Figure size 432x288 with 1 Axes>"
      ]
     },
     "metadata": {
      "needs_background": "light"
     },
     "output_type": "display_data"
    }
   ],
   "source": [
    "# Visualize with the optimal lambda\n",
    "alphas = 10**np.linspace(10,-2,200)*0.5\n",
    "plt.xlabel('xlabel', fontsize=18)\n",
    "plt.ylabel('ylabel', fontsize=18)\n",
    "plt.plot(alphas, coefs)\n",
    "plt.plot([ridgecv.alpha_,ridgecv.alpha_],[-130,130],':')\n",
    "plt.xscale('log')\n",
    "plt.xlabel('$\\lambda$')\n",
    "plt.ylabel('Standardized coefficient')"
   ]
  },
  {
   "cell_type": "code",
   "execution_count": 14,
   "id": "cbe54212",
   "metadata": {},
   "outputs": [],
   "source": [
    "Xtest_std = scaler.transform(X_test)"
   ]
  },
  {
   "cell_type": "code",
   "execution_count": 15,
   "id": "9e4a47c1",
   "metadata": {},
   "outputs": [],
   "source": [
    "#Using the developed ridge regression model to predict on test data\n",
    "ridge = Ridge(alpha = ridgecv.alpha_)\n",
    "ridge.fit(Xstd, y)\n",
    "pred=ridge.predict(Xtest_std)"
   ]
  },
  {
   "cell_type": "code",
   "execution_count": 16,
   "id": "e2fd2561",
   "metadata": {},
   "outputs": [
    {
     "data": {
      "text/plain": [
       "37.05149835069889"
      ]
     },
     "execution_count": 16,
     "metadata": {},
     "output_type": "execute_result"
    }
   ],
   "source": [
    "#RMSE on test data\n",
    "np.sqrt(((pred-y_test)**2).mean())"
   ]
  },
  {
   "cell_type": "code",
   "execution_count": 17,
   "id": "77aa24f0",
   "metadata": {},
   "outputs": [
    {
     "data": {
      "text/plain": [
       "37.42650259349151"
      ]
     },
     "execution_count": 17,
     "metadata": {},
     "output_type": "execute_result"
    }
   ],
   "source": [
    "y_test.std()"
   ]
  },
  {
   "cell_type": "code",
   "execution_count": 18,
   "id": "27156875",
   "metadata": {},
   "outputs": [
    {
     "data": {
      "text/plain": [
       "array([ 1.01035195e+01, -6.98881334e-01, -2.19298833e-01,  4.39768353e-01,\n",
       "       -8.41920651e-01,  1.18388997e+02, -6.55136742e-01,  1.86475111e-01,\n",
       "        1.40473979e+00,  3.50592914e+00,  1.51757755e+00,  5.20546221e-01,\n",
       "        2.02380514e+00, -1.19054687e+02, -8.28793259e-01, -1.12397317e-01])"
      ]
     },
     "execution_count": 18,
     "metadata": {},
     "output_type": "execute_result"
    }
   ],
   "source": [
    "#Checking the coefficients of the ridge regression model\n",
    "ridge.coef_"
   ]
  },
  {
   "cell_type": "code",
   "execution_count": 19,
   "id": "f401e30e",
   "metadata": {},
   "outputs": [
    {
     "data": {
      "text/plain": [
       "-48.66100087360677"
      ]
     },
     "execution_count": 19,
     "metadata": {},
     "output_type": "execute_result"
    }
   ],
   "source": [
    "#R-squared on train data for the ridge regression model\n",
    "r2_score(ridge.predict(Xstd),y)"
   ]
  },
  {
   "cell_type": "code",
   "execution_count": 20,
   "id": "5d547bac",
   "metadata": {},
   "outputs": [
    {
     "data": {
      "text/plain": [
       "-47.44280450232143"
      ]
     },
     "execution_count": 20,
     "metadata": {},
     "output_type": "execute_result"
    }
   ],
   "source": [
    "#R-squared on test data for the ridge regression model\n",
    "r2_score(pred,y_test)"
   ]
  }
 ],
 "metadata": {
  "kernelspec": {
   "display_name": "Python 3",
   "language": "python",
   "name": "python3"
  },
  "language_info": {
   "codemirror_mode": {
    "name": "ipython",
    "version": 3
   },
   "file_extension": ".py",
   "mimetype": "text/x-python",
   "name": "python",
   "nbconvert_exporter": "python",
   "pygments_lexer": "ipython3",
   "version": "3.8.8"
  }
 },
 "nbformat": 4,
 "nbformat_minor": 5
}
