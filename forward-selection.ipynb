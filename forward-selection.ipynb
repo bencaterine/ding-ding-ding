{
 "cells": [
  {
   "cell_type": "code",
   "execution_count": 1,
   "metadata": {},
   "outputs": [],
   "source": [
    "import os\n",
    "import pandas as pd\n",
    "import numpy as np\n",
    "import statsmodels.formula.api as smf\n",
    "import seaborn as sns\n",
    "import matplotlib.pyplot as plt\n",
    "import scipy as sp\n",
    "import scipy.stats as stats\n",
    "import time\n",
    "import itertools\n",
    "import statsmodels.api as sm\n",
    "import numpy.ma as ma\n",
    "from scipy.stats.stats import pearsonr, normaltest\n",
    "from scipy.spatial.distance import correlation\n",
    "from sklearn.model_selection import train_test_split\n",
    "os.getcwd()\n",
    "os.chdir(r'C:\\Users\\Haneef Usmani\\Desktop\\STAT 303-2\\Project')"
   ]
  },
  {
   "cell_type": "code",
   "execution_count": 14,
   "metadata": {},
   "outputs": [],
   "source": [
    "flight = pd.read_csv('flights_clean.csv')"
   ]
  },
  {
   "cell_type": "code",
   "execution_count": 77,
   "metadata": {},
   "outputs": [
    {
     "data": {
      "text/plain": [
       "Index(['airline', 'day', 'day_of_week', 'departure_delay',\n",
       "       'destination_airport', 'destination_latitude', 'destination_longitude',\n",
       "       'distance', 'month', 'origin_airport', 'origin_latitude',\n",
       "       'origin_longitude', 'scheduled_arrival', 'scheduled_departure',\n",
       "       'scheduled_time', 'state_destination', 'state_origin', 'taxi_in',\n",
       "       'taxi_out', 'day_of_year', 'origin_temperature',\n",
       "       'destination_temperature'],\n",
       "      dtype='object')"
      ]
     },
     "execution_count": 77,
     "metadata": {},
     "output_type": "execute_result"
    }
   ],
   "source": [
    "flight.columns"
   ]
  },
  {
   "cell_type": "code",
   "execution_count": 4,
   "metadata": {},
   "outputs": [],
   "source": [
    "# split flight into train and test\n",
    "train, test = train_test_split(flight, test_size=0.2)"
   ]
  },
  {
   "cell_type": "code",
   "execution_count": 5,
   "metadata": {},
   "outputs": [],
   "source": [
    "# drop all categorical variables from train\n",
    "train_drop = train.drop(['airline', 'destination_airport', 'origin_airport', 'state_destination', 'state_origin'], axis=1)"
   ]
  },
  {
   "cell_type": "code",
   "execution_count": 6,
   "metadata": {},
   "outputs": [],
   "source": [
    "X = train[['airline', 'day', 'day_of_week', 'destination_airport', 'destination_latitude', 'destination_longitude', 'distance', 'month', 'origin_airport', 'origin_latitude', 'origin_longitude', 'scheduled_arrival', 'scheduled_departure', 'scheduled_time', 'state_destination', 'state_origin', 'taxi_in', 'taxi_out', 'day_of_year', 'origin_temperature', 'destination_temperature']]\n",
    "# take out all categorical variables\n",
    "X = X.drop(['airline', 'destination_airport', 'origin_airport', 'state_destination', 'state_origin'], axis=1)"
   ]
  },
  {
   "cell_type": "code",
   "execution_count": 21,
   "metadata": {},
   "outputs": [],
   "source": [
    "def processSubset(predictor_subset):\n",
    "    # Fit model on feature_set and calculate R-squared\n",
    "    model = smf.ols('(departure_delay)~' + '+'.join(predictor_subset),data = train_drop).fit()\n",
    "    Rsquared = model.rsquared\n",
    "    return {\"model\":model, \"Rsquared\":Rsquared}\n",
    "def getBest_model(k):\n",
    "    tic = time.time()\n",
    "    results = []\n",
    "    for combo in itertools.combinations(X.columns, k):\n",
    "        results.append(processSubset((list(combo))))\n",
    "\n",
    "    # Wrap everything up in a dataframe\n",
    "    models = pd.DataFrame(results)\n",
    "\n",
    "    # Choose the model with the highest RSS\n",
    "    best_model = models.loc[models['Rsquared'].argmax()]\n",
    "    \n",
    "    toc = time.time()\n",
    "    print(\"Processed\", models.shape[0], \"models on\", k, \"predictors in\", (toc-tic), \"seconds.\")\n",
    "    return best_model"
   ]
  },
  {
   "cell_type": "code",
   "execution_count": 22,
   "metadata": {},
   "outputs": [],
   "source": [
    "#Function to find the best predictor out of p-k predictors and add it to the model containing the k predictors\n",
    "def forward(predictors):\n",
    "\n",
    "    # Pull out predictors we still need to process\n",
    "    remaining_predictors = [p for p in X.columns if p not in predictors]\n",
    "    \n",
    "    tic = time.time()\n",
    "    \n",
    "    results = []\n",
    "    \n",
    "    for p in remaining_predictors:\n",
    "        results.append(processSubset(predictors+[p]))\n",
    "    \n",
    "    # Wrap everything up in a nice dataframe\n",
    "    models = pd.DataFrame(results)\n",
    "    \n",
    "    # Choose the model with the highest RSS\n",
    "    best_model = models.loc[models['Rsquared'].argmax()]\n",
    "    \n",
    "    toc = time.time()\n",
    "    print(\"Processed \", models.shape[0], \"models on\", len(predictors)+1, \"predictors in\", (toc-tic), \"seconds.\")\n",
    "    \n",
    "    # Return the best model, along with some other useful information about the model\n",
    "    return best_model"
   ]
  },
  {
   "cell_type": "code",
   "execution_count": 23,
   "metadata": {},
   "outputs": [],
   "source": [
    "def forward_selection():\n",
    "    models_best = pd.DataFrame(columns=[\"Rsquared\", \"model\"])\n",
    "\n",
    "    tic = time.time()\n",
    "    predictors = []\n",
    "\n",
    "    for i in range(1,len(X.columns)+1):    \n",
    "        models_best.loc[i] = forward(predictors)\n",
    "        predictors = list(models_best.loc[i][\"model\"].params.index[1:])\n",
    "\n",
    "    toc = time.time()\n",
    "    print(\"Total elapsed time:\", (toc-tic), \"seconds.\")\n",
    "    return models_best"
   ]
  },
  {
   "cell_type": "code",
   "execution_count": 10,
   "metadata": {},
   "outputs": [
    {
     "name": "stdout",
     "output_type": "stream",
     "text": [
      "Processed  16 models on 1 predictors in 8.12741208076477 seconds.\n",
      "Processed  15 models on 2 predictors in 9.836007118225098 seconds.\n",
      "Processed  14 models on 3 predictors in 10.54194450378418 seconds.\n",
      "Processed  13 models on 4 predictors in 13.134437799453735 seconds.\n",
      "Processed  12 models on 5 predictors in 16.103069305419922 seconds.\n",
      "Processed  11 models on 6 predictors in 15.824368953704834 seconds.\n",
      "Processed  10 models on 7 predictors in 15.907246589660645 seconds.\n",
      "Processed  9 models on 8 predictors in 16.967482328414917 seconds.\n",
      "Processed  8 models on 9 predictors in 16.88384771347046 seconds.\n",
      "Processed  7 models on 10 predictors in 18.03978705406189 seconds.\n",
      "Processed  6 models on 11 predictors in 15.867708444595337 seconds.\n",
      "Processed  5 models on 12 predictors in 14.319014310836792 seconds.\n",
      "Processed  4 models on 13 predictors in 13.070203065872192 seconds.\n",
      "Processed  3 models on 14 predictors in 10.444658041000366 seconds.\n",
      "Processed  2 models on 15 predictors in 7.899216413497925 seconds.\n",
      "Processed  1 models on 16 predictors in 4.031377553939819 seconds.\n",
      "Total elapsed time: 210.59671878814697 seconds.\n"
     ]
    }
   ],
   "source": [
    "models_best = forward_selection()"
   ]
  },
  {
   "cell_type": "code",
   "execution_count": 27,
   "metadata": {},
   "outputs": [
    {
     "data": {
      "image/png": "[encoded data removed]",
      "text/plain": [
       "<Figure size 1440x720 with 4 Axes>"
      ]
     },
     "metadata": {
      "needs_background": "light"
     },
     "output_type": "display_data"
    }
   ],
   "source": [
    "def best_sub_plots():\n",
    "    plt.figure(figsize=(20,10))\n",
    "    plt.rcParams.update({'font.size': 18, 'lines.markersize': 10})\n",
    "\n",
    "    # Set up a 2x2 grid so we can look at 4 plots at once\n",
    "    plt.subplot(2, 2, 1)\n",
    "\n",
    "    # We will now plot a red dot to indicate the model with the largest adjusted R^2 statistic.\n",
    "    # The argmax() function can be used to identify the location of the maximum point of a vector\n",
    "    plt.plot(models_best[\"Rsquared\"])\n",
    "    plt.xlabel('# Predictors')\n",
    "    plt.ylabel('Rsquared')\n",
    "\n",
    "    # We will now plot a red dot to indicate the model with the largest adjusted R^2 statistic.\n",
    "    # The argmax() function can be used to identify the location of the maximum point of a vector\n",
    "\n",
    "    rsquared_adj = models_best.apply(lambda row: row[1].rsquared_adj, axis=1)\n",
    "\n",
    "    plt.subplot(2, 2, 2)\n",
    "    plt.plot(rsquared_adj)\n",
    "    plt.plot(1+rsquared_adj.argmax(), rsquared_adj.max(), \"or\")\n",
    "    plt.xlabel('# Predictors')\n",
    "    plt.ylabel('adjusted rsquared')\n",
    "\n",
    "    # We'll do the same for AIC and BIC, this time looking for the models with the SMALLEST statistic\n",
    "    aic = models_best.apply(lambda row: row[1].aic, axis=1)\n",
    "\n",
    "    plt.subplot(2, 2, 3)\n",
    "    plt.plot(aic)\n",
    "    plt.plot(1+aic.argmin(), aic.min(), \"or\")\n",
    "    plt.xlabel('# Predictors')\n",
    "    plt.ylabel('AIC')\n",
    "\n",
    "    bic = models_best.apply(lambda row: row[1].bic, axis=1)\n",
    "\n",
    "    plt.subplot(2, 2, 4)\n",
    "    plt.plot(bic)\n",
    "    plt.plot(1+bic.argmin(), bic.min(), \"or\")\n",
    "    plt.xlabel('# Predictors')\n",
    "    plt.ylabel('BIC')\n",
    "best_sub_plots()"
   ]
  },
  {
   "cell_type": "code",
   "execution_count": 12,
   "metadata": {},
   "outputs": [
    {
     "data": {
      "text/html": [
       "<table class=\"simpletable\">\n",
       "<caption>OLS Regression Results</caption>\n",
       "<tr>\n",
       "  <th>Dep. Variable:</th>     <td>departure_delay</td> <th>  R-squared:         </th>  <td>   0.020</td>  \n",
       "</tr>\n",
       "<tr>\n",
       "  <th>Model:</th>                   <td>OLS</td>       <th>  Adj. R-squared:    </th>  <td>   0.020</td>  \n",
       "</tr>\n",
       "<tr>\n",
       "  <th>Method:</th>             <td>Least Squares</td>  <th>  F-statistic:       </th>  <td>   4079.</td>  \n",
       "</tr>\n",
       "<tr>\n",
       "  <th>Date:</th>             <td>Sun, 05 Mar 2023</td> <th>  Prob (F-statistic):</th>   <td>  0.00</td>   \n",
       "</tr>\n",
       "<tr>\n",
       "  <th>Time:</th>                 <td>19:41:55</td>     <th>  Log-Likelihood:    </th> <td>-1.6260e+07</td>\n",
       "</tr>\n",
       "<tr>\n",
       "  <th>No. Observations:</th>      <td>3225535</td>     <th>  AIC:               </th>  <td>3.252e+07</td> \n",
       "</tr>\n",
       "<tr>\n",
       "  <th>Df Residuals:</th>          <td>3225518</td>     <th>  BIC:               </th>  <td>3.252e+07</td> \n",
       "</tr>\n",
       "<tr>\n",
       "  <th>Df Model:</th>              <td>    16</td>      <th>                     </th>      <td> </td>     \n",
       "</tr>\n",
       "<tr>\n",
       "  <th>Covariance Type:</th>      <td>nonrobust</td>    <th>                     </th>      <td> </td>     \n",
       "</tr>\n",
       "</table>\n",
       "<table class=\"simpletable\">\n",
       "<tr>\n",
       "             <td></td>                <th>coef</th>     <th>std err</th>      <th>t</th>      <th>P>|t|</th>  <th>[0.025</th>    <th>0.975]</th>  \n",
       "</tr>\n",
       "<tr>\n",
       "  <th>Intercept</th>               <td>  -29.5943</td> <td>    1.040</td> <td>  -28.455</td> <td> 0.000</td> <td>  -31.633</td> <td>  -27.556</td>\n",
       "</tr>\n",
       "<tr>\n",
       "  <th>scheduled_departure</th>     <td>    0.0120</td> <td> 9.76e-05</td> <td>  123.404</td> <td> 0.000</td> <td>    0.012</td> <td>    0.012</td>\n",
       "</tr>\n",
       "<tr>\n",
       "  <th>taxi_out</th>                <td>    0.2226</td> <td>    0.002</td> <td>   93.304</td> <td> 0.000</td> <td>    0.218</td> <td>    0.227</td>\n",
       "</tr>\n",
       "<tr>\n",
       "  <th>scheduled_arrival</th>       <td>    0.0045</td> <td> 9.25e-05</td> <td>   48.475</td> <td> 0.000</td> <td>    0.004</td> <td>    0.005</td>\n",
       "</tr>\n",
       "<tr>\n",
       "  <th>day_of_week</th>             <td>   -0.3540</td> <td>    0.010</td> <td>  -33.769</td> <td> 0.000</td> <td>   -0.375</td> <td>   -0.333</td>\n",
       "</tr>\n",
       "<tr>\n",
       "  <th>taxi_in</th>                 <td>    0.0895</td> <td>    0.004</td> <td>   24.093</td> <td> 0.000</td> <td>    0.082</td> <td>    0.097</td>\n",
       "</tr>\n",
       "<tr>\n",
       "  <th>scheduled_time</th>          <td>    0.0235</td> <td>    0.003</td> <td>    9.164</td> <td> 0.000</td> <td>    0.018</td> <td>    0.028</td>\n",
       "</tr>\n",
       "<tr>\n",
       "  <th>destination_longitude</th>   <td>    0.0290</td> <td>    0.002</td> <td>   15.802</td> <td> 0.000</td> <td>    0.025</td> <td>    0.033</td>\n",
       "</tr>\n",
       "<tr>\n",
       "  <th>day_of_year</th>             <td>   -1.1073</td> <td>    0.034</td> <td>  -32.533</td> <td> 0.000</td> <td>   -1.174</td> <td>   -1.041</td>\n",
       "</tr>\n",
       "<tr>\n",
       "  <th>origin_longitude</th>        <td>    0.0098</td> <td>    0.002</td> <td>    4.397</td> <td> 0.000</td> <td>    0.005</td> <td>    0.014</td>\n",
       "</tr>\n",
       "<tr>\n",
       "  <th>origin_latitude</th>         <td>   -0.1267</td> <td>    0.005</td> <td>  -25.486</td> <td> 0.000</td> <td>   -0.136</td> <td>   -0.117</td>\n",
       "</tr>\n",
       "<tr>\n",
       "  <th>origin_temperature</th>      <td>   -0.0446</td> <td>    0.002</td> <td>  -22.249</td> <td> 0.000</td> <td>   -0.049</td> <td>   -0.041</td>\n",
       "</tr>\n",
       "<tr>\n",
       "  <th>destination_latitude</th>    <td>   -0.0421</td> <td>    0.005</td> <td>   -8.458</td> <td> 0.000</td> <td>   -0.052</td> <td>   -0.032</td>\n",
       "</tr>\n",
       "<tr>\n",
       "  <th>distance</th>                <td>   -0.0018</td> <td>    0.000</td> <td>   -5.794</td> <td> 0.000</td> <td>   -0.002</td> <td>   -0.001</td>\n",
       "</tr>\n",
       "<tr>\n",
       "  <th>destination_temperature</th> <td>   -0.0052</td> <td>    0.002</td> <td>   -2.601</td> <td> 0.009</td> <td>   -0.009</td> <td>   -0.001</td>\n",
       "</tr>\n",
       "<tr>\n",
       "  <th>month</th>                   <td>   33.6293</td> <td>    1.037</td> <td>   32.433</td> <td> 0.000</td> <td>   31.597</td> <td>   35.662</td>\n",
       "</tr>\n",
       "<tr>\n",
       "  <th>day</th>                     <td>    1.1011</td> <td>    0.034</td> <td>   32.334</td> <td> 0.000</td> <td>    1.034</td> <td>    1.168</td>\n",
       "</tr>\n",
       "</table>\n",
       "<table class=\"simpletable\">\n",
       "<tr>\n",
       "  <th>Omnibus:</th>       <td>4329464.821</td> <th>  Durbin-Watson:     </th>    <td>   2.000</td>   \n",
       "</tr>\n",
       "<tr>\n",
       "  <th>Prob(Omnibus):</th>   <td> 0.000</td>    <th>  Jarque-Bera (JB):  </th> <td>1962321007.046</td>\n",
       "</tr>\n",
       "<tr>\n",
       "  <th>Skew:</th>            <td> 7.451</td>    <th>  Prob(JB):          </th>    <td>    0.00</td>   \n",
       "</tr>\n",
       "<tr>\n",
       "  <th>Kurtosis:</th>        <td>122.912</td>   <th>  Cond. No.          </th>    <td>1.11e+05</td>   \n",
       "</tr>\n",
       "</table><br/><br/>Notes:<br/>[1] Standard Errors assume that the covariance matrix of the errors is correctly specified.<br/>[2] The condition number is large, 1.11e+05. This might indicate that there are<br/>strong multicollinearity or other numerical problems."
      ],
      "text/plain": [
       "<class 'statsmodels.iolib.summary.Summary'>\n",
       "\"\"\"\n",
       "                            OLS Regression Results                            \n",
       "==============================================================================\n",
       "Dep. Variable:        departure_delay   R-squared:                       0.020\n",
       "Model:                            OLS   Adj. R-squared:                  0.020\n",
       "Method:                 Least Squares   F-statistic:                     4079.\n",
       "Date:                Sun, 05 Mar 2023   Prob (F-statistic):               0.00\n",
       "Time:                        19:41:55   Log-Likelihood:            -1.6260e+07\n",
       "No. Observations:             3225535   AIC:                         3.252e+07\n",
       "Df Residuals:                 3225518   BIC:                         3.252e+07\n",
       "Df Model:                          16                                         \n",
       "Covariance Type:            nonrobust                                         \n",
       "===========================================================================================\n",
       "                              coef    std err          t      P>|t|      [0.025      0.975]\n",
       "-------------------------------------------------------------------------------------------\n",
       "Intercept                 -29.5943      1.040    -28.455      0.000     -31.633     -27.556\n",
       "scheduled_departure         0.0120   9.76e-05    123.404      0.000       0.012       0.012\n",
       "taxi_out                    0.2226      0.002     93.304      0.000       0.218       0.227\n",
       "scheduled_arrival           0.0045   9.25e-05     48.475      0.000       0.004       0.005\n",
       "day_of_week                -0.3540      0.010    -33.769      0.000      -0.375      -0.333\n",
       "taxi_in                     0.0895      0.004     24.093      0.000       0.082       0.097\n",
       "scheduled_time              0.0235      0.003      9.164      0.000       0.018       0.028\n",
       "destination_longitude       0.0290      0.002     15.802      0.000       0.025       0.033\n",
       "day_of_year                -1.1073      0.034    -32.533      0.000      -1.174      -1.041\n",
       "origin_longitude            0.0098      0.002      4.397      0.000       0.005       0.014\n",
       "origin_latitude            -0.1267      0.005    -25.486      0.000      -0.136      -0.117\n",
       "origin_temperature         -0.0446      0.002    -22.249      0.000      -0.049      -0.041\n",
       "destination_latitude       -0.0421      0.005     -8.458      0.000      -0.052      -0.032\n",
       "distance                   -0.0018      0.000     -5.794      0.000      -0.002      -0.001\n",
       "destination_temperature    -0.0052      0.002     -2.601      0.009      -0.009      -0.001\n",
       "month                      33.6293      1.037     32.433      0.000      31.597      35.662\n",
       "day                         1.1011      0.034     32.334      0.000       1.034       1.168\n",
       "==============================================================================\n",
       "Omnibus:                  4329464.821   Durbin-Watson:                   2.000\n",
       "Prob(Omnibus):                  0.000   Jarque-Bera (JB):       1962321007.046\n",
       "Skew:                           7.451   Prob(JB):                         0.00\n",
       "Kurtosis:                     122.912   Cond. No.                     1.11e+05\n",
       "==============================================================================\n",
       "\n",
       "Notes:\n",
       "[1] Standard Errors assume that the covariance matrix of the errors is correctly specified.\n",
       "[2] The condition number is large, 1.11e+05. This might indicate that there are\n",
       "strong multicollinearity or other numerical problems.\n",
       "\"\"\""
      ]
     },
     "execution_count": 12,
     "metadata": {},
     "output_type": "execute_result"
    }
   ],
   "source": [
    "best_fwd_reg_model = models_best['model'][16]\n",
    "best_fwd_reg_model.summary() # best model only with numerical variables"
   ]
  },
  {
   "cell_type": "code",
   "execution_count": 18,
   "metadata": {},
   "outputs": [
    {
     "data": {
      "text/html": [
       "<div>\n",
       "<style scoped>\n",
       "    .dataframe tbody tr th:only-of-type {\n",
       "        vertical-align: middle;\n",
       "    }\n",
       "\n",
       "    .dataframe tbody tr th {\n",
       "        vertical-align: top;\n",
       "    }\n",
       "\n",
       "    .dataframe thead th {\n",
       "        text-align: right;\n",
       "    }\n",
       "</style>\n",
       "<table border=\"1\" class=\"dataframe\">\n",
       "  <thead>\n",
       "    <tr style=\"text-align: right;\">\n",
       "      <th></th>\n",
       "      <th>coefficients</th>\n",
       "    </tr>\n",
       "  </thead>\n",
       "  <tbody>\n",
       "    <tr>\n",
       "      <th>Intercept</th>\n",
       "      <td>-29.594305</td>\n",
       "    </tr>\n",
       "    <tr>\n",
       "      <th>scheduled_departure</th>\n",
       "      <td>0.012039</td>\n",
       "    </tr>\n",
       "    <tr>\n",
       "      <th>taxi_out</th>\n",
       "      <td>0.222556</td>\n",
       "    </tr>\n",
       "    <tr>\n",
       "      <th>scheduled_arrival</th>\n",
       "      <td>0.004482</td>\n",
       "    </tr>\n",
       "    <tr>\n",
       "      <th>day_of_week</th>\n",
       "      <td>-0.353979</td>\n",
       "    </tr>\n",
       "    <tr>\n",
       "      <th>taxi_in</th>\n",
       "      <td>0.089497</td>\n",
       "    </tr>\n",
       "    <tr>\n",
       "      <th>scheduled_time</th>\n",
       "      <td>0.023468</td>\n",
       "    </tr>\n",
       "    <tr>\n",
       "      <th>destination_longitude</th>\n",
       "      <td>0.029021</td>\n",
       "    </tr>\n",
       "    <tr>\n",
       "      <th>day_of_year</th>\n",
       "      <td>-1.107288</td>\n",
       "    </tr>\n",
       "    <tr>\n",
       "      <th>origin_longitude</th>\n",
       "      <td>0.009818</td>\n",
       "    </tr>\n",
       "    <tr>\n",
       "      <th>origin_latitude</th>\n",
       "      <td>-0.126722</td>\n",
       "    </tr>\n",
       "    <tr>\n",
       "      <th>origin_temperature</th>\n",
       "      <td>-0.044608</td>\n",
       "    </tr>\n",
       "    <tr>\n",
       "      <th>destination_latitude</th>\n",
       "      <td>-0.042067</td>\n",
       "    </tr>\n",
       "    <tr>\n",
       "      <th>distance</th>\n",
       "      <td>-0.001823</td>\n",
       "    </tr>\n",
       "    <tr>\n",
       "      <th>destination_temperature</th>\n",
       "      <td>-0.005194</td>\n",
       "    </tr>\n",
       "    <tr>\n",
       "      <th>month</th>\n",
       "      <td>33.629274</td>\n",
       "    </tr>\n",
       "    <tr>\n",
       "      <th>day</th>\n",
       "      <td>1.101137</td>\n",
       "    </tr>\n",
       "  </tbody>\n",
       "</table>\n",
       "</div>"
      ],
      "text/plain": [
       "                         coefficients\n",
       "Intercept                  -29.594305\n",
       "scheduled_departure          0.012039\n",
       "taxi_out                     0.222556\n",
       "scheduled_arrival            0.004482\n",
       "day_of_week                 -0.353979\n",
       "taxi_in                      0.089497\n",
       "scheduled_time               0.023468\n",
       "destination_longitude        0.029021\n",
       "day_of_year                 -1.107288\n",
       "origin_longitude             0.009818\n",
       "origin_latitude             -0.126722\n",
       "origin_temperature          -0.044608\n",
       "destination_latitude        -0.042067\n",
       "distance                    -0.001823\n",
       "destination_temperature     -0.005194\n",
       "month                       33.629274\n",
       "day                          1.101137"
      ]
     },
     "execution_count": 18,
     "metadata": {},
     "output_type": "execute_result"
    }
   ],
   "source": [
    "# print out all the predicotrs with their coefficients as a dataframe\n",
    "pd.DataFrame(best_fwd_reg_model.params)\n",
    "# rename the column names\n",
    "pd.DataFrame(best_fwd_reg_model.params).rename(columns={0:'coefficients'})"
   ]
  },
  {
   "cell_type": "code",
   "execution_count": 19,
   "metadata": {},
   "outputs": [
    {
     "name": "stdout",
     "output_type": "stream",
     "text": [
      "departuredelay =\n",
      "-29.594305 * day\n",
      "+0.012039 * day_of_week\n",
      "+0.222556 * destination_latitude\n",
      "+0.004482 * destination_longitude\n",
      "-0.353979 * distance\n",
      "+0.089497 * month\n",
      "+0.023468 * origin_latitude\n",
      "+0.029021 * origin_longitude\n",
      "-1.107288 * scheduled_arrival\n",
      "+0.009818 * scheduled_departure\n",
      "-0.126722 * scheduled_time\n",
      "-0.044608 * taxi_in\n",
      "-0.042067 * taxi_out\n",
      "-0.001823 * day_of_year\n",
      "-0.005194 * origin_temperature\n",
      "+33.629274 * destination_temperature\n"
     ]
    }
   ],
   "source": [
    "# model equation\n",
    "print('departuredelay =')\n",
    "for i in range(len(X.columns)):\n",
    "    if best_fwd_reg_model.params[i] != 0:\n",
    "        print('{:+3f} * {}'.format(best_fwd_reg_model.params[i], X.columns[i]))"
   ]
  },
  {
   "cell_type": "code",
   "execution_count": 14,
   "metadata": {},
   "outputs": [
    {
     "data": {
      "text/plain": [
       "37.35517169810643"
      ]
     },
     "execution_count": 14,
     "metadata": {},
     "output_type": "execute_result"
    }
   ],
   "source": [
    "# RMSE\n",
    "pred_price = (best_fwd_reg_model.predict(test))\n",
    "np.sqrt(((pred_price - test.departure_delay)**2).mean())"
   ]
  },
  {
   "cell_type": "code",
   "execution_count": 4,
   "metadata": {},
   "outputs": [],
   "source": [
    "# dataset with only the significant categorical predicotrs from the base model\n",
    "# could not run full dataset because it was too big\n",
    "flights_numerical = pd.read_csv('flights_clean_numerical.csv')[[\n",
    "    'airline_AS', 'airline_NK', 'airline_UA',\n",
    "    'destination_airport_BTV', 'destination_airport_DTW', 'destination_airport_FNT', \n",
    "    'origin_airport_CMH', 'origin_airport_IAD', 'origin_airport_LNK', 'origin_airport_RIC',\n",
    "    'state_destination_MI', 'state_destination_VT', 'state_origin_NE'\n",
    "]]"
   ]
  },
  {
   "cell_type": "code",
   "execution_count": 15,
   "metadata": {},
   "outputs": [],
   "source": [
    "flight = flight[['departure_delay','airline', 'day', 'day_of_week', 'destination_airport', 'destination_latitude', 'destination_longitude', 'distance', 'month', 'origin_airport', 'origin_latitude', 'origin_longitude', 'scheduled_arrival', 'scheduled_departure', 'scheduled_time', 'state_destination', 'state_origin', 'taxi_in', 'taxi_out', 'day_of_year', 'origin_temperature', 'destination_temperature']]\n",
    "# merge flight with flights_numerical\n",
    "flight = pd.merge(flight, flights_numerical, left_index=True, right_index=True)"
   ]
  },
  {
   "cell_type": "code",
   "execution_count": 16,
   "metadata": {},
   "outputs": [],
   "source": [
    "X = flight.drop(['departure_delay'], axis=1)"
   ]
  },
  {
   "cell_type": "code",
   "execution_count": 20,
   "metadata": {},
   "outputs": [],
   "source": [
    "X = X.drop(['airline', 'destination_airport', 'origin_airport', 'state_destination', 'state_origin'], axis=1)"
   ]
  },
  {
   "cell_type": "code",
   "execution_count": 19,
   "metadata": {},
   "outputs": [],
   "source": [
    "# train test split\n",
    "train, test = train_test_split(flight, test_size=0.2, random_state=42)\n",
    "train_drop = train.drop(['airline', 'destination_airport', 'origin_airport', 'state_destination', 'state_origin'], axis=1)"
   ]
  },
  {
   "cell_type": "code",
   "execution_count": 24,
   "metadata": {},
   "outputs": [
    {
     "name": "stdout",
     "output_type": "stream",
     "text": [
      "Processed  29 models on 1 predictors in 13.250516891479492 seconds.\n",
      "Processed  28 models on 2 predictors in 16.003297090530396 seconds.\n",
      "Processed  27 models on 3 predictors in 18.583664417266846 seconds.\n",
      "Processed  26 models on 4 predictors in 21.920204401016235 seconds.\n",
      "Processed  25 models on 5 predictors in 25.84075355529785 seconds.\n",
      "Processed  24 models on 6 predictors in 28.924638032913208 seconds.\n",
      "Processed  23 models on 7 predictors in 34.4030065536499 seconds.\n",
      "Processed  22 models on 8 predictors in 40.0894079208374 seconds.\n",
      "Processed  21 models on 9 predictors in 44.68142533302307 seconds.\n",
      "Processed  20 models on 10 predictors in 49.396015882492065 seconds.\n",
      "Processed  19 models on 11 predictors in 55.4206166267395 seconds.\n",
      "Processed  18 models on 12 predictors in 54.46213412284851 seconds.\n",
      "Processed  17 models on 13 predictors in 55.886082887649536 seconds.\n",
      "Processed  16 models on 14 predictors in 61.61285853385925 seconds.\n",
      "Processed  15 models on 15 predictors in 62.248027086257935 seconds.\n",
      "Processed  14 models on 16 predictors in 59.00473713874817 seconds.\n",
      "Processed  13 models on 17 predictors in 58.3992645740509 seconds.\n",
      "Processed  12 models on 18 predictors in 55.58203315734863 seconds.\n",
      "Processed  11 models on 19 predictors in 52.77651286125183 seconds.\n",
      "Processed  10 models on 20 predictors in 50.324374198913574 seconds.\n",
      "Processed  9 models on 21 predictors in 50.863669872283936 seconds.\n",
      "Processed  8 models on 22 predictors in 44.038336515426636 seconds.\n",
      "Processed  7 models on 23 predictors in 39.97758984565735 seconds.\n",
      "Processed  6 models on 24 predictors in 38.77848672866821 seconds.\n",
      "Processed  5 models on 25 predictors in 31.71076488494873 seconds.\n",
      "Processed  4 models on 26 predictors in 26.54218578338623 seconds.\n",
      "Processed  3 models on 27 predictors in 20.372822761535645 seconds.\n",
      "Processed  2 models on 28 predictors in 14.301716804504395 seconds.\n",
      "Processed  1 models on 29 predictors in 7.611482381820679 seconds.\n",
      "Total elapsed time: 1149.9201033115387 seconds.\n"
     ]
    }
   ],
   "source": [
    "models_best = forward_selection()"
   ]
  },
  {
   "cell_type": "code",
   "execution_count": 30,
   "metadata": {},
   "outputs": [
    {
     "data": {
      "image/png": "[encoded data removed]",
      "text/plain": [
       "<Figure size 1440x720 with 4 Axes>"
      ]
     },
     "metadata": {
      "needs_background": "light"
     },
     "output_type": "display_data"
    }
   ],
   "source": [
    "best_sub_plots()"
   ]
  },
  {
   "cell_type": "code",
   "execution_count": 28,
   "metadata": {},
   "outputs": [
    {
     "data": {
      "text/html": [
       "<table class=\"simpletable\">\n",
       "<caption>OLS Regression Results</caption>\n",
       "<tr>\n",
       "  <th>Dep. Variable:</th>     <td>departure_delay</td> <th>  R-squared:         </th>  <td>   0.023</td>  \n",
       "</tr>\n",
       "<tr>\n",
       "  <th>Model:</th>                   <td>OLS</td>       <th>  Adj. R-squared:    </th>  <td>   0.023</td>  \n",
       "</tr>\n",
       "<tr>\n",
       "  <th>Method:</th>             <td>Least Squares</td>  <th>  F-statistic:       </th>  <td>   3317.</td>  \n",
       "</tr>\n",
       "<tr>\n",
       "  <th>Date:</th>             <td>Sun, 12 Mar 2023</td> <th>  Prob (F-statistic):</th>   <td>  0.00</td>   \n",
       "</tr>\n",
       "<tr>\n",
       "  <th>Time:</th>                 <td>15:03:19</td>     <th>  Log-Likelihood:    </th> <td>-1.6252e+07</td>\n",
       "</tr>\n",
       "<tr>\n",
       "  <th>No. Observations:</th>      <td>3225535</td>     <th>  AIC:               </th>  <td>3.250e+07</td> \n",
       "</tr>\n",
       "<tr>\n",
       "  <th>Df Residuals:</th>          <td>3225511</td>     <th>  BIC:               </th>  <td>3.250e+07</td> \n",
       "</tr>\n",
       "<tr>\n",
       "  <th>Df Model:</th>              <td>    23</td>      <th>                     </th>      <td> </td>     \n",
       "</tr>\n",
       "<tr>\n",
       "  <th>Covariance Type:</th>      <td>nonrobust</td>    <th>                     </th>      <td> </td>     \n",
       "</tr>\n",
       "</table>\n",
       "<table class=\"simpletable\">\n",
       "<tr>\n",
       "             <td></td>                <th>coef</th>     <th>std err</th>      <th>t</th>      <th>P>|t|</th>  <th>[0.025</th>    <th>0.975]</th>  \n",
       "</tr>\n",
       "<tr>\n",
       "  <th>Intercept</th>               <td>  -33.7414</td> <td>    1.042</td> <td>  -32.382</td> <td> 0.000</td> <td>  -35.784</td> <td>  -31.699</td>\n",
       "</tr>\n",
       "<tr>\n",
       "  <th>scheduled_departure</th>     <td>    0.0117</td> <td> 9.74e-05</td> <td>  120.419</td> <td> 0.000</td> <td>    0.012</td> <td>    0.012</td>\n",
       "</tr>\n",
       "<tr>\n",
       "  <th>taxi_out</th>                <td>    0.2209</td> <td>    0.002</td> <td>   92.849</td> <td> 0.000</td> <td>    0.216</td> <td>    0.226</td>\n",
       "</tr>\n",
       "<tr>\n",
       "  <th>airline_UA</th>              <td>    4.9922</td> <td>    0.070</td> <td>   71.132</td> <td> 0.000</td> <td>    4.855</td> <td>    5.130</td>\n",
       "</tr>\n",
       "<tr>\n",
       "  <th>airline_AS</th>              <td>   -6.5507</td> <td>    0.134</td> <td>  -48.746</td> <td> 0.000</td> <td>   -6.814</td> <td>   -6.287</td>\n",
       "</tr>\n",
       "<tr>\n",
       "  <th>scheduled_arrival</th>       <td>    0.0048</td> <td> 9.23e-05</td> <td>   52.000</td> <td> 0.000</td> <td>    0.005</td> <td>    0.005</td>\n",
       "</tr>\n",
       "<tr>\n",
       "  <th>airline_NK</th>              <td>    8.5769</td> <td>    0.161</td> <td>   53.112</td> <td> 0.000</td> <td>    8.260</td> <td>    8.893</td>\n",
       "</tr>\n",
       "<tr>\n",
       "  <th>day_of_week</th>             <td>   -0.3412</td> <td>    0.010</td> <td>  -32.640</td> <td> 0.000</td> <td>   -0.362</td> <td>   -0.321</td>\n",
       "</tr>\n",
       "<tr>\n",
       "  <th>day_of_year</th>             <td>   -1.0938</td> <td>    0.034</td> <td>  -32.217</td> <td> 0.000</td> <td>   -1.160</td> <td>   -1.027</td>\n",
       "</tr>\n",
       "<tr>\n",
       "  <th>taxi_in</th>                 <td>    0.0684</td> <td>    0.004</td> <td>   18.401</td> <td> 0.000</td> <td>    0.061</td> <td>    0.076</td>\n",
       "</tr>\n",
       "<tr>\n",
       "  <th>origin_temperature</th>      <td>   -0.0439</td> <td>    0.002</td> <td>  -21.909</td> <td> 0.000</td> <td>   -0.048</td> <td>   -0.040</td>\n",
       "</tr>\n",
       "<tr>\n",
       "  <th>origin_latitude</th>         <td>   -0.0886</td> <td>    0.005</td> <td>  -17.592</td> <td> 0.000</td> <td>   -0.098</td> <td>   -0.079</td>\n",
       "</tr>\n",
       "<tr>\n",
       "  <th>scheduled_time</th>          <td>    0.0116</td> <td>    0.003</td> <td>    4.509</td> <td> 0.000</td> <td>    0.007</td> <td>    0.017</td>\n",
       "</tr>\n",
       "<tr>\n",
       "  <th>origin_longitude</th>        <td>    0.0052</td> <td>    0.002</td> <td>    2.284</td> <td> 0.022</td> <td>    0.001</td> <td>    0.010</td>\n",
       "</tr>\n",
       "<tr>\n",
       "  <th>state_destination_MI</th>    <td>   -1.2327</td> <td>    0.132</td> <td>   -9.322</td> <td> 0.000</td> <td>   -1.492</td> <td>   -0.973</td>\n",
       "</tr>\n",
       "<tr>\n",
       "  <th>destination_longitude</th>   <td>    0.0117</td> <td>    0.002</td> <td>    6.273</td> <td> 0.000</td> <td>    0.008</td> <td>    0.015</td>\n",
       "</tr>\n",
       "<tr>\n",
       "  <th>origin_airport_RIC</th>      <td>    2.0400</td> <td>    0.347</td> <td>    5.876</td> <td> 0.000</td> <td>    1.360</td> <td>    2.720</td>\n",
       "</tr>\n",
       "<tr>\n",
       "  <th>origin_airport_IAD</th>      <td>   -0.6191</td> <td>    0.171</td> <td>   -3.623</td> <td> 0.000</td> <td>   -0.954</td> <td>   -0.284</td>\n",
       "</tr>\n",
       "<tr>\n",
       "  <th>origin_airport_CMH</th>      <td>    0.9383</td> <td>    0.202</td> <td>    4.642</td> <td> 0.000</td> <td>    0.542</td> <td>    1.334</td>\n",
       "</tr>\n",
       "<tr>\n",
       "  <th>distance</th>                <td>   -0.0010</td> <td>    0.000</td> <td>   -3.100</td> <td> 0.002</td> <td>   -0.002</td> <td>   -0.000</td>\n",
       "</tr>\n",
       "<tr>\n",
       "  <th>destination_temperature</th> <td>   -0.0040</td> <td>    0.002</td> <td>   -1.995</td> <td> 0.046</td> <td>   -0.008</td> <td>-7.01e-05</td>\n",
       "</tr>\n",
       "<tr>\n",
       "  <th>destination_latitude</th>    <td>    0.0022</td> <td>    0.005</td> <td>    0.440</td> <td> 0.660</td> <td>   -0.008</td> <td>    0.012</td>\n",
       "</tr>\n",
       "<tr>\n",
       "  <th>month</th>                   <td>   33.2072</td> <td>    1.034</td> <td>   32.105</td> <td> 0.000</td> <td>   31.180</td> <td>   35.234</td>\n",
       "</tr>\n",
       "<tr>\n",
       "  <th>day</th>                     <td>    1.0885</td> <td>    0.034</td> <td>   32.043</td> <td> 0.000</td> <td>    1.022</td> <td>    1.155</td>\n",
       "</tr>\n",
       "</table>\n",
       "<table class=\"simpletable\">\n",
       "<tr>\n",
       "  <th>Omnibus:</th>       <td>4331476.883</td> <th>  Durbin-Watson:     </th>    <td>   1.999</td>   \n",
       "</tr>\n",
       "<tr>\n",
       "  <th>Prob(Omnibus):</th>   <td> 0.000</td>    <th>  Jarque-Bera (JB):  </th> <td>1970408575.535</td>\n",
       "</tr>\n",
       "<tr>\n",
       "  <th>Skew:</th>            <td> 7.456</td>    <th>  Prob(JB):          </th>    <td>    0.00</td>   \n",
       "</tr>\n",
       "<tr>\n",
       "  <th>Kurtosis:</th>        <td>123.161</td>   <th>  Cond. No.          </th>    <td>1.11e+05</td>   \n",
       "</tr>\n",
       "</table><br/><br/>Notes:<br/>[1] Standard Errors assume that the covariance matrix of the errors is correctly specified.<br/>[2] The condition number is large, 1.11e+05. This might indicate that there are<br/>strong multicollinearity or other numerical problems."
      ],
      "text/plain": [
       "<class 'statsmodels.iolib.summary.Summary'>\n",
       "\"\"\"\n",
       "                            OLS Regression Results                            \n",
       "==============================================================================\n",
       "Dep. Variable:        departure_delay   R-squared:                       0.023\n",
       "Model:                            OLS   Adj. R-squared:                  0.023\n",
       "Method:                 Least Squares   F-statistic:                     3317.\n",
       "Date:                Sun, 12 Mar 2023   Prob (F-statistic):               0.00\n",
       "Time:                        15:03:19   Log-Likelihood:            -1.6252e+07\n",
       "No. Observations:             3225535   AIC:                         3.250e+07\n",
       "Df Residuals:                 3225511   BIC:                         3.250e+07\n",
       "Df Model:                          23                                         \n",
       "Covariance Type:            nonrobust                                         \n",
       "===========================================================================================\n",
       "                              coef    std err          t      P>|t|      [0.025      0.975]\n",
       "-------------------------------------------------------------------------------------------\n",
       "Intercept                 -33.7414      1.042    -32.382      0.000     -35.784     -31.699\n",
       "scheduled_departure         0.0117   9.74e-05    120.419      0.000       0.012       0.012\n",
       "taxi_out                    0.2209      0.002     92.849      0.000       0.216       0.226\n",
       "airline_UA                  4.9922      0.070     71.132      0.000       4.855       5.130\n",
       "airline_AS                 -6.5507      0.134    -48.746      0.000      -6.814      -6.287\n",
       "scheduled_arrival           0.0048   9.23e-05     52.000      0.000       0.005       0.005\n",
       "airline_NK                  8.5769      0.161     53.112      0.000       8.260       8.893\n",
       "day_of_week                -0.3412      0.010    -32.640      0.000      -0.362      -0.321\n",
       "day_of_year                -1.0938      0.034    -32.217      0.000      -1.160      -1.027\n",
       "taxi_in                     0.0684      0.004     18.401      0.000       0.061       0.076\n",
       "origin_temperature         -0.0439      0.002    -21.909      0.000      -0.048      -0.040\n",
       "origin_latitude            -0.0886      0.005    -17.592      0.000      -0.098      -0.079\n",
       "scheduled_time              0.0116      0.003      4.509      0.000       0.007       0.017\n",
       "origin_longitude            0.0052      0.002      2.284      0.022       0.001       0.010\n",
       "state_destination_MI       -1.2327      0.132     -9.322      0.000      -1.492      -0.973\n",
       "destination_longitude       0.0117      0.002      6.273      0.000       0.008       0.015\n",
       "origin_airport_RIC          2.0400      0.347      5.876      0.000       1.360       2.720\n",
       "origin_airport_IAD         -0.6191      0.171     -3.623      0.000      -0.954      -0.284\n",
       "origin_airport_CMH          0.9383      0.202      4.642      0.000       0.542       1.334\n",
       "distance                   -0.0010      0.000     -3.100      0.002      -0.002      -0.000\n",
       "destination_temperature    -0.0040      0.002     -1.995      0.046      -0.008   -7.01e-05\n",
       "destination_latitude        0.0022      0.005      0.440      0.660      -0.008       0.012\n",
       "month                      33.2072      1.034     32.105      0.000      31.180      35.234\n",
       "day                         1.0885      0.034     32.043      0.000       1.022       1.155\n",
       "==============================================================================\n",
       "Omnibus:                  4331476.883   Durbin-Watson:                   1.999\n",
       "Prob(Omnibus):                  0.000   Jarque-Bera (JB):       1970408575.535\n",
       "Skew:                           7.456   Prob(JB):                         0.00\n",
       "Kurtosis:                     123.161   Cond. No.                     1.11e+05\n",
       "==============================================================================\n",
       "\n",
       "Notes:\n",
       "[1] Standard Errors assume that the covariance matrix of the errors is correctly specified.\n",
       "[2] The condition number is large, 1.11e+05. This might indicate that there are\n",
       "strong multicollinearity or other numerical problems.\n",
       "\"\"\""
      ]
     },
     "execution_count": 28,
     "metadata": {},
     "output_type": "execute_result"
    }
   ],
   "source": [
    "# best model from forward selection\n",
    "best_fwd_reg_model = models_best['model'][23]\n",
    "best_fwd_reg_model.summary()"
   ]
  },
  {
   "cell_type": "code",
   "execution_count": 29,
   "metadata": {},
   "outputs": [
    {
     "data": {
      "text/plain": [
       "37.451135927191935"
      ]
     },
     "execution_count": 29,
     "metadata": {},
     "output_type": "execute_result"
    }
   ],
   "source": [
    "# calculate rmse\n",
    "pred_price = (best_fwd_reg_model.predict(test))\n",
    "np.sqrt(((pred_price - test.departure_delay)**2).mean())"
   ]
  }
 ],
 "metadata": {
  "kernelspec": {
   "display_name": "base",
   "language": "python",
   "name": "python3"
  },
  "language_info": {
   "codemirror_mode": {
    "name": "ipython",
    "version": 3
   },
   "file_extension": ".py",
   "mimetype": "text/x-python",
   "name": "python",
   "nbconvert_exporter": "python",
   "pygments_lexer": "ipython3",
   "version": "3.9.12"
  },
  "orig_nbformat": 4
 },
 "nbformat": 4,
 "nbformat_minor": 2
}
