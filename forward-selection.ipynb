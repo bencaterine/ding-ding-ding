{
 "cells": [
  {
   "cell_type": "code",
   "execution_count": 1,
   "metadata": {},
   "outputs": [],
   "source": [
    "import os\n",
    "import pandas as pd\n",
    "import numpy as np\n",
    "import statsmodels.formula.api as smf\n",
    "import seaborn as sns\n",
    "import matplotlib.pyplot as plt\n",
    "import scipy as sp\n",
    "import scipy.stats as stats\n",
    "import time\n",
    "import itertools\n",
    "import statsmodels.api as sm\n",
    "import numpy.ma as ma\n",
    "from scipy.stats.stats import pearsonr, normaltest\n",
    "from scipy.spatial.distance import correlation\n",
    "from sklearn.model_selection import train_test_split\n",
    "os.getcwd()\n",
    "os.chdir(r'C:\\Users\\Haneef Usmani\\Desktop\\STAT 303-2\\Project')"
   ]
  },
  {
   "cell_type": "code",
   "execution_count": 2,
   "metadata": {},
   "outputs": [],
   "source": [
    "flight = pd.read_csv('flights_clean.csv')"
   ]
  },
  {
   "cell_type": "code",
   "execution_count": 77,
   "metadata": {},
   "outputs": [
    {
     "data": {
      "text/plain": [
       "Index(['airline', 'day', 'day_of_week', 'departure_delay',\n",
       "       'destination_airport', 'destination_latitude', 'destination_longitude',\n",
       "       'distance', 'month', 'origin_airport', 'origin_latitude',\n",
       "       'origin_longitude', 'scheduled_arrival', 'scheduled_departure',\n",
       "       'scheduled_time', 'state_destination', 'state_origin', 'taxi_in',\n",
       "       'taxi_out', 'day_of_year', 'origin_temperature',\n",
       "       'destination_temperature'],\n",
       "      dtype='object')"
      ]
     },
     "execution_count": 77,
     "metadata": {},
     "output_type": "execute_result"
    }
   ],
   "source": [
    "flight.columns"
   ]
  },
  {
   "cell_type": "code",
   "execution_count": 4,
   "metadata": {},
   "outputs": [
    {
     "ename": "MemoryError",
     "evalue": "Unable to allocate 12.1 GiB for an array with shape (402, 4031919) and data type float64",
     "output_type": "error",
     "traceback": [
      "\u001b[1;31m---------------------------------------------------------------------------\u001b[0m",
      "\u001b[1;31mMemoryError\u001b[0m                               Traceback (most recent call last)",
      "\u001b[1;32mc:\\Users\\Haneef Usmani\\Documents\\GitHub\\ding-ding-ding\\forward-selection.ipynb Cell 4\u001b[0m in \u001b[0;36m<cell line: 1>\u001b[1;34m()\u001b[0m\n\u001b[1;32m----> <a href='vscode-notebook-cell:/c%3A/Users/Haneef%20Usmani/Documents/GitHub/ding-ding-ding/forward-selection.ipynb#W3sZmlsZQ%3D%3D?line=0'>1</a>\u001b[0m model_all \u001b[39m=\u001b[39m smf\u001b[39m.\u001b[39;49mols(formula\u001b[39m=\u001b[39;49m\u001b[39m'\u001b[39;49m\u001b[39mdeparture_delay ~ airline + day + day_of_week + destination_airport + destination_latitude + destination_longitude + distance + month + origin_airport + origin_latitude + origin_longitude + scheduled_arrival + scheduled_departure + scheduled_time + state_destination + state_origin + taxi_in + taxi_out + day_of_year + origin_temperature + destination_temperature\u001b[39;49m\u001b[39m'\u001b[39;49m, data\u001b[39m=\u001b[39;49mflight)\u001b[39m.\u001b[39;49mfit()\n\u001b[0;32m      <a href='vscode-notebook-cell:/c%3A/Users/Haneef%20Usmani/Documents/GitHub/ding-ding-ding/forward-selection.ipynb#W3sZmlsZQ%3D%3D?line=1'>2</a>\u001b[0m model_all\u001b[39m.\u001b[39msummary()\n",
      "File \u001b[1;32mc:\\Users\\Haneef Usmani\\anaconda3\\lib\\site-packages\\statsmodels\\regression\\linear_model.py:306\u001b[0m, in \u001b[0;36mRegressionModel.fit\u001b[1;34m(self, method, cov_type, cov_kwds, use_t, **kwargs)\u001b[0m\n\u001b[0;32m    301\u001b[0m \u001b[39mif\u001b[39;00m method \u001b[39m==\u001b[39m \u001b[39m\"\u001b[39m\u001b[39mpinv\u001b[39m\u001b[39m\"\u001b[39m:\n\u001b[0;32m    302\u001b[0m     \u001b[39mif\u001b[39;00m \u001b[39mnot\u001b[39;00m (\u001b[39mhasattr\u001b[39m(\u001b[39mself\u001b[39m, \u001b[39m'\u001b[39m\u001b[39mpinv_wexog\u001b[39m\u001b[39m'\u001b[39m) \u001b[39mand\u001b[39;00m\n\u001b[0;32m    303\u001b[0m             \u001b[39mhasattr\u001b[39m(\u001b[39mself\u001b[39m, \u001b[39m'\u001b[39m\u001b[39mnormalized_cov_params\u001b[39m\u001b[39m'\u001b[39m) \u001b[39mand\u001b[39;00m\n\u001b[0;32m    304\u001b[0m             \u001b[39mhasattr\u001b[39m(\u001b[39mself\u001b[39m, \u001b[39m'\u001b[39m\u001b[39mrank\u001b[39m\u001b[39m'\u001b[39m)):\n\u001b[1;32m--> 306\u001b[0m         \u001b[39mself\u001b[39m\u001b[39m.\u001b[39mpinv_wexog, singular_values \u001b[39m=\u001b[39m pinv_extended(\u001b[39mself\u001b[39;49m\u001b[39m.\u001b[39;49mwexog)\n\u001b[0;32m    307\u001b[0m         \u001b[39mself\u001b[39m\u001b[39m.\u001b[39mnormalized_cov_params \u001b[39m=\u001b[39m np\u001b[39m.\u001b[39mdot(\n\u001b[0;32m    308\u001b[0m             \u001b[39mself\u001b[39m\u001b[39m.\u001b[39mpinv_wexog, np\u001b[39m.\u001b[39mtranspose(\u001b[39mself\u001b[39m\u001b[39m.\u001b[39mpinv_wexog))\n\u001b[0;32m    310\u001b[0m         \u001b[39m# Cache these singular values for use later.\u001b[39;00m\n",
      "File \u001b[1;32mc:\\Users\\Haneef Usmani\\anaconda3\\lib\\site-packages\\statsmodels\\tools\\tools.py:349\u001b[0m, in \u001b[0;36mpinv_extended\u001b[1;34m(x, rcond)\u001b[0m\n\u001b[0;32m    347\u001b[0m     \u001b[39melse\u001b[39;00m:\n\u001b[0;32m    348\u001b[0m         s[i] \u001b[39m=\u001b[39m \u001b[39m0.\u001b[39m\n\u001b[1;32m--> 349\u001b[0m res \u001b[39m=\u001b[39m np\u001b[39m.\u001b[39;49mdot(np\u001b[39m.\u001b[39;49mtranspose(vt), np\u001b[39m.\u001b[39;49mmultiply(s[:, np\u001b[39m.\u001b[39;49mcore\u001b[39m.\u001b[39;49mnewaxis],\n\u001b[0;32m    350\u001b[0m                                            np\u001b[39m.\u001b[39;49mtranspose(u)))\n\u001b[0;32m    351\u001b[0m \u001b[39mreturn\u001b[39;00m res, s_orig\n",
      "File \u001b[1;32m<__array_function__ internals>:5\u001b[0m, in \u001b[0;36mdot\u001b[1;34m(*args, **kwargs)\u001b[0m\n",
      "\u001b[1;31mMemoryError\u001b[0m: Unable to allocate 12.1 GiB for an array with shape (402, 4031919) and data type float64"
     ]
    }
   ],
   "source": [
    "model_all = smf.ols(formula='departure_delay ~ airline + day + day_of_week + destination_airport + destination_latitude + destination_longitude + distance + month + origin_airport + origin_latitude + origin_longitude + scheduled_arrival + scheduled_departure + scheduled_time + state_destination + state_origin + taxi_in + taxi_out + day_of_year + origin_temperature + destination_temperature', data=flight).fit()\n",
    "model_all.summary()"
   ]
  },
  {
   "cell_type": "code",
   "execution_count": 3,
   "metadata": {},
   "outputs": [],
   "source": [
    "# split flight into train and test\n",
    "train, test = train_test_split(flight, test_size=0.2)"
   ]
  },
  {
   "cell_type": "code",
   "execution_count": 5,
   "metadata": {},
   "outputs": [],
   "source": [
    "# drop all categorical variables from train\n",
    "train_drop = train.drop(['airline', 'destination_airport', 'origin_airport', 'state_destination', 'state_origin'], axis=1)"
   ]
  },
  {
   "cell_type": "code",
   "execution_count": 6,
   "metadata": {},
   "outputs": [],
   "source": [
    "X = train[['airline', 'day', 'day_of_week', 'destination_airport', 'destination_latitude', 'destination_longitude', 'distance', 'month', 'origin_airport', 'origin_latitude', 'origin_longitude', 'scheduled_arrival', 'scheduled_departure', 'scheduled_time', 'state_destination', 'state_origin', 'taxi_in', 'taxi_out', 'day_of_year', 'origin_temperature', 'destination_temperature']]\n",
    "# take out all categorical variables\n",
    "X = X.drop(['airline', 'destination_airport', 'origin_airport', 'state_destination', 'state_origin'], axis=1)"
   ]
  },
  {
   "cell_type": "code",
   "execution_count": 7,
   "metadata": {},
   "outputs": [],
   "source": [
    "def processSubset(predictor_subset):\n",
    "    # Fit model on feature_set and calculate R-squared\n",
    "    model = smf.ols('(departure_delay)~' + '+'.join(predictor_subset),data = train_drop).fit()\n",
    "    Rsquared = model.rsquared\n",
    "    return {\"model\":model, \"Rsquared\":Rsquared}\n",
    "def getBest_model(k):\n",
    "    tic = time.time()\n",
    "    results = []\n",
    "    for combo in itertools.combinations(X.columns, k):\n",
    "        results.append(processSubset((list(combo))))\n",
    "\n",
    "    # Wrap everything up in a dataframe\n",
    "    models = pd.DataFrame(results)\n",
    "\n",
    "    # Choose the model with the highest RSS\n",
    "    best_model = models.loc[models['Rsquared'].argmax()]\n",
    "    \n",
    "    toc = time.time()\n",
    "    print(\"Processed\", models.shape[0], \"models on\", k, \"predictors in\", (toc-tic), \"seconds.\")\n",
    "    return best_model"
   ]
  },
  {
   "cell_type": "code",
   "execution_count": 8,
   "metadata": {},
   "outputs": [],
   "source": [
    "#Function to find the best predictor out of p-k predictors and add it to the model containing the k predictors\n",
    "def forward(predictors):\n",
    "\n",
    "    # Pull out predictors we still need to process\n",
    "    remaining_predictors = [p for p in X.columns if p not in predictors]\n",
    "    \n",
    "    tic = time.time()\n",
    "    \n",
    "    results = []\n",
    "    \n",
    "    for p in remaining_predictors:\n",
    "        results.append(processSubset(predictors+[p]))\n",
    "    \n",
    "    # Wrap everything up in a nice dataframe\n",
    "    models = pd.DataFrame(results)\n",
    "    \n",
    "    # Choose the model with the highest RSS\n",
    "    best_model = models.loc[models['Rsquared'].argmax()]\n",
    "    \n",
    "    toc = time.time()\n",
    "    print(\"Processed \", models.shape[0], \"models on\", len(predictors)+1, \"predictors in\", (toc-tic), \"seconds.\")\n",
    "    \n",
    "    # Return the best model, along with some other useful information about the model\n",
    "    return best_model"
   ]
  },
  {
   "cell_type": "code",
   "execution_count": 9,
   "metadata": {},
   "outputs": [],
   "source": [
    "def forward_selection():\n",
    "    models_best = pd.DataFrame(columns=[\"Rsquared\", \"model\"])\n",
    "\n",
    "    tic = time.time()\n",
    "    predictors = []\n",
    "\n",
    "    for i in range(1,len(X.columns)+1):    \n",
    "        models_best.loc[i] = forward(predictors)\n",
    "        predictors = list(models_best.loc[i][\"model\"].params.index[1:])\n",
    "\n",
    "    toc = time.time()\n",
    "    print(\"Total elapsed time:\", (toc-tic), \"seconds.\")\n",
    "    return models_best"
   ]
  },
  {
   "cell_type": "code",
   "execution_count": 10,
   "metadata": {},
   "outputs": [
    {
     "name": "stdout",
     "output_type": "stream",
     "text": [
      "Processed  16 models on 1 predictors in 8.12741208076477 seconds.\n",
      "Processed  15 models on 2 predictors in 9.836007118225098 seconds.\n",
      "Processed  14 models on 3 predictors in 10.54194450378418 seconds.\n",
      "Processed  13 models on 4 predictors in 13.134437799453735 seconds.\n",
      "Processed  12 models on 5 predictors in 16.103069305419922 seconds.\n",
      "Processed  11 models on 6 predictors in 15.824368953704834 seconds.\n",
      "Processed  10 models on 7 predictors in 15.907246589660645 seconds.\n",
      "Processed  9 models on 8 predictors in 16.967482328414917 seconds.\n",
      "Processed  8 models on 9 predictors in 16.88384771347046 seconds.\n",
      "Processed  7 models on 10 predictors in 18.03978705406189 seconds.\n",
      "Processed  6 models on 11 predictors in 15.867708444595337 seconds.\n",
      "Processed  5 models on 12 predictors in 14.319014310836792 seconds.\n",
      "Processed  4 models on 13 predictors in 13.070203065872192 seconds.\n",
      "Processed  3 models on 14 predictors in 10.444658041000366 seconds.\n",
      "Processed  2 models on 15 predictors in 7.899216413497925 seconds.\n",
      "Processed  1 models on 16 predictors in 4.031377553939819 seconds.\n",
      "Total elapsed time: 210.59671878814697 seconds.\n"
     ]
    }
   ],
   "source": [
    "models_best = forward_selection()"
   ]
  },
  {
   "cell_type": "code",
   "execution_count": 11,
   "metadata": {},
   "outputs": [
    {
     "data": {
      "image/png": "[encoded data removed]",
      "text/plain": [
       "<Figure size 1440x720 with 4 Axes>"
      ]
     },
     "metadata": {
      "needs_background": "light"
     },
     "output_type": "display_data"
    }
   ],
   "source": [
    "def best_sub_plots():\n",
    "    plt.figure(figsize=(20,10))\n",
    "    plt.rcParams.update({'font.size': 18, 'lines.markersize': 10})\n",
    "\n",
    "    # Set up a 2x2 grid so we can look at 4 plots at once\n",
    "    plt.subplot(2, 2, 1)\n",
    "\n",
    "    # We will now plot a red dot to indicate the model with the largest adjusted R^2 statistic.\n",
    "    # The argmax() function can be used to identify the location of the maximum point of a vector\n",
    "    plt.plot(models_best[\"Rsquared\"])\n",
    "    plt.xlabel('# Predictors')\n",
    "    plt.ylabel('Rsquared')\n",
    "\n",
    "    # We will now plot a red dot to indicate the model with the largest adjusted R^2 statistic.\n",
    "    # The argmax() function can be used to identify the location of the maximum point of a vector\n",
    "\n",
    "    rsquared_adj = models_best.apply(lambda row: row[1].rsquared_adj, axis=1)\n",
    "\n",
    "    plt.subplot(2, 2, 2)\n",
    "    plt.plot(rsquared_adj)\n",
    "    plt.plot(1+rsquared_adj.argmax(), rsquared_adj.max(), \"or\")\n",
    "    plt.xlabel('# Predictors')\n",
    "    plt.ylabel('adjusted rsquared')\n",
    "\n",
    "    # We'll do the same for AIC and BIC, this time looking for the models with the SMALLEST statistic\n",
    "    aic = models_best.apply(lambda row: row[1].aic, axis=1)\n",
    "\n",
    "    plt.subplot(2, 2, 3)\n",
    "    plt.plot(aic)\n",
    "    plt.plot(1+aic.argmin(), aic.min(), \"or\")\n",
    "    plt.xlabel('# Predictors')\n",
    "    plt.ylabel('AIC')\n",
    "\n",
    "    bic = models_best.apply(lambda row: row[1].bic, axis=1)\n",
    "\n",
    "    plt.subplot(2, 2, 4)\n",
    "    plt.plot(bic)\n",
    "    plt.plot(1+bic.argmin(), bic.min(), \"or\")\n",
    "    plt.xlabel('# Predictors')\n",
    "    plt.ylabel('BIC')\n",
    "best_sub_plots()"
   ]
  },
  {
   "cell_type": "code",
   "execution_count": 12,
   "metadata": {},
   "outputs": [
    {
     "data": {
      "text/html": [
       "<table class=\"simpletable\">\n",
       "<caption>OLS Regression Results</caption>\n",
       "<tr>\n",
       "  <th>Dep. Variable:</th>     <td>departure_delay</td> <th>  R-squared:         </th>  <td>   0.020</td>  \n",
       "</tr>\n",
       "<tr>\n",
       "  <th>Model:</th>                   <td>OLS</td>       <th>  Adj. R-squared:    </th>  <td>   0.020</td>  \n",
       "</tr>\n",
       "<tr>\n",
       "  <th>Method:</th>             <td>Least Squares</td>  <th>  F-statistic:       </th>  <td>   4079.</td>  \n",
       "</tr>\n",
       "<tr>\n",
       "  <th>Date:</th>             <td>Sun, 05 Mar 2023</td> <th>  Prob (F-statistic):</th>   <td>  0.00</td>   \n",
       "</tr>\n",
       "<tr>\n",
       "  <th>Time:</th>                 <td>19:41:55</td>     <th>  Log-Likelihood:    </th> <td>-1.6260e+07</td>\n",
       "</tr>\n",
       "<tr>\n",
       "  <th>No. Observations:</th>      <td>3225535</td>     <th>  AIC:               </th>  <td>3.252e+07</td> \n",
       "</tr>\n",
       "<tr>\n",
       "  <th>Df Residuals:</th>          <td>3225518</td>     <th>  BIC:               </th>  <td>3.252e+07</td> \n",
       "</tr>\n",
       "<tr>\n",
       "  <th>Df Model:</th>              <td>    16</td>      <th>                     </th>      <td> </td>     \n",
       "</tr>\n",
       "<tr>\n",
       "  <th>Covariance Type:</th>      <td>nonrobust</td>    <th>                     </th>      <td> </td>     \n",
       "</tr>\n",
       "</table>\n",
       "<table class=\"simpletable\">\n",
       "<tr>\n",
       "             <td></td>                <th>coef</th>     <th>std err</th>      <th>t</th>      <th>P>|t|</th>  <th>[0.025</th>    <th>0.975]</th>  \n",
       "</tr>\n",
       "<tr>\n",
       "  <th>Intercept</th>               <td>  -29.5943</td> <td>    1.040</td> <td>  -28.455</td> <td> 0.000</td> <td>  -31.633</td> <td>  -27.556</td>\n",
       "</tr>\n",
       "<tr>\n",
       "  <th>scheduled_departure</th>     <td>    0.0120</td> <td> 9.76e-05</td> <td>  123.404</td> <td> 0.000</td> <td>    0.012</td> <td>    0.012</td>\n",
       "</tr>\n",
       "<tr>\n",
       "  <th>taxi_out</th>                <td>    0.2226</td> <td>    0.002</td> <td>   93.304</td> <td> 0.000</td> <td>    0.218</td> <td>    0.227</td>\n",
       "</tr>\n",
       "<tr>\n",
       "  <th>scheduled_arrival</th>       <td>    0.0045</td> <td> 9.25e-05</td> <td>   48.475</td> <td> 0.000</td> <td>    0.004</td> <td>    0.005</td>\n",
       "</tr>\n",
       "<tr>\n",
       "  <th>day_of_week</th>             <td>   -0.3540</td> <td>    0.010</td> <td>  -33.769</td> <td> 0.000</td> <td>   -0.375</td> <td>   -0.333</td>\n",
       "</tr>\n",
       "<tr>\n",
       "  <th>taxi_in</th>                 <td>    0.0895</td> <td>    0.004</td> <td>   24.093</td> <td> 0.000</td> <td>    0.082</td> <td>    0.097</td>\n",
       "</tr>\n",
       "<tr>\n",
       "  <th>scheduled_time</th>          <td>    0.0235</td> <td>    0.003</td> <td>    9.164</td> <td> 0.000</td> <td>    0.018</td> <td>    0.028</td>\n",
       "</tr>\n",
       "<tr>\n",
       "  <th>destination_longitude</th>   <td>    0.0290</td> <td>    0.002</td> <td>   15.802</td> <td> 0.000</td> <td>    0.025</td> <td>    0.033</td>\n",
       "</tr>\n",
       "<tr>\n",
       "  <th>day_of_year</th>             <td>   -1.1073</td> <td>    0.034</td> <td>  -32.533</td> <td> 0.000</td> <td>   -1.174</td> <td>   -1.041</td>\n",
       "</tr>\n",
       "<tr>\n",
       "  <th>origin_longitude</th>        <td>    0.0098</td> <td>    0.002</td> <td>    4.397</td> <td> 0.000</td> <td>    0.005</td> <td>    0.014</td>\n",
       "</tr>\n",
       "<tr>\n",
       "  <th>origin_latitude</th>         <td>   -0.1267</td> <td>    0.005</td> <td>  -25.486</td> <td> 0.000</td> <td>   -0.136</td> <td>   -0.117</td>\n",
       "</tr>\n",
       "<tr>\n",
       "  <th>origin_temperature</th>      <td>   -0.0446</td> <td>    0.002</td> <td>  -22.249</td> <td> 0.000</td> <td>   -0.049</td> <td>   -0.041</td>\n",
       "</tr>\n",
       "<tr>\n",
       "  <th>destination_latitude</th>    <td>   -0.0421</td> <td>    0.005</td> <td>   -8.458</td> <td> 0.000</td> <td>   -0.052</td> <td>   -0.032</td>\n",
       "</tr>\n",
       "<tr>\n",
       "  <th>distance</th>                <td>   -0.0018</td> <td>    0.000</td> <td>   -5.794</td> <td> 0.000</td> <td>   -0.002</td> <td>   -0.001</td>\n",
       "</tr>\n",
       "<tr>\n",
       "  <th>destination_temperature</th> <td>   -0.0052</td> <td>    0.002</td> <td>   -2.601</td> <td> 0.009</td> <td>   -0.009</td> <td>   -0.001</td>\n",
       "</tr>\n",
       "<tr>\n",
       "  <th>month</th>                   <td>   33.6293</td> <td>    1.037</td> <td>   32.433</td> <td> 0.000</td> <td>   31.597</td> <td>   35.662</td>\n",
       "</tr>\n",
       "<tr>\n",
       "  <th>day</th>                     <td>    1.1011</td> <td>    0.034</td> <td>   32.334</td> <td> 0.000</td> <td>    1.034</td> <td>    1.168</td>\n",
       "</tr>\n",
       "</table>\n",
       "<table class=\"simpletable\">\n",
       "<tr>\n",
       "  <th>Omnibus:</th>       <td>4329464.821</td> <th>  Durbin-Watson:     </th>    <td>   2.000</td>   \n",
       "</tr>\n",
       "<tr>\n",
       "  <th>Prob(Omnibus):</th>   <td> 0.000</td>    <th>  Jarque-Bera (JB):  </th> <td>1962321007.046</td>\n",
       "</tr>\n",
       "<tr>\n",
       "  <th>Skew:</th>            <td> 7.451</td>    <th>  Prob(JB):          </th>    <td>    0.00</td>   \n",
       "</tr>\n",
       "<tr>\n",
       "  <th>Kurtosis:</th>        <td>122.912</td>   <th>  Cond. No.          </th>    <td>1.11e+05</td>   \n",
       "</tr>\n",
       "</table><br/><br/>Notes:<br/>[1] Standard Errors assume that the covariance matrix of the errors is correctly specified.<br/>[2] The condition number is large, 1.11e+05. This might indicate that there are<br/>strong multicollinearity or other numerical problems."
      ],
      "text/plain": [
       "<class 'statsmodels.iolib.summary.Summary'>\n",
       "\"\"\"\n",
       "                            OLS Regression Results                            \n",
       "==============================================================================\n",
       "Dep. Variable:        departure_delay   R-squared:                       0.020\n",
       "Model:                            OLS   Adj. R-squared:                  0.020\n",
       "Method:                 Least Squares   F-statistic:                     4079.\n",
       "Date:                Sun, 05 Mar 2023   Prob (F-statistic):               0.00\n",
       "Time:                        19:41:55   Log-Likelihood:            -1.6260e+07\n",
       "No. Observations:             3225535   AIC:                         3.252e+07\n",
       "Df Residuals:                 3225518   BIC:                         3.252e+07\n",
       "Df Model:                          16                                         \n",
       "Covariance Type:            nonrobust                                         \n",
       "===========================================================================================\n",
       "                              coef    std err          t      P>|t|      [0.025      0.975]\n",
       "-------------------------------------------------------------------------------------------\n",
       "Intercept                 -29.5943      1.040    -28.455      0.000     -31.633     -27.556\n",
       "scheduled_departure         0.0120   9.76e-05    123.404      0.000       0.012       0.012\n",
       "taxi_out                    0.2226      0.002     93.304      0.000       0.218       0.227\n",
       "scheduled_arrival           0.0045   9.25e-05     48.475      0.000       0.004       0.005\n",
       "day_of_week                -0.3540      0.010    -33.769      0.000      -0.375      -0.333\n",
       "taxi_in                     0.0895      0.004     24.093      0.000       0.082       0.097\n",
       "scheduled_time              0.0235      0.003      9.164      0.000       0.018       0.028\n",
       "destination_longitude       0.0290      0.002     15.802      0.000       0.025       0.033\n",
       "day_of_year                -1.1073      0.034    -32.533      0.000      -1.174      -1.041\n",
       "origin_longitude            0.0098      0.002      4.397      0.000       0.005       0.014\n",
       "origin_latitude            -0.1267      0.005    -25.486      0.000      -0.136      -0.117\n",
       "origin_temperature         -0.0446      0.002    -22.249      0.000      -0.049      -0.041\n",
       "destination_latitude       -0.0421      0.005     -8.458      0.000      -0.052      -0.032\n",
       "distance                   -0.0018      0.000     -5.794      0.000      -0.002      -0.001\n",
       "destination_temperature    -0.0052      0.002     -2.601      0.009      -0.009      -0.001\n",
       "month                      33.6293      1.037     32.433      0.000      31.597      35.662\n",
       "day                         1.1011      0.034     32.334      0.000       1.034       1.168\n",
       "==============================================================================\n",
       "Omnibus:                  4329464.821   Durbin-Watson:                   2.000\n",
       "Prob(Omnibus):                  0.000   Jarque-Bera (JB):       1962321007.046\n",
       "Skew:                           7.451   Prob(JB):                         0.00\n",
       "Kurtosis:                     122.912   Cond. No.                     1.11e+05\n",
       "==============================================================================\n",
       "\n",
       "Notes:\n",
       "[1] Standard Errors assume that the covariance matrix of the errors is correctly specified.\n",
       "[2] The condition number is large, 1.11e+05. This might indicate that there are\n",
       "strong multicollinearity or other numerical problems.\n",
       "\"\"\""
      ]
     },
     "execution_count": 12,
     "metadata": {},
     "output_type": "execute_result"
    }
   ],
   "source": [
    "best_fwd_reg_model = models_best['model'][16]\n",
    "best_fwd_reg_model.summary() # best model only with numerical variables"
   ]
  },
  {
   "cell_type": "code",
   "execution_count": 18,
   "metadata": {},
   "outputs": [
    {
     "data": {
      "text/html": [
       "<div>\n",
       "<style scoped>\n",
       "    .dataframe tbody tr th:only-of-type {\n",
       "        vertical-align: middle;\n",
       "    }\n",
       "\n",
       "    .dataframe tbody tr th {\n",
       "        vertical-align: top;\n",
       "    }\n",
       "\n",
       "    .dataframe thead th {\n",
       "        text-align: right;\n",
       "    }\n",
       "</style>\n",
       "<table border=\"1\" class=\"dataframe\">\n",
       "  <thead>\n",
       "    <tr style=\"text-align: right;\">\n",
       "      <th></th>\n",
       "      <th>coefficients</th>\n",
       "    </tr>\n",
       "  </thead>\n",
       "  <tbody>\n",
       "    <tr>\n",
       "      <th>Intercept</th>\n",
       "      <td>-29.594305</td>\n",
       "    </tr>\n",
       "    <tr>\n",
       "      <th>scheduled_departure</th>\n",
       "      <td>0.012039</td>\n",
       "    </tr>\n",
       "    <tr>\n",
       "      <th>taxi_out</th>\n",
       "      <td>0.222556</td>\n",
       "    </tr>\n",
       "    <tr>\n",
       "      <th>scheduled_arrival</th>\n",
       "      <td>0.004482</td>\n",
       "    </tr>\n",
       "    <tr>\n",
       "      <th>day_of_week</th>\n",
       "      <td>-0.353979</td>\n",
       "    </tr>\n",
       "    <tr>\n",
       "      <th>taxi_in</th>\n",
       "      <td>0.089497</td>\n",
       "    </tr>\n",
       "    <tr>\n",
       "      <th>scheduled_time</th>\n",
       "      <td>0.023468</td>\n",
       "    </tr>\n",
       "    <tr>\n",
       "      <th>destination_longitude</th>\n",
       "      <td>0.029021</td>\n",
       "    </tr>\n",
       "    <tr>\n",
       "      <th>day_of_year</th>\n",
       "      <td>-1.107288</td>\n",
       "    </tr>\n",
       "    <tr>\n",
       "      <th>origin_longitude</th>\n",
       "      <td>0.009818</td>\n",
       "    </tr>\n",
       "    <tr>\n",
       "      <th>origin_latitude</th>\n",
       "      <td>-0.126722</td>\n",
       "    </tr>\n",
       "    <tr>\n",
       "      <th>origin_temperature</th>\n",
       "      <td>-0.044608</td>\n",
       "    </tr>\n",
       "    <tr>\n",
       "      <th>destination_latitude</th>\n",
       "      <td>-0.042067</td>\n",
       "    </tr>\n",
       "    <tr>\n",
       "      <th>distance</th>\n",
       "      <td>-0.001823</td>\n",
       "    </tr>\n",
       "    <tr>\n",
       "      <th>destination_temperature</th>\n",
       "      <td>-0.005194</td>\n",
       "    </tr>\n",
       "    <tr>\n",
       "      <th>month</th>\n",
       "      <td>33.629274</td>\n",
       "    </tr>\n",
       "    <tr>\n",
       "      <th>day</th>\n",
       "      <td>1.101137</td>\n",
       "    </tr>\n",
       "  </tbody>\n",
       "</table>\n",
       "</div>"
      ],
      "text/plain": [
       "                         coefficients\n",
       "Intercept                  -29.594305\n",
       "scheduled_departure          0.012039\n",
       "taxi_out                     0.222556\n",
       "scheduled_arrival            0.004482\n",
       "day_of_week                 -0.353979\n",
       "taxi_in                      0.089497\n",
       "scheduled_time               0.023468\n",
       "destination_longitude        0.029021\n",
       "day_of_year                 -1.107288\n",
       "origin_longitude             0.009818\n",
       "origin_latitude             -0.126722\n",
       "origin_temperature          -0.044608\n",
       "destination_latitude        -0.042067\n",
       "distance                    -0.001823\n",
       "destination_temperature     -0.005194\n",
       "month                       33.629274\n",
       "day                          1.101137"
      ]
     },
     "execution_count": 18,
     "metadata": {},
     "output_type": "execute_result"
    }
   ],
   "source": [
    "# print out all the predicotrs with their coefficients as a dataframe\n",
    "pd.DataFrame(best_fwd_reg_model.params)\n",
    "# rename the column names\n",
    "pd.DataFrame(best_fwd_reg_model.params).rename(columns={0:'coefficients'})"
   ]
  },
  {
   "cell_type": "code",
   "execution_count": 19,
   "metadata": {},
   "outputs": [
    {
     "name": "stdout",
     "output_type": "stream",
     "text": [
      "departuredelay =\n",
      "-29.594305 * day\n",
      "+0.012039 * day_of_week\n",
      "+0.222556 * destination_latitude\n",
      "+0.004482 * destination_longitude\n",
      "-0.353979 * distance\n",
      "+0.089497 * month\n",
      "+0.023468 * origin_latitude\n",
      "+0.029021 * origin_longitude\n",
      "-1.107288 * scheduled_arrival\n",
      "+0.009818 * scheduled_departure\n",
      "-0.126722 * scheduled_time\n",
      "-0.044608 * taxi_in\n",
      "-0.042067 * taxi_out\n",
      "-0.001823 * day_of_year\n",
      "-0.005194 * origin_temperature\n",
      "+33.629274 * destination_temperature\n"
     ]
    }
   ],
   "source": [
    "# model equation\n",
    "print('departuredelay =')\n",
    "for i in range(len(X.columns)):\n",
    "    if best_fwd_reg_model.params[i] != 0:\n",
    "        print('{:+3f} * {}'.format(best_fwd_reg_model.params[i], X.columns[i]))"
   ]
  },
  {
   "cell_type": "code",
   "execution_count": 14,
   "metadata": {},
   "outputs": [
    {
     "data": {
      "text/plain": [
       "37.35517169810643"
      ]
     },
     "execution_count": 14,
     "metadata": {},
     "output_type": "execute_result"
    }
   ],
   "source": [
    "# RMSE\n",
    "pred_price = (best_fwd_reg_model.predict(test))\n",
    "np.sqrt(((pred_price - test.departure_delay)**2).mean())"
   ]
  }
 ],
 "metadata": {
  "kernelspec": {
   "display_name": "base",
   "language": "python",
   "name": "python3"
  },
  "language_info": {
   "codemirror_mode": {
    "name": "ipython",
    "version": 3
   },
   "file_extension": ".py",
   "mimetype": "text/x-python",
   "name": "python",
   "nbconvert_exporter": "python",
   "pygments_lexer": "ipython3",
   "version": "3.9.12"
  },
  "orig_nbformat": 4
 },
 "nbformat": 4,
 "nbformat_minor": 2
}
