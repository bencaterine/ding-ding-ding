{
 "cells": [
  {
   "cell_type": "code",
   "execution_count": 55,
   "metadata": {},
   "outputs": [],
   "source": [
    "import os\n",
    "import pandas as pd\n",
    "import numpy as np\n",
    "import statsmodels.formula.api as smf\n",
    "import seaborn as sns\n",
    "import matplotlib.pyplot as plt\n",
    "import scipy as sp\n",
    "import scipy.stats as stats\n",
    "import time\n",
    "import itertools\n",
    "import statsmodels.api as sm\n",
    "import numpy.ma as ma\n",
    "from scipy.stats.stats import pearsonr, normaltest\n",
    "from scipy.spatial.distance import correlation\n",
    "from sklearn.model_selection import train_test_split\n",
    "os.getcwd()\n",
    "os.chdir(r'C:\\Users\\Haneef Usmani\\Desktop\\STAT 303-2\\Project')"
   ]
  },
  {
   "cell_type": "code",
   "execution_count": 110,
   "metadata": {},
   "outputs": [],
   "source": [
    "flight = pd.read_csv('flights_clean.csv').dropna()"
   ]
  },
  {
   "cell_type": "code",
   "execution_count": 77,
   "metadata": {},
   "outputs": [
    {
     "data": {
      "text/plain": [
       "Index(['airline', 'day', 'day_of_week', 'departure_delay',\n",
       "       'destination_airport', 'destination_latitude', 'destination_longitude',\n",
       "       'distance', 'month', 'origin_airport', 'origin_latitude',\n",
       "       'origin_longitude', 'scheduled_arrival', 'scheduled_departure',\n",
       "       'scheduled_time', 'state_destination', 'state_origin', 'taxi_in',\n",
       "       'taxi_out', 'day_of_year', 'origin_temperature',\n",
       "       'destination_temperature'],\n",
       "      dtype='object')"
      ]
     },
     "execution_count": 77,
     "metadata": {},
     "output_type": "execute_result"
    }
   ],
   "source": [
    "flight.columns"
   ]
  },
  {
   "cell_type": "code",
   "execution_count": null,
   "metadata": {},
   "outputs": [],
   "source": [
    "model_all = smf.ols(formula='departure_delay ~ airline + day + day_of_week + destination_airport + destination_latitude + destination_longitude + distance + month + origin_airport + origin_latitude + origin_longitude + scheduled_arrival + scheduled_departure + scheduled_time + state_destination + state_origin + taxi_in + taxi_out + day_of_year + origin_temperature + destination_temperature', data=train).fit()\n",
    "model_all.summary()"
   ]
  },
  {
   "cell_type": "code",
   "execution_count": 111,
   "metadata": {},
   "outputs": [],
   "source": [
    "# split flight into train and test\n",
    "train, test = train_test_split(flight, test_size=0.2)"
   ]
  },
  {
   "cell_type": "code",
   "execution_count": 119,
   "metadata": {},
   "outputs": [],
   "source": [
    "# drop all categorical variables from train\n",
    "train_drop = train.drop(['airline', 'destination_airport', 'origin_airport', 'state_destination', 'state_origin'], axis=1)"
   ]
  },
  {
   "cell_type": "code",
   "execution_count": 120,
   "metadata": {},
   "outputs": [],
   "source": [
    "X = train[['airline', 'day', 'day_of_week', 'destination_airport', 'destination_latitude', 'destination_longitude', 'distance', 'month', 'origin_airport', 'origin_latitude', 'origin_longitude', 'scheduled_arrival', 'scheduled_departure', 'scheduled_time', 'state_destination', 'state_origin', 'taxi_in', 'taxi_out', 'day_of_year', 'origin_temperature', 'destination_temperature']]\n",
    "# take out all categorical variables\n",
    "X = X.drop(['airline', 'destination_airport', 'origin_airport', 'state_destination', 'state_origin'], axis=1)"
   ]
  },
  {
   "cell_type": "code",
   "execution_count": 121,
   "metadata": {},
   "outputs": [],
   "source": [
    "def processSubset(predictor_subset):\n",
    "    # Fit model on feature_set and calculate R-squared\n",
    "    model = smf.ols('(departure_delay)~' + '+'.join(predictor_subset),data = train_drop).fit()\n",
    "    Rsquared = model.rsquared\n",
    "    return {\"model\":model, \"Rsquared\":Rsquared}\n",
    "def getBest_model(k):\n",
    "    tic = time.time()\n",
    "    results = []\n",
    "    for combo in itertools.combinations(X.columns, k):\n",
    "        results.append(processSubset((list(combo))))\n",
    "\n",
    "    # Wrap everything up in a dataframe\n",
    "    models = pd.DataFrame(results)\n",
    "\n",
    "    # Choose the model with the highest RSS\n",
    "    best_model = models.loc[models['Rsquared'].argmax()]\n",
    "    \n",
    "    toc = time.time()\n",
    "    print(\"Processed\", models.shape[0], \"models on\", k, \"predictors in\", (toc-tic), \"seconds.\")\n",
    "    return best_model"
   ]
  },
  {
   "cell_type": "code",
   "execution_count": 122,
   "metadata": {},
   "outputs": [],
   "source": [
    "#Function to find the best predictor out of p-k predictors and add it to the model containing the k predictors\n",
    "def forward(predictors):\n",
    "\n",
    "    # Pull out predictors we still need to process\n",
    "    remaining_predictors = [p for p in X.columns if p not in predictors]\n",
    "    \n",
    "    tic = time.time()\n",
    "    \n",
    "    results = []\n",
    "    \n",
    "    for p in remaining_predictors:\n",
    "        results.append(processSubset(predictors+[p]))\n",
    "    \n",
    "    # Wrap everything up in a nice dataframe\n",
    "    models = pd.DataFrame(results)\n",
    "    \n",
    "    # Choose the model with the highest RSS\n",
    "    best_model = models.loc[models['Rsquared'].argmax()]\n",
    "    \n",
    "    toc = time.time()\n",
    "    print(\"Processed \", models.shape[0], \"models on\", len(predictors)+1, \"predictors in\", (toc-tic), \"seconds.\")\n",
    "    \n",
    "    # Return the best model, along with some other useful information about the model\n",
    "    return best_model"
   ]
  },
  {
   "cell_type": "code",
   "execution_count": 123,
   "metadata": {},
   "outputs": [],
   "source": [
    "def forward_selection():\n",
    "    models_best = pd.DataFrame(columns=[\"Rsquared\", \"model\"])\n",
    "\n",
    "    tic = time.time()\n",
    "    predictors = []\n",
    "\n",
    "    for i in range(1,len(X.columns)+1):    \n",
    "        models_best.loc[i] = forward(predictors)\n",
    "        predictors = list(models_best.loc[i][\"model\"].params.index[1:])\n",
    "\n",
    "    toc = time.time()\n",
    "    print(\"Total elapsed time:\", (toc-tic), \"seconds.\")\n",
    "    return models_best"
   ]
  },
  {
   "cell_type": "code",
   "execution_count": 124,
   "metadata": {},
   "outputs": [
    {
     "name": "stdout",
     "output_type": "stream",
     "text": [
      "Processed  16 models on 1 predictors in 7.810021877288818 seconds.\n",
      "Processed  15 models on 2 predictors in 9.418032884597778 seconds.\n",
      "Processed  14 models on 3 predictors in 12.509913206100464 seconds.\n",
      "Processed  13 models on 4 predictors in 15.887221336364746 seconds.\n",
      "Processed  12 models on 5 predictors in 17.792967557907104 seconds.\n",
      "Processed  11 models on 6 predictors in 19.648821353912354 seconds.\n",
      "Processed  10 models on 7 predictors in 18.72304916381836 seconds.\n",
      "Processed  9 models on 8 predictors in 14.879640340805054 seconds.\n",
      "Processed  8 models on 9 predictors in 15.141238451004028 seconds.\n",
      "Processed  7 models on 10 predictors in 15.55549669265747 seconds.\n",
      "Processed  6 models on 11 predictors in 14.283883094787598 seconds.\n",
      "Processed  5 models on 12 predictors in 13.366007566452026 seconds.\n",
      "Processed  4 models on 13 predictors in 11.649682998657227 seconds.\n",
      "Processed  3 models on 14 predictors in 9.742460489273071 seconds.\n",
      "Processed  2 models on 15 predictors in 7.235527276992798 seconds.\n",
      "Processed  1 models on 16 predictors in 3.7979018688201904 seconds.\n",
      "Total elapsed time: 210.66110754013062 seconds.\n"
     ]
    }
   ],
   "source": [
    "models_best = forward_selection()"
   ]
  },
  {
   "cell_type": "code",
   "execution_count": 125,
   "metadata": {},
   "outputs": [
    {
     "data": {
      "image/png": "[encoded data removed]",
      "text/plain": [
       "<Figure size 1440x720 with 4 Axes>"
      ]
     },
     "metadata": {
      "needs_background": "light"
     },
     "output_type": "display_data"
    }
   ],
   "source": [
    "def best_sub_plots():\n",
    "    plt.figure(figsize=(20,10))\n",
    "    plt.rcParams.update({'font.size': 18, 'lines.markersize': 10})\n",
    "\n",
    "    # Set up a 2x2 grid so we can look at 4 plots at once\n",
    "    plt.subplot(2, 2, 1)\n",
    "\n",
    "    # We will now plot a red dot to indicate the model with the largest adjusted R^2 statistic.\n",
    "    # The argmax() function can be used to identify the location of the maximum point of a vector\n",
    "    plt.plot(models_best[\"Rsquared\"])\n",
    "    plt.xlabel('# Predictors')\n",
    "    plt.ylabel('Rsquared')\n",
    "\n",
    "    # We will now plot a red dot to indicate the model with the largest adjusted R^2 statistic.\n",
    "    # The argmax() function can be used to identify the location of the maximum point of a vector\n",
    "\n",
    "    rsquared_adj = models_best.apply(lambda row: row[1].rsquared_adj, axis=1)\n",
    "\n",
    "    plt.subplot(2, 2, 2)\n",
    "    plt.plot(rsquared_adj)\n",
    "    plt.plot(1+rsquared_adj.argmax(), rsquared_adj.max(), \"or\")\n",
    "    plt.xlabel('# Predictors')\n",
    "    plt.ylabel('adjusted rsquared')\n",
    "\n",
    "    # We'll do the same for AIC and BIC, this time looking for the models with the SMALLEST statistic\n",
    "    aic = models_best.apply(lambda row: row[1].aic, axis=1)\n",
    "\n",
    "    plt.subplot(2, 2, 3)\n",
    "    plt.plot(aic)\n",
    "    plt.plot(1+aic.argmin(), aic.min(), \"or\")\n",
    "    plt.xlabel('# Predictors')\n",
    "    plt.ylabel('AIC')\n",
    "\n",
    "    bic = models_best.apply(lambda row: row[1].bic, axis=1)\n",
    "\n",
    "    plt.subplot(2, 2, 4)\n",
    "    plt.plot(bic)\n",
    "    plt.plot(1+bic.argmin(), bic.min(), \"or\")\n",
    "    plt.xlabel('# Predictors')\n",
    "    plt.ylabel('BIC')\n",
    "best_sub_plots()"
   ]
  },
  {
   "cell_type": "code",
   "execution_count": 126,
   "metadata": {},
   "outputs": [
    {
     "data": {
      "text/html": [
       "<table class=\"simpletable\">\n",
       "<caption>OLS Regression Results</caption>\n",
       "<tr>\n",
       "  <th>Dep. Variable:</th>     <td>departure_delay</td> <th>  R-squared:         </th>  <td>   0.020</td>  \n",
       "</tr>\n",
       "<tr>\n",
       "  <th>Model:</th>                   <td>OLS</td>       <th>  Adj. R-squared:    </th>  <td>   0.020</td>  \n",
       "</tr>\n",
       "<tr>\n",
       "  <th>Method:</th>             <td>Least Squares</td>  <th>  F-statistic:       </th>  <td>   4037.</td>  \n",
       "</tr>\n",
       "<tr>\n",
       "  <th>Date:</th>             <td>Thu, 02 Mar 2023</td> <th>  Prob (F-statistic):</th>   <td>  0.00</td>   \n",
       "</tr>\n",
       "<tr>\n",
       "  <th>Time:</th>                 <td>16:26:42</td>     <th>  Log-Likelihood:    </th> <td>-1.6263e+07</td>\n",
       "</tr>\n",
       "<tr>\n",
       "  <th>No. Observations:</th>      <td>3225535</td>     <th>  AIC:               </th>  <td>3.253e+07</td> \n",
       "</tr>\n",
       "<tr>\n",
       "  <th>Df Residuals:</th>          <td>3225518</td>     <th>  BIC:               </th>  <td>3.253e+07</td> \n",
       "</tr>\n",
       "<tr>\n",
       "  <th>Df Model:</th>              <td>    16</td>      <th>                     </th>      <td> </td>     \n",
       "</tr>\n",
       "<tr>\n",
       "  <th>Covariance Type:</th>      <td>nonrobust</td>    <th>                     </th>      <td> </td>     \n",
       "</tr>\n",
       "</table>\n",
       "<table class=\"simpletable\">\n",
       "<tr>\n",
       "             <td></td>                <th>coef</th>     <th>std err</th>      <th>t</th>      <th>P>|t|</th>  <th>[0.025</th>    <th>0.975]</th>  \n",
       "</tr>\n",
       "<tr>\n",
       "  <th>Intercept</th>               <td>  -30.7032</td> <td>    1.041</td> <td>  -29.493</td> <td> 0.000</td> <td>  -32.744</td> <td>  -28.663</td>\n",
       "</tr>\n",
       "<tr>\n",
       "  <th>scheduled_departure</th>     <td>    0.0120</td> <td> 9.77e-05</td> <td>  122.969</td> <td> 0.000</td> <td>    0.012</td> <td>    0.012</td>\n",
       "</tr>\n",
       "<tr>\n",
       "  <th>taxi_out</th>                <td>    0.2214</td> <td>    0.002</td> <td>   92.861</td> <td> 0.000</td> <td>    0.217</td> <td>    0.226</td>\n",
       "</tr>\n",
       "<tr>\n",
       "  <th>scheduled_arrival</th>       <td>    0.0044</td> <td> 9.26e-05</td> <td>   47.976</td> <td> 0.000</td> <td>    0.004</td> <td>    0.005</td>\n",
       "</tr>\n",
       "<tr>\n",
       "  <th>day_of_week</th>             <td>   -0.3479</td> <td>    0.010</td> <td>  -33.162</td> <td> 0.000</td> <td>   -0.368</td> <td>   -0.327</td>\n",
       "</tr>\n",
       "<tr>\n",
       "  <th>taxi_in</th>                 <td>    0.0909</td> <td>    0.004</td> <td>   24.449</td> <td> 0.000</td> <td>    0.084</td> <td>    0.098</td>\n",
       "</tr>\n",
       "<tr>\n",
       "  <th>scheduled_time</th>          <td>    0.0217</td> <td>    0.003</td> <td>    8.460</td> <td> 0.000</td> <td>    0.017</td> <td>    0.027</td>\n",
       "</tr>\n",
       "<tr>\n",
       "  <th>destination_longitude</th>   <td>    0.0291</td> <td>    0.002</td> <td>   15.814</td> <td> 0.000</td> <td>    0.025</td> <td>    0.033</td>\n",
       "</tr>\n",
       "<tr>\n",
       "  <th>day_of_year</th>             <td>   -1.1430</td> <td>    0.034</td> <td>  -33.542</td> <td> 0.000</td> <td>   -1.210</td> <td>   -1.076</td>\n",
       "</tr>\n",
       "<tr>\n",
       "  <th>origin_latitude</th>         <td>   -0.1256</td> <td>    0.005</td> <td>  -25.246</td> <td> 0.000</td> <td>   -0.135</td> <td>   -0.116</td>\n",
       "</tr>\n",
       "<tr>\n",
       "  <th>origin_temperature</th>      <td>   -0.0447</td> <td>    0.002</td> <td>  -22.306</td> <td> 0.000</td> <td>   -0.049</td> <td>   -0.041</td>\n",
       "</tr>\n",
       "<tr>\n",
       "  <th>origin_longitude</th>        <td>    0.0087</td> <td>    0.002</td> <td>    3.872</td> <td> 0.000</td> <td>    0.004</td> <td>    0.013</td>\n",
       "</tr>\n",
       "<tr>\n",
       "  <th>destination_latitude</th>    <td>   -0.0426</td> <td>    0.005</td> <td>   -8.559</td> <td> 0.000</td> <td>   -0.052</td> <td>   -0.033</td>\n",
       "</tr>\n",
       "<tr>\n",
       "  <th>distance</th>                <td>   -0.0016</td> <td>    0.000</td> <td>   -5.043</td> <td> 0.000</td> <td>   -0.002</td> <td>   -0.001</td>\n",
       "</tr>\n",
       "<tr>\n",
       "  <th>destination_temperature</th> <td>   -0.0058</td> <td>    0.002</td> <td>   -2.884</td> <td> 0.004</td> <td>   -0.010</td> <td>   -0.002</td>\n",
       "</tr>\n",
       "<tr>\n",
       "  <th>month</th>                   <td>   34.7156</td> <td>    1.038</td> <td>   33.442</td> <td> 0.000</td> <td>   32.681</td> <td>   36.750</td>\n",
       "</tr>\n",
       "<tr>\n",
       "  <th>day</th>                     <td>    1.1370</td> <td>    0.034</td> <td>   33.350</td> <td> 0.000</td> <td>    1.070</td> <td>    1.204</td>\n",
       "</tr>\n",
       "</table>\n",
       "<table class=\"simpletable\">\n",
       "<tr>\n",
       "  <th>Omnibus:</th>       <td>4355595.520</td> <th>  Durbin-Watson:     </th>    <td>   1.999</td>   \n",
       "</tr>\n",
       "<tr>\n",
       "  <th>Prob(Omnibus):</th>   <td> 0.000</td>    <th>  Jarque-Bera (JB):  </th> <td>2064803870.582</td>\n",
       "</tr>\n",
       "<tr>\n",
       "  <th>Skew:</th>            <td> 7.523</td>    <th>  Prob(JB):          </th>    <td>    0.00</td>   \n",
       "</tr>\n",
       "<tr>\n",
       "  <th>Kurtosis:</th>        <td>126.033</td>   <th>  Cond. No.          </th>    <td>1.11e+05</td>   \n",
       "</tr>\n",
       "</table><br/><br/>Notes:<br/>[1] Standard Errors assume that the covariance matrix of the errors is correctly specified.<br/>[2] The condition number is large, 1.11e+05. This might indicate that there are<br/>strong multicollinearity or other numerical problems."
      ],
      "text/plain": [
       "<class 'statsmodels.iolib.summary.Summary'>\n",
       "\"\"\"\n",
       "                            OLS Regression Results                            \n",
       "==============================================================================\n",
       "Dep. Variable:        departure_delay   R-squared:                       0.020\n",
       "Model:                            OLS   Adj. R-squared:                  0.020\n",
       "Method:                 Least Squares   F-statistic:                     4037.\n",
       "Date:                Thu, 02 Mar 2023   Prob (F-statistic):               0.00\n",
       "Time:                        16:26:42   Log-Likelihood:            -1.6263e+07\n",
       "No. Observations:             3225535   AIC:                         3.253e+07\n",
       "Df Residuals:                 3225518   BIC:                         3.253e+07\n",
       "Df Model:                          16                                         \n",
       "Covariance Type:            nonrobust                                         \n",
       "===========================================================================================\n",
       "                              coef    std err          t      P>|t|      [0.025      0.975]\n",
       "-------------------------------------------------------------------------------------------\n",
       "Intercept                 -30.7032      1.041    -29.493      0.000     -32.744     -28.663\n",
       "scheduled_departure         0.0120   9.77e-05    122.969      0.000       0.012       0.012\n",
       "taxi_out                    0.2214      0.002     92.861      0.000       0.217       0.226\n",
       "scheduled_arrival           0.0044   9.26e-05     47.976      0.000       0.004       0.005\n",
       "day_of_week                -0.3479      0.010    -33.162      0.000      -0.368      -0.327\n",
       "taxi_in                     0.0909      0.004     24.449      0.000       0.084       0.098\n",
       "scheduled_time              0.0217      0.003      8.460      0.000       0.017       0.027\n",
       "destination_longitude       0.0291      0.002     15.814      0.000       0.025       0.033\n",
       "day_of_year                -1.1430      0.034    -33.542      0.000      -1.210      -1.076\n",
       "origin_latitude            -0.1256      0.005    -25.246      0.000      -0.135      -0.116\n",
       "origin_temperature         -0.0447      0.002    -22.306      0.000      -0.049      -0.041\n",
       "origin_longitude            0.0087      0.002      3.872      0.000       0.004       0.013\n",
       "destination_latitude       -0.0426      0.005     -8.559      0.000      -0.052      -0.033\n",
       "distance                   -0.0016      0.000     -5.043      0.000      -0.002      -0.001\n",
       "destination_temperature    -0.0058      0.002     -2.884      0.004      -0.010      -0.002\n",
       "month                      34.7156      1.038     33.442      0.000      32.681      36.750\n",
       "day                         1.1370      0.034     33.350      0.000       1.070       1.204\n",
       "==============================================================================\n",
       "Omnibus:                  4355595.520   Durbin-Watson:                   1.999\n",
       "Prob(Omnibus):                  0.000   Jarque-Bera (JB):       2064803870.582\n",
       "Skew:                           7.523   Prob(JB):                         0.00\n",
       "Kurtosis:                     126.033   Cond. No.                     1.11e+05\n",
       "==============================================================================\n",
       "\n",
       "Notes:\n",
       "[1] Standard Errors assume that the covariance matrix of the errors is correctly specified.\n",
       "[2] The condition number is large, 1.11e+05. This might indicate that there are\n",
       "strong multicollinearity or other numerical problems.\n",
       "\"\"\""
      ]
     },
     "execution_count": 126,
     "metadata": {},
     "output_type": "execute_result"
    }
   ],
   "source": [
    "best_fwd_reg_model = models_best['model'][16]\n",
    "best_fwd_reg_model.summary()"
   ]
  },
  {
   "cell_type": "code",
   "execution_count": 127,
   "metadata": {},
   "outputs": [
    {
     "data": {
      "text/plain": [
       "37.252349402972115"
      ]
     },
     "execution_count": 127,
     "metadata": {},
     "output_type": "execute_result"
    }
   ],
   "source": [
    "pred_price = (best_fwd_reg_model.predict(test))\n",
    "np.sqrt(((pred_price - test.departure_delay)**2).mean())"
   ]
  }
 ],
 "metadata": {
  "kernelspec": {
   "display_name": "base",
   "language": "python",
   "name": "python3"
  },
  "language_info": {
   "codemirror_mode": {
    "name": "ipython",
    "version": 3
   },
   "file_extension": ".py",
   "mimetype": "text/x-python",
   "name": "python",
   "nbconvert_exporter": "python",
   "pygments_lexer": "ipython3",
   "version": "3.9.12"
  },
  "orig_nbformat": 4
 },
 "nbformat": 4,
 "nbformat_minor": 2
}
