{
 "cells": [
  {
   "cell_type": "code",
   "execution_count": 1,
   "id": "4e7af6de",
   "metadata": {},
   "outputs": [],
   "source": [
    "import pandas as pd\n",
    "import numpy as np\n",
    "import seaborn as sns\n",
    "import matplotlib.pyplot as plt\n",
    "from sklearn.linear_model import Ridge, RidgeCV, Lasso, LassoCV\n",
    "from sklearn.preprocessing import StandardScaler \n",
    "from sklearn.metrics import r2_score\n",
    "from sklearn.model_selection import train_test_split\n",
    "import time"
   ]
  },
  {
   "cell_type": "code",
   "execution_count": 2,
   "id": "a30d324c",
   "metadata": {},
   "outputs": [],
   "source": [
    "tic = time.time()"
   ]
  },
  {
   "cell_type": "code",
   "execution_count": 3,
   "id": "681a77eb",
   "metadata": {},
   "outputs": [
    {
     "data": {
      "text/html": [
       "<div>\n",
       "<style scoped>\n",
       "    .dataframe tbody tr th:only-of-type {\n",
       "        vertical-align: middle;\n",
       "    }\n",
       "\n",
       "    .dataframe tbody tr th {\n",
       "        vertical-align: top;\n",
       "    }\n",
       "\n",
       "    .dataframe thead th {\n",
       "        text-align: right;\n",
       "    }\n",
       "</style>\n",
       "<table border=\"1\" class=\"dataframe\">\n",
       "  <thead>\n",
       "    <tr style=\"text-align: right;\">\n",
       "      <th></th>\n",
       "      <th>airline</th>\n",
       "      <th>day</th>\n",
       "      <th>day_of_week</th>\n",
       "      <th>departure_delay</th>\n",
       "      <th>destination_airport</th>\n",
       "      <th>destination_latitude</th>\n",
       "      <th>destination_longitude</th>\n",
       "      <th>distance</th>\n",
       "      <th>month</th>\n",
       "      <th>origin_airport</th>\n",
       "      <th>...</th>\n",
       "      <th>scheduled_arrival</th>\n",
       "      <th>scheduled_departure</th>\n",
       "      <th>scheduled_time</th>\n",
       "      <th>state_destination</th>\n",
       "      <th>state_origin</th>\n",
       "      <th>taxi_in</th>\n",
       "      <th>taxi_out</th>\n",
       "      <th>day_of_year</th>\n",
       "      <th>origin_temperature</th>\n",
       "      <th>destination_temperature</th>\n",
       "    </tr>\n",
       "  </thead>\n",
       "  <tbody>\n",
       "    <tr>\n",
       "      <th>3093131</th>\n",
       "      <td>UA</td>\n",
       "      <td>23</td>\n",
       "      <td>3</td>\n",
       "      <td>-4.0</td>\n",
       "      <td>IAD</td>\n",
       "      <td>38.94453</td>\n",
       "      <td>-77.45581</td>\n",
       "      <td>1956</td>\n",
       "      <td>9</td>\n",
       "      <td>PHX</td>\n",
       "      <td>...</td>\n",
       "      <td>890</td>\n",
       "      <td>450</td>\n",
       "      <td>260.0</td>\n",
       "      <td>VA</td>\n",
       "      <td>AZ</td>\n",
       "      <td>5.0</td>\n",
       "      <td>10.0</td>\n",
       "      <td>266</td>\n",
       "      <td>80.7</td>\n",
       "      <td>69.8</td>\n",
       "    </tr>\n",
       "    <tr>\n",
       "      <th>3749631</th>\n",
       "      <td>EV</td>\n",
       "      <td>3</td>\n",
       "      <td>2</td>\n",
       "      <td>-6.0</td>\n",
       "      <td>DAY</td>\n",
       "      <td>39.90238</td>\n",
       "      <td>-84.21938</td>\n",
       "      <td>533</td>\n",
       "      <td>3</td>\n",
       "      <td>EWR</td>\n",
       "      <td>...</td>\n",
       "      <td>585</td>\n",
       "      <td>465</td>\n",
       "      <td>120.0</td>\n",
       "      <td>OH</td>\n",
       "      <td>NJ</td>\n",
       "      <td>6.0</td>\n",
       "      <td>12.0</td>\n",
       "      <td>62</td>\n",
       "      <td>27.0</td>\n",
       "      <td>26.4</td>\n",
       "    </tr>\n",
       "    <tr>\n",
       "      <th>780302</th>\n",
       "      <td>DL</td>\n",
       "      <td>26</td>\n",
       "      <td>7</td>\n",
       "      <td>59.0</td>\n",
       "      <td>SLC</td>\n",
       "      <td>40.78839</td>\n",
       "      <td>-111.97777</td>\n",
       "      <td>1195</td>\n",
       "      <td>7</td>\n",
       "      <td>IAH</td>\n",
       "      <td>...</td>\n",
       "      <td>1265</td>\n",
       "      <td>1135</td>\n",
       "      <td>190.0</td>\n",
       "      <td>UT</td>\n",
       "      <td>TX</td>\n",
       "      <td>5.0</td>\n",
       "      <td>17.0</td>\n",
       "      <td>207</td>\n",
       "      <td>87.0</td>\n",
       "      <td>82.5</td>\n",
       "    </tr>\n",
       "    <tr>\n",
       "      <th>211185</th>\n",
       "      <td>UA</td>\n",
       "      <td>31</td>\n",
       "      <td>2</td>\n",
       "      <td>-9.0</td>\n",
       "      <td>ORD</td>\n",
       "      <td>41.97960</td>\n",
       "      <td>-87.90446</td>\n",
       "      <td>802</td>\n",
       "      <td>3</td>\n",
       "      <td>DFW</td>\n",
       "      <td>...</td>\n",
       "      <td>567</td>\n",
       "      <td>425</td>\n",
       "      <td>142.0</td>\n",
       "      <td>IL</td>\n",
       "      <td>TX</td>\n",
       "      <td>17.0</td>\n",
       "      <td>17.0</td>\n",
       "      <td>90</td>\n",
       "      <td>71.5</td>\n",
       "      <td>48.7</td>\n",
       "    </tr>\n",
       "    <tr>\n",
       "      <th>3662322</th>\n",
       "      <td>OO</td>\n",
       "      <td>7</td>\n",
       "      <td>7</td>\n",
       "      <td>0.0</td>\n",
       "      <td>LIT</td>\n",
       "      <td>34.72940</td>\n",
       "      <td>-92.22425</td>\n",
       "      <td>771</td>\n",
       "      <td>6</td>\n",
       "      <td>DEN</td>\n",
       "      <td>...</td>\n",
       "      <td>783</td>\n",
       "      <td>595</td>\n",
       "      <td>128.0</td>\n",
       "      <td>AR</td>\n",
       "      <td>CO</td>\n",
       "      <td>6.0</td>\n",
       "      <td>20.0</td>\n",
       "      <td>158</td>\n",
       "      <td>64.6</td>\n",
       "      <td>82.2</td>\n",
       "    </tr>\n",
       "    <tr>\n",
       "      <th>...</th>\n",
       "      <td>...</td>\n",
       "      <td>...</td>\n",
       "      <td>...</td>\n",
       "      <td>...</td>\n",
       "      <td>...</td>\n",
       "      <td>...</td>\n",
       "      <td>...</td>\n",
       "      <td>...</td>\n",
       "      <td>...</td>\n",
       "      <td>...</td>\n",
       "      <td>...</td>\n",
       "      <td>...</td>\n",
       "      <td>...</td>\n",
       "      <td>...</td>\n",
       "      <td>...</td>\n",
       "      <td>...</td>\n",
       "      <td>...</td>\n",
       "      <td>...</td>\n",
       "      <td>...</td>\n",
       "      <td>...</td>\n",
       "      <td>...</td>\n",
       "    </tr>\n",
       "    <tr>\n",
       "      <th>1923222</th>\n",
       "      <td>UA</td>\n",
       "      <td>21</td>\n",
       "      <td>6</td>\n",
       "      <td>3.0</td>\n",
       "      <td>MCO</td>\n",
       "      <td>28.42889</td>\n",
       "      <td>-81.31603</td>\n",
       "      <td>758</td>\n",
       "      <td>3</td>\n",
       "      <td>IAD</td>\n",
       "      <td>...</td>\n",
       "      <td>654</td>\n",
       "      <td>510</td>\n",
       "      <td>144.0</td>\n",
       "      <td>FL</td>\n",
       "      <td>VA</td>\n",
       "      <td>9.0</td>\n",
       "      <td>20.0</td>\n",
       "      <td>80</td>\n",
       "      <td>44.0</td>\n",
       "      <td>75.9</td>\n",
       "    </tr>\n",
       "    <tr>\n",
       "      <th>1759274</th>\n",
       "      <td>NK</td>\n",
       "      <td>27</td>\n",
       "      <td>5</td>\n",
       "      <td>-8.0</td>\n",
       "      <td>TPA</td>\n",
       "      <td>27.97547</td>\n",
       "      <td>-82.53325</td>\n",
       "      <td>1012</td>\n",
       "      <td>2</td>\n",
       "      <td>ORD</td>\n",
       "      <td>...</td>\n",
       "      <td>736</td>\n",
       "      <td>515</td>\n",
       "      <td>161.0</td>\n",
       "      <td>FL</td>\n",
       "      <td>IL</td>\n",
       "      <td>3.0</td>\n",
       "      <td>24.0</td>\n",
       "      <td>58</td>\n",
       "      <td>6.0</td>\n",
       "      <td>57.9</td>\n",
       "    </tr>\n",
       "    <tr>\n",
       "      <th>3873367</th>\n",
       "      <td>WN</td>\n",
       "      <td>13</td>\n",
       "      <td>4</td>\n",
       "      <td>92.0</td>\n",
       "      <td>ROC</td>\n",
       "      <td>43.11887</td>\n",
       "      <td>-77.67238</td>\n",
       "      <td>523</td>\n",
       "      <td>8</td>\n",
       "      <td>MDW</td>\n",
       "      <td>...</td>\n",
       "      <td>30</td>\n",
       "      <td>1320</td>\n",
       "      <td>90.0</td>\n",
       "      <td>NY</td>\n",
       "      <td>IL</td>\n",
       "      <td>5.0</td>\n",
       "      <td>10.0</td>\n",
       "      <td>225</td>\n",
       "      <td>73.8</td>\n",
       "      <td>65.2</td>\n",
       "    </tr>\n",
       "    <tr>\n",
       "      <th>1745245</th>\n",
       "      <td>EV</td>\n",
       "      <td>26</td>\n",
       "      <td>4</td>\n",
       "      <td>-11.0</td>\n",
       "      <td>IAH</td>\n",
       "      <td>29.98047</td>\n",
       "      <td>-95.33972</td>\n",
       "      <td>201</td>\n",
       "      <td>2</td>\n",
       "      <td>CRP</td>\n",
       "      <td>...</td>\n",
       "      <td>397</td>\n",
       "      <td>335</td>\n",
       "      <td>62.0</td>\n",
       "      <td>TX</td>\n",
       "      <td>TX</td>\n",
       "      <td>11.0</td>\n",
       "      <td>13.0</td>\n",
       "      <td>57</td>\n",
       "      <td>51.7</td>\n",
       "      <td>40.5</td>\n",
       "    </tr>\n",
       "    <tr>\n",
       "      <th>871554</th>\n",
       "      <td>MQ</td>\n",
       "      <td>10</td>\n",
       "      <td>1</td>\n",
       "      <td>216.0</td>\n",
       "      <td>ORD</td>\n",
       "      <td>41.97960</td>\n",
       "      <td>-87.90446</td>\n",
       "      <td>642</td>\n",
       "      <td>8</td>\n",
       "      <td>RIC</td>\n",
       "      <td>...</td>\n",
       "      <td>983</td>\n",
       "      <td>901</td>\n",
       "      <td>142.0</td>\n",
       "      <td>IL</td>\n",
       "      <td>VA</td>\n",
       "      <td>11.0</td>\n",
       "      <td>24.0</td>\n",
       "      <td>222</td>\n",
       "      <td>73.8</td>\n",
       "      <td>75.1</td>\n",
       "    </tr>\n",
       "  </tbody>\n",
       "</table>\n",
       "<p>10000 rows × 22 columns</p>\n",
       "</div>"
      ],
      "text/plain": [
       "        airline  day  day_of_week  departure_delay destination_airport  \\\n",
       "3093131      UA   23            3             -4.0                 IAD   \n",
       "3749631      EV    3            2             -6.0                 DAY   \n",
       "780302       DL   26            7             59.0                 SLC   \n",
       "211185       UA   31            2             -9.0                 ORD   \n",
       "3662322      OO    7            7              0.0                 LIT   \n",
       "...         ...  ...          ...              ...                 ...   \n",
       "1923222      UA   21            6              3.0                 MCO   \n",
       "1759274      NK   27            5             -8.0                 TPA   \n",
       "3873367      WN   13            4             92.0                 ROC   \n",
       "1745245      EV   26            4            -11.0                 IAH   \n",
       "871554       MQ   10            1            216.0                 ORD   \n",
       "\n",
       "         destination_latitude  destination_longitude  distance  month  \\\n",
       "3093131              38.94453              -77.45581      1956      9   \n",
       "3749631              39.90238              -84.21938       533      3   \n",
       "780302               40.78839             -111.97777      1195      7   \n",
       "211185               41.97960              -87.90446       802      3   \n",
       "3662322              34.72940              -92.22425       771      6   \n",
       "...                       ...                    ...       ...    ...   \n",
       "1923222              28.42889              -81.31603       758      3   \n",
       "1759274              27.97547              -82.53325      1012      2   \n",
       "3873367              43.11887              -77.67238       523      8   \n",
       "1745245              29.98047              -95.33972       201      2   \n",
       "871554               41.97960              -87.90446       642      8   \n",
       "\n",
       "        origin_airport  ...  scheduled_arrival  scheduled_departure  \\\n",
       "3093131            PHX  ...                890                  450   \n",
       "3749631            EWR  ...                585                  465   \n",
       "780302             IAH  ...               1265                 1135   \n",
       "211185             DFW  ...                567                  425   \n",
       "3662322            DEN  ...                783                  595   \n",
       "...                ...  ...                ...                  ...   \n",
       "1923222            IAD  ...                654                  510   \n",
       "1759274            ORD  ...                736                  515   \n",
       "3873367            MDW  ...                 30                 1320   \n",
       "1745245            CRP  ...                397                  335   \n",
       "871554             RIC  ...                983                  901   \n",
       "\n",
       "         scheduled_time  state_destination  state_origin taxi_in taxi_out  \\\n",
       "3093131           260.0                 VA            AZ     5.0     10.0   \n",
       "3749631           120.0                 OH            NJ     6.0     12.0   \n",
       "780302            190.0                 UT            TX     5.0     17.0   \n",
       "211185            142.0                 IL            TX    17.0     17.0   \n",
       "3662322           128.0                 AR            CO     6.0     20.0   \n",
       "...                 ...                ...           ...     ...      ...   \n",
       "1923222           144.0                 FL            VA     9.0     20.0   \n",
       "1759274           161.0                 FL            IL     3.0     24.0   \n",
       "3873367            90.0                 NY            IL     5.0     10.0   \n",
       "1745245            62.0                 TX            TX    11.0     13.0   \n",
       "871554            142.0                 IL            VA    11.0     24.0   \n",
       "\n",
       "         day_of_year  origin_temperature  destination_temperature  \n",
       "3093131          266                80.7                     69.8  \n",
       "3749631           62                27.0                     26.4  \n",
       "780302           207                87.0                     82.5  \n",
       "211185            90                71.5                     48.7  \n",
       "3662322          158                64.6                     82.2  \n",
       "...              ...                 ...                      ...  \n",
       "1923222           80                44.0                     75.9  \n",
       "1759274           58                 6.0                     57.9  \n",
       "3873367          225                73.8                     65.2  \n",
       "1745245           57                51.7                     40.5  \n",
       "871554           222                73.8                     75.1  \n",
       "\n",
       "[10000 rows x 22 columns]"
      ]
     },
     "execution_count": 3,
     "metadata": {},
     "output_type": "execute_result"
    }
   ],
   "source": [
    "flights = pd.read_csv('data/flights_clean.csv').sample(10000)\n",
    "flights"
   ]
  },
  {
   "cell_type": "code",
   "execution_count": 4,
   "id": "1d4cf7e8",
   "metadata": {},
   "outputs": [],
   "source": [
    "pre_y = flights.departure_delay"
   ]
  },
  {
   "cell_type": "code",
   "execution_count": 5,
   "id": "ba012cac",
   "metadata": {},
   "outputs": [],
   "source": [
    "pre_X = flights.drop(columns=['departure_delay', 'airline', 'destination_airport',\n",
    "                              'origin_airport', 'state_destination', 'state_origin'])"
   ]
  },
  {
   "cell_type": "code",
   "execution_count": 6,
   "id": "720719fc",
   "metadata": {},
   "outputs": [],
   "source": [
    "X, X_test, y, y_test = train_test_split(pre_X, pre_y)"
   ]
  },
  {
   "cell_type": "code",
   "execution_count": 7,
   "id": "bf2448e9",
   "metadata": {},
   "outputs": [],
   "source": [
    "scaler = StandardScaler()\n",
    "scaler.fit(X)\n",
    "Xstd = scaler.transform(X)"
   ]
  },
  {
   "cell_type": "code",
   "execution_count": 8,
   "id": "4f3580d3",
   "metadata": {},
   "outputs": [],
   "source": [
    "#Creating a range of values of the tuning parameter to visualize the lasso coefficients\n",
    "#for different values of the tuning parameter\n",
    "alphas = 10**np.linspace(10,-2,100)*0.1"
   ]
  },
  {
   "cell_type": "code",
   "execution_count": 9,
   "id": "273265ed",
   "metadata": {},
   "outputs": [],
   "source": [
    "#Finding the lasso coefficients for increasing values of the tuning parameter\n",
    "lasso = Lasso(max_iter = 10000)\n",
    "coefs = []\n",
    "\n",
    "for a in alphas:\n",
    "    lasso.set_params(alpha=a)\n",
    "    lasso.fit(Xstd, y)\n",
    "    coefs.append(lasso.coef_)"
   ]
  },
  {
   "cell_type": "code",
   "execution_count": 10,
   "id": "b6d38af2",
   "metadata": {},
   "outputs": [
    {
     "data": {
      "text/plain": [
       "Text(0, 0.5, 'Standardized coefficient')"
      ]
     },
     "execution_count": 10,
     "metadata": {},
     "output_type": "execute_result"
    },
    {
     "data": {
      "image/png": "[encoded data removed]",
      "text/plain": [
       "<Figure size 432x288 with 1 Axes>"
      ]
     },
     "metadata": {
      "needs_background": "light"
     },
     "output_type": "display_data"
    }
   ],
   "source": [
    "#Visualizing the shrinkage in lasso coefficients with increasing values of the tuning parameter lambda\n",
    "plt.xlabel('xlabel', fontsize=18)\n",
    "plt.ylabel('ylabel', fontsize=18)\n",
    "plt.plot(alphas, coefs)\n",
    "plt.xscale('log')\n",
    "plt.xlabel('$\\lambda$')\n",
    "plt.ylabel('Standardized coefficient')\n",
    "#plt.plot([lassocv.alpha_,lassocv.alpha_],[-0.4,0.25],':')"
   ]
  },
  {
   "cell_type": "code",
   "execution_count": 11,
   "id": "3e1be418",
   "metadata": {},
   "outputs": [
    {
     "data": {
      "text/plain": [
       "0.19137472392581564"
      ]
     },
     "execution_count": 11,
     "metadata": {},
     "output_type": "execute_result"
    }
   ],
   "source": [
    "#Let us use cross validation to find the optimal value of the tuning parameter - lambda\n",
    "#For the optimal lambda, the cross validation error will be the least\n",
    "\n",
    "#Note that we are reducing the range of alpha so as to better visualize the minimum\n",
    "alphas = 10**np.linspace(1,-5,200)*0.5\n",
    "lassocv = LassoCV(alphas = alphas, cv = 10, max_iter = 100000)\n",
    "lassocv.fit(Xstd, y)\n",
    "\n",
    "#Optimal value of the tuning parameter - lamda\n",
    "lassocv.alpha_"
   ]
  },
  {
   "cell_type": "code",
   "execution_count": 19,
   "id": "4e7bb42d",
   "metadata": {},
   "outputs": [
    {
     "data": {
      "text/plain": [
       "Text(0, 0.5, 'Cross-validation error')"
      ]
     },
     "execution_count": 19,
     "metadata": {},
     "output_type": "execute_result"
    },
    {
     "data": {
      "image/png": "[encoded data removed]",
      "text/plain": [
       "<Figure size 432x288 with 1 Axes>"
      ]
     },
     "metadata": {
      "needs_background": "light"
     },
     "output_type": "display_data"
    }
   ],
   "source": [
    "#Visualizing the LOOCV (leave one out cross validatation error vs lambda)\n",
    "plt.xlabel('xlabel', fontsize=18)\n",
    "plt.ylabel('ylabel', fontsize=18)\n",
    "plt.plot(lassocv.alphas_,lassocv.mse_path_.mean(axis=1))\n",
    "plt.plot([lassocv.alpha_,lassocv.alpha_],[1380,1420],':')\n",
    "plt.xlabel('$\\lambda$')\n",
    "plt.ylabel('Cross-validation error')"
   ]
  },
  {
   "cell_type": "code",
   "execution_count": 13,
   "id": "ae725542",
   "metadata": {},
   "outputs": [
    {
     "data": {
      "text/plain": [
       "[<matplotlib.lines.Line2D at 0x7f846076f910>]"
      ]
     },
     "execution_count": 13,
     "metadata": {},
     "output_type": "execute_result"
    },
    {
     "data": {
      "image/png": "[encoded data removed]",
      "text/plain": [
       "<Figure size 432x288 with 1 Axes>"
      ]
     },
     "metadata": {
      "needs_background": "light"
     },
     "output_type": "display_data"
    }
   ],
   "source": [
    "#Visualizing the shrinkage in lasso coefficients with increasing values of the tuning parameter lambda\n",
    "alphas = 10**np.linspace(10,-2,100)*0.1\n",
    "plt.xlabel('xlabel', fontsize=18)\n",
    "plt.ylabel('ylabel', fontsize=18)\n",
    "plt.plot(alphas, coefs)\n",
    "plt.xscale('log')\n",
    "plt.xlabel('$\\lambda$')\n",
    "plt.ylabel('Standardized coefficient')\n",
    "plt.plot([lassocv.alpha_,lassocv.alpha_],[-10,10],':')"
   ]
  },
  {
   "cell_type": "code",
   "execution_count": 14,
   "id": "70a45f6c",
   "metadata": {},
   "outputs": [],
   "source": [
    "Xtest_std = scaler.transform(X_test)"
   ]
  },
  {
   "cell_type": "code",
   "execution_count": 15,
   "id": "f9a967fd",
   "metadata": {},
   "outputs": [],
   "source": [
    "#Using the developed lasso model to predict on test data\n",
    "lasso = Lasso(alpha = lassocv.alpha_)\n",
    "lasso.fit(Xstd, y)\n",
    "pred=lasso.predict(Xtest_std)"
   ]
  },
  {
   "cell_type": "code",
   "execution_count": 16,
   "id": "4ab57465",
   "metadata": {},
   "outputs": [
    {
     "data": {
      "text/plain": [
       "45.12435787720725"
      ]
     },
     "execution_count": 16,
     "metadata": {},
     "output_type": "execute_result"
    }
   ],
   "source": [
    "#RMSE on test data\n",
    "np.sqrt(((pred-y_test)**2).mean())"
   ]
  },
  {
   "cell_type": "code",
   "execution_count": 17,
   "id": "2995980c",
   "metadata": {},
   "outputs": [
    {
     "data": {
      "text/plain": [
       "45.49223326981368"
      ]
     },
     "execution_count": 17,
     "metadata": {},
     "output_type": "execute_result"
    }
   ],
   "source": [
    "y_test.std()"
   ]
  },
  {
   "cell_type": "code",
   "execution_count": 18,
   "id": "6f94ee9a",
   "metadata": {},
   "outputs": [
    {
     "data": {
      "text/plain": [
       "35.93799090385437"
      ]
     },
     "execution_count": 18,
     "metadata": {},
     "output_type": "execute_result"
    }
   ],
   "source": [
    "toc = time.time()\n",
    "toc - tic"
   ]
  },
  {
   "cell_type": "code",
   "execution_count": 4,
   "id": "7191f756",
   "metadata": {},
   "outputs": [],
   "source": [
    "tic_dummy = time.time()"
   ]
  },
  {
   "cell_type": "code",
   "execution_count": 5,
   "id": "89a8f39f",
   "metadata": {},
   "outputs": [
    {
     "data": {
      "text/html": [
       "<div>\n",
       "<style scoped>\n",
       "    .dataframe tbody tr th:only-of-type {\n",
       "        vertical-align: middle;\n",
       "    }\n",
       "\n",
       "    .dataframe tbody tr th {\n",
       "        vertical-align: top;\n",
       "    }\n",
       "\n",
       "    .dataframe thead th {\n",
       "        text-align: right;\n",
       "    }\n",
       "</style>\n",
       "<table border=\"1\" class=\"dataframe\">\n",
       "  <thead>\n",
       "    <tr style=\"text-align: right;\">\n",
       "      <th></th>\n",
       "      <th>day</th>\n",
       "      <th>day_of_week</th>\n",
       "      <th>day_of_year</th>\n",
       "      <th>departure_delay</th>\n",
       "      <th>destination_latitude</th>\n",
       "      <th>destination_longitude</th>\n",
       "      <th>destination_temperature</th>\n",
       "      <th>distance</th>\n",
       "      <th>month</th>\n",
       "      <th>origin_latitude</th>\n",
       "      <th>...</th>\n",
       "      <th>destination_airport_BTV</th>\n",
       "      <th>destination_airport_DTW</th>\n",
       "      <th>destination_airport_FNT</th>\n",
       "      <th>origin_airport_CMH</th>\n",
       "      <th>origin_airport_IAD</th>\n",
       "      <th>origin_airport_LNK</th>\n",
       "      <th>origin_airport_RIC</th>\n",
       "      <th>state_destination_MI</th>\n",
       "      <th>state_destination_VT</th>\n",
       "      <th>state_origin_NE</th>\n",
       "    </tr>\n",
       "  </thead>\n",
       "  <tbody>\n",
       "    <tr>\n",
       "      <th>158862</th>\n",
       "      <td>15</td>\n",
       "      <td>7</td>\n",
       "      <td>74</td>\n",
       "      <td>37.0</td>\n",
       "      <td>33.43417</td>\n",
       "      <td>-112.00806</td>\n",
       "      <td>76.3</td>\n",
       "      <td>651</td>\n",
       "      <td>3</td>\n",
       "      <td>37.61900</td>\n",
       "      <td>...</td>\n",
       "      <td>0</td>\n",
       "      <td>0</td>\n",
       "      <td>0</td>\n",
       "      <td>0</td>\n",
       "      <td>0</td>\n",
       "      <td>0</td>\n",
       "      <td>0</td>\n",
       "      <td>0</td>\n",
       "      <td>0</td>\n",
       "      <td>0</td>\n",
       "    </tr>\n",
       "    <tr>\n",
       "      <th>242250</th>\n",
       "      <td>10</td>\n",
       "      <td>5</td>\n",
       "      <td>100</td>\n",
       "      <td>-2.0</td>\n",
       "      <td>45.58872</td>\n",
       "      <td>-122.59750</td>\n",
       "      <td>35.9</td>\n",
       "      <td>933</td>\n",
       "      <td>4</td>\n",
       "      <td>32.73356</td>\n",
       "      <td>...</td>\n",
       "      <td>0</td>\n",
       "      <td>0</td>\n",
       "      <td>0</td>\n",
       "      <td>0</td>\n",
       "      <td>0</td>\n",
       "      <td>0</td>\n",
       "      <td>0</td>\n",
       "      <td>0</td>\n",
       "      <td>0</td>\n",
       "      <td>0</td>\n",
       "    </tr>\n",
       "    <tr>\n",
       "      <th>3148797</th>\n",
       "      <td>1</td>\n",
       "      <td>7</td>\n",
       "      <td>305</td>\n",
       "      <td>31.0</td>\n",
       "      <td>35.21401</td>\n",
       "      <td>-80.94313</td>\n",
       "      <td>58.4</td>\n",
       "      <td>468</td>\n",
       "      <td>11</td>\n",
       "      <td>28.42889</td>\n",
       "      <td>...</td>\n",
       "      <td>0</td>\n",
       "      <td>0</td>\n",
       "      <td>0</td>\n",
       "      <td>0</td>\n",
       "      <td>0</td>\n",
       "      <td>0</td>\n",
       "      <td>0</td>\n",
       "      <td>0</td>\n",
       "      <td>0</td>\n",
       "      <td>0</td>\n",
       "    </tr>\n",
       "    <tr>\n",
       "      <th>3555875</th>\n",
       "      <td>28</td>\n",
       "      <td>1</td>\n",
       "      <td>362</td>\n",
       "      <td>1.0</td>\n",
       "      <td>36.08036</td>\n",
       "      <td>-115.15233</td>\n",
       "      <td>38.7</td>\n",
       "      <td>414</td>\n",
       "      <td>12</td>\n",
       "      <td>37.61900</td>\n",
       "      <td>...</td>\n",
       "      <td>0</td>\n",
       "      <td>0</td>\n",
       "      <td>0</td>\n",
       "      <td>0</td>\n",
       "      <td>0</td>\n",
       "      <td>0</td>\n",
       "      <td>0</td>\n",
       "      <td>0</td>\n",
       "      <td>0</td>\n",
       "      <td>0</td>\n",
       "    </tr>\n",
       "    <tr>\n",
       "      <th>1020775</th>\n",
       "      <td>7</td>\n",
       "      <td>1</td>\n",
       "      <td>250</td>\n",
       "      <td>-6.0</td>\n",
       "      <td>43.64617</td>\n",
       "      <td>-70.30875</td>\n",
       "      <td>59.7</td>\n",
       "      <td>273</td>\n",
       "      <td>9</td>\n",
       "      <td>40.63975</td>\n",
       "      <td>...</td>\n",
       "      <td>0</td>\n",
       "      <td>0</td>\n",
       "      <td>0</td>\n",
       "      <td>0</td>\n",
       "      <td>0</td>\n",
       "      <td>0</td>\n",
       "      <td>0</td>\n",
       "      <td>0</td>\n",
       "      <td>0</td>\n",
       "      <td>0</td>\n",
       "    </tr>\n",
       "    <tr>\n",
       "      <th>...</th>\n",
       "      <td>...</td>\n",
       "      <td>...</td>\n",
       "      <td>...</td>\n",
       "      <td>...</td>\n",
       "      <td>...</td>\n",
       "      <td>...</td>\n",
       "      <td>...</td>\n",
       "      <td>...</td>\n",
       "      <td>...</td>\n",
       "      <td>...</td>\n",
       "      <td>...</td>\n",
       "      <td>...</td>\n",
       "      <td>...</td>\n",
       "      <td>...</td>\n",
       "      <td>...</td>\n",
       "      <td>...</td>\n",
       "      <td>...</td>\n",
       "      <td>...</td>\n",
       "      <td>...</td>\n",
       "      <td>...</td>\n",
       "      <td>...</td>\n",
       "    </tr>\n",
       "    <tr>\n",
       "      <th>70772</th>\n",
       "      <td>4</td>\n",
       "      <td>3</td>\n",
       "      <td>35</td>\n",
       "      <td>4.0</td>\n",
       "      <td>33.43417</td>\n",
       "      <td>-112.00806</td>\n",
       "      <td>63.4</td>\n",
       "      <td>843</td>\n",
       "      <td>2</td>\n",
       "      <td>29.53369</td>\n",
       "      <td>...</td>\n",
       "      <td>0</td>\n",
       "      <td>0</td>\n",
       "      <td>0</td>\n",
       "      <td>0</td>\n",
       "      <td>0</td>\n",
       "      <td>0</td>\n",
       "      <td>0</td>\n",
       "      <td>0</td>\n",
       "      <td>0</td>\n",
       "      <td>0</td>\n",
       "    </tr>\n",
       "    <tr>\n",
       "      <th>1005884</th>\n",
       "      <td>3</td>\n",
       "      <td>4</td>\n",
       "      <td>246</td>\n",
       "      <td>1.0</td>\n",
       "      <td>37.61900</td>\n",
       "      <td>-122.37484</td>\n",
       "      <td>63.9</td>\n",
       "      <td>651</td>\n",
       "      <td>9</td>\n",
       "      <td>33.43417</td>\n",
       "      <td>...</td>\n",
       "      <td>0</td>\n",
       "      <td>0</td>\n",
       "      <td>0</td>\n",
       "      <td>0</td>\n",
       "      <td>0</td>\n",
       "      <td>0</td>\n",
       "      <td>0</td>\n",
       "      <td>0</td>\n",
       "      <td>0</td>\n",
       "      <td>0</td>\n",
       "    </tr>\n",
       "    <tr>\n",
       "      <th>2612715</th>\n",
       "      <td>2</td>\n",
       "      <td>4</td>\n",
       "      <td>183</td>\n",
       "      <td>18.0</td>\n",
       "      <td>40.77724</td>\n",
       "      <td>-73.87261</td>\n",
       "      <td>75.7</td>\n",
       "      <td>1620</td>\n",
       "      <td>7</td>\n",
       "      <td>39.85841</td>\n",
       "      <td>...</td>\n",
       "      <td>0</td>\n",
       "      <td>0</td>\n",
       "      <td>0</td>\n",
       "      <td>0</td>\n",
       "      <td>0</td>\n",
       "      <td>0</td>\n",
       "      <td>0</td>\n",
       "      <td>0</td>\n",
       "      <td>0</td>\n",
       "      <td>0</td>\n",
       "    </tr>\n",
       "    <tr>\n",
       "      <th>1568490</th>\n",
       "      <td>3</td>\n",
       "      <td>2</td>\n",
       "      <td>34</td>\n",
       "      <td>-5.0</td>\n",
       "      <td>32.89595</td>\n",
       "      <td>-97.03720</td>\n",
       "      <td>39.8</td>\n",
       "      <td>1303</td>\n",
       "      <td>2</td>\n",
       "      <td>39.87195</td>\n",
       "      <td>...</td>\n",
       "      <td>0</td>\n",
       "      <td>0</td>\n",
       "      <td>0</td>\n",
       "      <td>0</td>\n",
       "      <td>0</td>\n",
       "      <td>0</td>\n",
       "      <td>0</td>\n",
       "      <td>0</td>\n",
       "      <td>0</td>\n",
       "      <td>0</td>\n",
       "    </tr>\n",
       "    <tr>\n",
       "      <th>1007944</th>\n",
       "      <td>3</td>\n",
       "      <td>4</td>\n",
       "      <td>246</td>\n",
       "      <td>6.0</td>\n",
       "      <td>39.85841</td>\n",
       "      <td>-104.66700</td>\n",
       "      <td>75.3</td>\n",
       "      <td>895</td>\n",
       "      <td>9</td>\n",
       "      <td>41.78598</td>\n",
       "      <td>...</td>\n",
       "      <td>0</td>\n",
       "      <td>0</td>\n",
       "      <td>0</td>\n",
       "      <td>0</td>\n",
       "      <td>0</td>\n",
       "      <td>0</td>\n",
       "      <td>0</td>\n",
       "      <td>0</td>\n",
       "      <td>0</td>\n",
       "      <td>0</td>\n",
       "    </tr>\n",
       "  </tbody>\n",
       "</table>\n",
       "<p>10000 rows × 30 columns</p>\n",
       "</div>"
      ],
      "text/plain": [
       "         day  day_of_week  day_of_year  departure_delay  destination_latitude  \\\n",
       "158862    15            7           74             37.0              33.43417   \n",
       "242250    10            5          100             -2.0              45.58872   \n",
       "3148797    1            7          305             31.0              35.21401   \n",
       "3555875   28            1          362              1.0              36.08036   \n",
       "1020775    7            1          250             -6.0              43.64617   \n",
       "...      ...          ...          ...              ...                   ...   \n",
       "70772      4            3           35              4.0              33.43417   \n",
       "1005884    3            4          246              1.0              37.61900   \n",
       "2612715    2            4          183             18.0              40.77724   \n",
       "1568490    3            2           34             -5.0              32.89595   \n",
       "1007944    3            4          246              6.0              39.85841   \n",
       "\n",
       "         destination_longitude  destination_temperature  distance  month  \\\n",
       "158862              -112.00806                     76.3       651      3   \n",
       "242250              -122.59750                     35.9       933      4   \n",
       "3148797              -80.94313                     58.4       468     11   \n",
       "3555875             -115.15233                     38.7       414     12   \n",
       "1020775              -70.30875                     59.7       273      9   \n",
       "...                        ...                      ...       ...    ...   \n",
       "70772               -112.00806                     63.4       843      2   \n",
       "1005884             -122.37484                     63.9       651      9   \n",
       "2612715              -73.87261                     75.7      1620      7   \n",
       "1568490              -97.03720                     39.8      1303      2   \n",
       "1007944             -104.66700                     75.3       895      9   \n",
       "\n",
       "         origin_latitude  ...  destination_airport_BTV  \\\n",
       "158862          37.61900  ...                        0   \n",
       "242250          32.73356  ...                        0   \n",
       "3148797         28.42889  ...                        0   \n",
       "3555875         37.61900  ...                        0   \n",
       "1020775         40.63975  ...                        0   \n",
       "...                  ...  ...                      ...   \n",
       "70772           29.53369  ...                        0   \n",
       "1005884         33.43417  ...                        0   \n",
       "2612715         39.85841  ...                        0   \n",
       "1568490         39.87195  ...                        0   \n",
       "1007944         41.78598  ...                        0   \n",
       "\n",
       "         destination_airport_DTW  destination_airport_FNT  origin_airport_CMH  \\\n",
       "158862                         0                        0                   0   \n",
       "242250                         0                        0                   0   \n",
       "3148797                        0                        0                   0   \n",
       "3555875                        0                        0                   0   \n",
       "1020775                        0                        0                   0   \n",
       "...                          ...                      ...                 ...   \n",
       "70772                          0                        0                   0   \n",
       "1005884                        0                        0                   0   \n",
       "2612715                        0                        0                   0   \n",
       "1568490                        0                        0                   0   \n",
       "1007944                        0                        0                   0   \n",
       "\n",
       "         origin_airport_IAD  origin_airport_LNK  origin_airport_RIC  \\\n",
       "158862                    0                   0                   0   \n",
       "242250                    0                   0                   0   \n",
       "3148797                   0                   0                   0   \n",
       "3555875                   0                   0                   0   \n",
       "1020775                   0                   0                   0   \n",
       "...                     ...                 ...                 ...   \n",
       "70772                     0                   0                   0   \n",
       "1005884                   0                   0                   0   \n",
       "2612715                   0                   0                   0   \n",
       "1568490                   0                   0                   0   \n",
       "1007944                   0                   0                   0   \n",
       "\n",
       "         state_destination_MI  state_destination_VT  state_origin_NE  \n",
       "158862                      0                     0                0  \n",
       "242250                      0                     0                0  \n",
       "3148797                     0                     0                0  \n",
       "3555875                     0                     0                0  \n",
       "1020775                     0                     0                0  \n",
       "...                       ...                   ...              ...  \n",
       "70772                       0                     0                0  \n",
       "1005884                     0                     0                0  \n",
       "2612715                     0                     0                0  \n",
       "1568490                     0                     0                0  \n",
       "1007944                     0                     0                0  \n",
       "\n",
       "[10000 rows x 30 columns]"
      ]
     },
     "execution_count": 5,
     "metadata": {},
     "output_type": "execute_result"
    }
   ],
   "source": [
    "flights = pd.read_csv('data/flights_clean_numerical_significant.csv').sample(10000)\n",
    "flights"
   ]
  },
  {
   "cell_type": "code",
   "execution_count": 6,
   "id": "11f39fe4",
   "metadata": {},
   "outputs": [],
   "source": [
    "pre_y = flights.departure_delay"
   ]
  },
  {
   "cell_type": "code",
   "execution_count": 7,
   "id": "fb7bc845",
   "metadata": {},
   "outputs": [],
   "source": [
    "pre_X = flights.drop(columns=['departure_delay'])"
   ]
  },
  {
   "cell_type": "code",
   "execution_count": 8,
   "id": "c6b6c67b",
   "metadata": {},
   "outputs": [],
   "source": [
    "X, X_test, y, y_test = train_test_split(pre_X, pre_y)"
   ]
  },
  {
   "cell_type": "code",
   "execution_count": 9,
   "id": "1a86f060",
   "metadata": {},
   "outputs": [],
   "source": [
    "scaler = StandardScaler()\n",
    "scaler.fit(X)\n",
    "Xstd = scaler.transform(X)"
   ]
  },
  {
   "cell_type": "code",
   "execution_count": 10,
   "id": "c297fcae",
   "metadata": {},
   "outputs": [],
   "source": [
    "#Creating a range of values of the tuning parameter to visualize the lasso coefficients\n",
    "#for different values of the tuning parameter\n",
    "alphas = 10**np.linspace(10,-2,100)*0.1"
   ]
  },
  {
   "cell_type": "code",
   "execution_count": 11,
   "id": "edb76796",
   "metadata": {},
   "outputs": [
    {
     "name": "stderr",
     "output_type": "stream",
     "text": [
      "/Applications/anaconda3/lib/python3.8/site-packages/sklearn/linear_model/_coordinate_descent.py:647: ConvergenceWarning: Objective did not converge. You might want to increase the number of iterations, check the scale of the features or consider increasing regularisation. Duality gap: 3.987e+04, tolerance: 9.742e+02\n",
      "  model = cd_fast.enet_coordinate_descent(\n"
     ]
    }
   ],
   "source": [
    "#Finding the lasso coefficients for increasing values of the tuning parameter\n",
    "lasso = Lasso(max_iter = 10000)\n",
    "coefs = []\n",
    "\n",
    "for a in alphas:\n",
    "    lasso.set_params(alpha=a)\n",
    "    lasso.fit(Xstd, y)\n",
    "    coefs.append(lasso.coef_)"
   ]
  },
  {
   "cell_type": "code",
   "execution_count": 12,
   "id": "3edd29db",
   "metadata": {},
   "outputs": [
    {
     "data": {
      "text/plain": [
       "Text(0, 0.5, 'Standardized coefficient')"
      ]
     },
     "execution_count": 12,
     "metadata": {},
     "output_type": "execute_result"
    },
    {
     "data": {
      "image/png": "[encoded data removed]",
      "text/plain": [
       "<Figure size 432x288 with 1 Axes>"
      ]
     },
     "metadata": {
      "needs_background": "light"
     },
     "output_type": "display_data"
    }
   ],
   "source": [
    "#Visualizing the shrinkage in lasso coefficients with increasing values of the tuning parameter lambda\n",
    "plt.xlabel('xlabel', fontsize=18)\n",
    "plt.ylabel('ylabel', fontsize=18)\n",
    "plt.plot(alphas, coefs)\n",
    "plt.xscale('log')\n",
    "plt.xlabel('$\\lambda$')\n",
    "plt.ylabel('Standardized coefficient')\n",
    "#plt.plot([lassocv.alpha_,lassocv.alpha_],[-0.4,0.25],':')"
   ]
  },
  {
   "cell_type": "code",
   "execution_count": 13,
   "id": "e5c7a96d",
   "metadata": {},
   "outputs": [
    {
     "data": {
      "text/plain": [
       "0.3334959831515061"
      ]
     },
     "execution_count": 13,
     "metadata": {},
     "output_type": "execute_result"
    }
   ],
   "source": [
    "#Let us use cross validation to find the optimal value of the tuning parameter - lambda\n",
    "#For the optimal lambda, the cross validation error will be the least\n",
    "\n",
    "#Note that we are reducing the range of alpha so as to better visualize the minimum\n",
    "alphas = 10**np.linspace(1,-5,200)*0.5\n",
    "lassocv = LassoCV(alphas = alphas, cv = 10, max_iter = 100000)\n",
    "lassocv.fit(Xstd, y)\n",
    "\n",
    "#Optimal value of the tuning parameter - lamda\n",
    "lassocv.alpha_"
   ]
  },
  {
   "cell_type": "code",
   "execution_count": 22,
   "id": "098a6f0e",
   "metadata": {},
   "outputs": [
    {
     "data": {
      "text/plain": [
       "Text(0, 0.5, 'Cross-validation error')"
      ]
     },
     "execution_count": 22,
     "metadata": {},
     "output_type": "execute_result"
    },
    {
     "data": {
      "image/png": "[encoded data removed]",
      "text/plain": [
       "<Figure size 432x288 with 1 Axes>"
      ]
     },
     "metadata": {
      "needs_background": "light"
     },
     "output_type": "display_data"
    }
   ],
   "source": [
    "#Visualizing the LOOCV (leave one out cross validatation error vs lambda)\n",
    "plt.xlabel('xlabel', fontsize=18)\n",
    "plt.ylabel('ylabel', fontsize=18)\n",
    "plt.plot(lassocv.alphas_,lassocv.mse_path_.mean(axis=1))\n",
    "plt.plot([lassocv.alpha_,lassocv.alpha_],[1260,1300],':')\n",
    "plt.xlabel('$\\lambda$')\n",
    "plt.ylabel('Cross-validation error')"
   ]
  },
  {
   "cell_type": "code",
   "execution_count": 23,
   "id": "11ebbab3",
   "metadata": {},
   "outputs": [
    {
     "data": {
      "text/plain": [
       "[<matplotlib.lines.Line2D at 0x7faab811e970>]"
      ]
     },
     "execution_count": 23,
     "metadata": {},
     "output_type": "execute_result"
    },
    {
     "data": {
      "image/png": "[encoded data removed]",
      "text/plain": [
       "<Figure size 432x288 with 1 Axes>"
      ]
     },
     "metadata": {
      "needs_background": "light"
     },
     "output_type": "display_data"
    }
   ],
   "source": [
    "#Visualizing the shrinkage in lasso coefficients with increasing values of the tuning parameter lambda\n",
    "alphas = 10**np.linspace(10,-2,100)*0.1\n",
    "plt.xlabel('xlabel', fontsize=18)\n",
    "plt.ylabel('ylabel', fontsize=18)\n",
    "plt.plot(alphas, coefs)\n",
    "plt.xscale('log')\n",
    "plt.xlabel('$\\lambda$')\n",
    "plt.ylabel('Standardized coefficient')\n",
    "plt.plot([lassocv.alpha_,lassocv.alpha_],[-2,4],':')"
   ]
  },
  {
   "cell_type": "code",
   "execution_count": 16,
   "id": "2a82e4ef",
   "metadata": {},
   "outputs": [],
   "source": [
    "Xtest_std = scaler.transform(X_test)"
   ]
  },
  {
   "cell_type": "code",
   "execution_count": 17,
   "id": "d8b63532",
   "metadata": {},
   "outputs": [],
   "source": [
    "#Using the developed lasso model to predict on test data\n",
    "lasso = Lasso(alpha = lassocv.alpha_)\n",
    "lasso.fit(Xstd, y)\n",
    "pred=lasso.predict(Xtest_std)"
   ]
  },
  {
   "cell_type": "code",
   "execution_count": 18,
   "id": "e1163c47",
   "metadata": {},
   "outputs": [
    {
     "data": {
      "text/plain": [
       "34.582859396841656"
      ]
     },
     "execution_count": 18,
     "metadata": {},
     "output_type": "execute_result"
    }
   ],
   "source": [
    "#RMSE on test data\n",
    "np.sqrt(((pred-y_test)**2).mean())"
   ]
  },
  {
   "cell_type": "code",
   "execution_count": 19,
   "id": "e454aacc",
   "metadata": {},
   "outputs": [
    {
     "data": {
      "text/plain": [
       "35.07209314151246"
      ]
     },
     "execution_count": 19,
     "metadata": {},
     "output_type": "execute_result"
    }
   ],
   "source": [
    "y_test.std()"
   ]
  },
  {
   "cell_type": "code",
   "execution_count": 20,
   "id": "537130d4",
   "metadata": {},
   "outputs": [
    {
     "data": {
      "text/plain": [
       "80.68384265899658"
      ]
     },
     "execution_count": 20,
     "metadata": {},
     "output_type": "execute_result"
    }
   ],
   "source": [
    "toc_dummy = time.time()\n",
    "toc_dummy - tic_dummy"
   ]
  },
  {
   "cell_type": "code",
   "execution_count": 24,
   "id": "f1771b20",
   "metadata": {},
   "outputs": [
    {
     "data": {
      "text/plain": [
       "array([-2.94256363e-02, -6.33981685e-01, -2.03029173e-01, -9.59490032e-02,\n",
       "        5.13749255e-01,  0.00000000e+00,  0.00000000e+00, -0.00000000e+00,\n",
       "       -0.00000000e+00,  2.83596806e-01, -1.05772350e-03,  1.63783519e+00,\n",
       "        3.18037602e+00,  2.05440079e-01,  0.00000000e+00,  9.24215453e-01,\n",
       "       -1.06760601e+00,  1.38172566e+00,  2.74342939e+00, -1.54429622e-01,\n",
       "       -2.44703210e-01, -0.00000000e+00, -0.00000000e+00, -6.45305468e-01,\n",
       "       -8.18750897e-02,  1.61176135e-01, -0.00000000e+00, -4.31418341e-03,\n",
       "        4.64609577e-03])"
      ]
     },
     "execution_count": 24,
     "metadata": {},
     "output_type": "execute_result"
    }
   ],
   "source": [
    "lasso.coef_"
   ]
  },
  {
   "cell_type": "code",
   "execution_count": 45,
   "id": "899faae0",
   "metadata": {},
   "outputs": [
    {
     "name": "stdout",
     "output_type": "stream",
     "text": [
      "departure_delay =\n",
      "-0.029426 * day\n",
      "-0.633982 * day_of_week\n",
      "-0.203029 * day_of_year\n",
      "-0.095949 * destination_latitude\n",
      "+0.513749 * destination_longitude\n",
      "+0.283597 * origin_longitude\n",
      "-0.001058 * origin_temperature\n",
      "+1.637835 * scheduled_arrival\n",
      "+3.180376 * scheduled_departure\n",
      "+0.205440 * scheduled_time\n",
      "+0.924215 * taxi_out\n",
      "-1.067606 * airline_AS\n",
      "+1.381726 * airline_NK\n",
      "+2.743429 * airline_UA\n",
      "-0.154430 * destination_airport_BTV\n",
      "-0.244703 * destination_airport_DTW\n",
      "-0.645305 * origin_airport_IAD\n",
      "-0.081875 * origin_airport_LNK\n",
      "+0.161176 * origin_airport_RIC\n",
      "-0.004314 * state_destination_VT\n",
      "+0.004646 * state_origin_NE\n"
     ]
    }
   ],
   "source": [
    "print('departure_delay =')\n",
    "for i in range(len(X.columns)):\n",
    "    if lasso.coef_[i] != 0:\n",
    "        print('{:+3f} * {}'.format(lasso.coef_[i], X.columns[i]))"
   ]
  }
 ],
 "metadata": {
  "kernelspec": {
   "display_name": "Python 3",
   "language": "python",
   "name": "python3"
  },
  "language_info": {
   "codemirror_mode": {
    "name": "ipython",
    "version": 3
   },
   "file_extension": ".py",
   "mimetype": "text/x-python",
   "name": "python",
   "nbconvert_exporter": "python",
   "pygments_lexer": "ipython3",
   "version": "3.8.8"
  }
 },
 "nbformat": 4,
 "nbformat_minor": 5
}
